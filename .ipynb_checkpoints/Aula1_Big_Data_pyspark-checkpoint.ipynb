{
 "cells": [
  {
   "cell_type": "code",
   "execution_count": 1,
   "id": "d9df785f",
   "metadata": {},
   "outputs": [],
   "source": [
    "from pyspark import *\n",
    "from pyspark.sql import SparkSession\n",
    "from pyspark.sql.functions import *\n",
    "import pandas as pd\n",
    "import seaborn as sns\n",
    "import matplotlib.pyplot as plt"
   ]
  },
  {
   "cell_type": "markdown",
   "id": "55586a7b",
   "metadata": {},
   "source": [
    "# Big data e Deployment de Modelos\n",
    "\n",
    "Exemplo Aula Prof. Helder Prado Santos\n",
    "MBA Data Science Analytics USP/ESALQ\n",
    "\n",
    "## Utilizando Spark para Ler Arquivos com Grande Volume de Dados\n",
    "\n",
    "Documentação PySpark: https://spark.apache.org/docs/latest/api/python/reference/pyspark.pandas/index.html\n",
    "\n",
    "CONHECENDO NOSSOS DADOS <br>\n",
    "fonte: https://www.kaggle.com/datasets/yuanyuwendymu/airline-delay-and-cancellation-data-2009-2018?resource=download&select=2017.csv\n",
    "\n",
    "Airline Delay and Cancellation Data, 2009 - 2018 <br>\n",
    "pasta datasets -> dois arquivos -> 1 de aproximadamente 700MB e outro de aproximadamente 476MB"
   ]
  },
  {
   "cell_type": "markdown",
   "id": "0b3f2f42",
   "metadata": {},
   "source": [
    "# Dados Voos 2017"
   ]
  },
  {
   "cell_type": "code",
   "execution_count": 2,
   "id": "89b42592",
   "metadata": {},
   "outputs": [],
   "source": [
    "import os\n",
    "import sys\n",
    "\n",
    "os.environ['PYSPARK_PYTHON'] = sys.executable\n",
    "os.environ['PYSPARK_DRIVER_PYTHON'] = sys.executable"
   ]
  },
  {
   "cell_type": "code",
   "execution_count": 3,
   "id": "5af5f70a",
   "metadata": {},
   "outputs": [],
   "source": [
    "# Carregando a Base em spark\n",
    "\n",
    "#https://spark.apache.org/docs/latest/api/python/\n",
    "\n",
    "spark = SparkSession.builder.appName(\"ImportCSV\").getOrCreate()\n",
    "\n",
    "path = r'C:\\Users\\leomu\\OneDrive\\MBA\\Big Data\\Aula 1\\scripts\\datasets\\voos-avioes\\2017.csv'\n",
    "\n",
    "df = spark.read.format(\"csv\") \\\n",
    "    .option(\"header\", \"true\") \\\n",
    "    .option(\"inferSchema\", \"true\") \\\n",
    "    .load(path)"
   ]
  },
  {
   "cell_type": "code",
   "execution_count": 21,
   "id": "78055506",
   "metadata": {},
   "outputs": [
    {
     "data": {
      "text/html": [
       "<table border='1'>\n",
       "<tr><th>FL_DATE</th><th>OP_CARRIER</th><th>OP_CARRIER_FL_NUM</th><th>ORIGIN</th><th>DEST</th><th>CRS_DEP_TIME</th><th>DEP_TIME</th><th>DEP_DELAY</th><th>TAXI_OUT</th><th>WHEELS_OFF</th><th>WHEELS_ON</th><th>TAXI_IN</th><th>CRS_ARR_TIME</th><th>ARR_TIME</th><th>ARR_DELAY</th><th>CANCELLED</th><th>CANCELLATION_CODE</th><th>DIVERTED</th><th>CRS_ELAPSED_TIME</th><th>ACTUAL_ELAPSED_TIME</th><th>AIR_TIME</th><th>DISTANCE</th><th>CARRIER_DELAY</th><th>WEATHER_DELAY</th><th>NAS_DELAY</th><th>SECURITY_DELAY</th><th>LATE_AIRCRAFT_DELAY</th></tr>\n",
       "<tr><td>2017-01-01</td><td>AA</td><td>1</td><td>JFK</td><td>LAX</td><td>800</td><td>831.0</td><td>31.0</td><td>25.0</td><td>856.0</td><td>1143.0</td><td>26.0</td><td>1142</td><td>1209.0</td><td>27.0</td><td>0.0</td><td>null</td><td>0.0</td><td>402.0</td><td>398.0</td><td>347.0</td><td>2475.0</td><td>27.0</td><td>0.0</td><td>0.0</td><td>0.0</td><td>0.0</td></tr>\n",
       "<tr><td>2017-01-01</td><td>AA</td><td>2</td><td>LAX</td><td>JFK</td><td>900</td><td>934.0</td><td>34.0</td><td>34.0</td><td>1008.0</td><td>1757.0</td><td>12.0</td><td>1727</td><td>1809.0</td><td>42.0</td><td>0.0</td><td>null</td><td>0.0</td><td>327.0</td><td>335.0</td><td>289.0</td><td>2475.0</td><td>34.0</td><td>0.0</td><td>8.0</td><td>0.0</td><td>0.0</td></tr>\n",
       "<tr><td>2017-01-01</td><td>AA</td><td>4</td><td>LAX</td><td>JFK</td><td>1130</td><td>1221.0</td><td>51.0</td><td>20.0</td><td>1241.0</td><td>2025.0</td><td>15.0</td><td>1958</td><td>2040.0</td><td>42.0</td><td>0.0</td><td>null</td><td>0.0</td><td>328.0</td><td>319.0</td><td>284.0</td><td>2475.0</td><td>7.0</td><td>0.0</td><td>0.0</td><td>0.0</td><td>35.0</td></tr>\n",
       "<tr><td>2017-01-01</td><td>AA</td><td>5</td><td>DFW</td><td>HNL</td><td>1135</td><td>1252.0</td><td>77.0</td><td>19.0</td><td>1311.0</td><td>1744.0</td><td>5.0</td><td>1612</td><td>1749.0</td><td>97.0</td><td>0.0</td><td>null</td><td>0.0</td><td>517.0</td><td>537.0</td><td>513.0</td><td>3784.0</td><td>77.0</td><td>0.0</td><td>20.0</td><td>0.0</td><td>0.0</td></tr>\n",
       "<tr><td>2017-01-01</td><td>AA</td><td>6</td><td>OGG</td><td>DFW</td><td>1855</td><td>1855.0</td><td>0.0</td><td>16.0</td><td>1911.0</td><td>631.0</td><td>11.0</td><td>600</td><td>642.0</td><td>42.0</td><td>0.0</td><td>null</td><td>0.0</td><td>425.0</td><td>467.0</td><td>440.0</td><td>3711.0</td><td>0.0</td><td>0.0</td><td>42.0</td><td>0.0</td><td>0.0</td></tr>\n",
       "<tr><td>2017-01-01</td><td>AA</td><td>7</td><td>DFW</td><td>OGG</td><td>940</td><td>1619.0</td><td>399.0</td><td>12.0</td><td>1631.0</td><td>2031.0</td><td>6.0</td><td>1403</td><td>2037.0</td><td>394.0</td><td>0.0</td><td>null</td><td>0.0</td><td>503.0</td><td>498.0</td><td>480.0</td><td>3711.0</td><td>394.0</td><td>0.0</td><td>0.0</td><td>0.0</td><td>0.0</td></tr>\n",
       "<tr><td>2017-01-01</td><td>AA</td><td>8</td><td>HNL</td><td>DFW</td><td>1838</td><td>1903.0</td><td>25.0</td><td>19.0</td><td>1922.0</td><td>636.0</td><td>12.0</td><td>550</td><td>648.0</td><td>58.0</td><td>0.0</td><td>null</td><td>0.0</td><td>432.0</td><td>465.0</td><td>434.0</td><td>3784.0</td><td>25.0</td><td>0.0</td><td>33.0</td><td>0.0</td><td>0.0</td></tr>\n",
       "<tr><td>2017-01-01</td><td>AA</td><td>9</td><td>JFK</td><td>SFO</td><td>700</td><td>656.0</td><td>-4.0</td><td>22.0</td><td>718.0</td><td>1020.0</td><td>3.0</td><td>1045</td><td>1023.0</td><td>-22.0</td><td>0.0</td><td>null</td><td>0.0</td><td>405.0</td><td>387.0</td><td>362.0</td><td>2586.0</td><td>null</td><td>null</td><td>null</td><td>null</td><td>null</td></tr>\n",
       "<tr><td>2017-01-01</td><td>AA</td><td>10</td><td>LAX</td><td>JFK</td><td>2100</td><td>2100.0</td><td>0.0</td><td>15.0</td><td>2115.0</td><td>447.0</td><td>10.0</td><td>527</td><td>457.0</td><td>-30.0</td><td>0.0</td><td>null</td><td>0.0</td><td>327.0</td><td>297.0</td><td>272.0</td><td>2475.0</td><td>null</td><td>null</td><td>null</td><td>null</td><td>null</td></tr>\n",
       "<tr><td>2017-01-01</td><td>AA</td><td>12</td><td>SFO</td><td>JFK</td><td>1135</td><td>1130.0</td><td>-5.0</td><td>27.0</td><td>1157.0</td><td>1937.0</td><td>17.0</td><td>2018</td><td>1954.0</td><td>-24.0</td><td>0.0</td><td>null</td><td>0.0</td><td>343.0</td><td>324.0</td><td>280.0</td><td>2586.0</td><td>null</td><td>null</td><td>null</td><td>null</td><td>null</td></tr>\n",
       "<tr><td>2017-01-01</td><td>AA</td><td>14</td><td>OGG</td><td>LAX</td><td>2313</td><td>2350.0</td><td>37.0</td><td>9.0</td><td>2359.0</td><td>628.0</td><td>11.0</td><td>630</td><td>639.0</td><td>9.0</td><td>0.0</td><td>null</td><td>0.0</td><td>317.0</td><td>289.0</td><td>269.0</td><td>2486.0</td><td>null</td><td>null</td><td>null</td><td>null</td><td>null</td></tr>\n",
       "<tr><td>2017-01-01</td><td>AA</td><td>15</td><td>JFK</td><td>SFO</td><td>825</td><td>824.0</td><td>-1.0</td><td>19.0</td><td>843.0</td><td>1149.0</td><td>3.0</td><td>1212</td><td>1152.0</td><td>-20.0</td><td>0.0</td><td>null</td><td>0.0</td><td>407.0</td><td>388.0</td><td>366.0</td><td>2586.0</td><td>null</td><td>null</td><td>null</td><td>null</td><td>null</td></tr>\n",
       "<tr><td>2017-01-01</td><td>AA</td><td>16</td><td>SFO</td><td>JFK</td><td>1305</td><td>1259.0</td><td>-6.0</td><td>14.0</td><td>1313.0</td><td>2059.0</td><td>8.0</td><td>2137</td><td>2107.0</td><td>-30.0</td><td>0.0</td><td>null</td><td>0.0</td><td>332.0</td><td>308.0</td><td>286.0</td><td>2586.0</td><td>null</td><td>null</td><td>null</td><td>null</td><td>null</td></tr>\n",
       "<tr><td>2017-01-01</td><td>AA</td><td>19</td><td>JFK</td><td>LAX</td><td>900</td><td>856.0</td><td>-4.0</td><td>22.0</td><td>918.0</td><td>1204.0</td><td>29.0</td><td>1246</td><td>1233.0</td><td>-13.0</td><td>0.0</td><td>null</td><td>0.0</td><td>406.0</td><td>397.0</td><td>346.0</td><td>2475.0</td><td>null</td><td>null</td><td>null</td><td>null</td><td>null</td></tr>\n",
       "<tr><td>2017-01-01</td><td>AA</td><td>20</td><td>SFO</td><td>JFK</td><td>1530</td><td>1525.0</td><td>-5.0</td><td>16.0</td><td>1541.0</td><td>2319.0</td><td>14.0</td><td>2357</td><td>2333.0</td><td>-24.0</td><td>0.0</td><td>null</td><td>0.0</td><td>327.0</td><td>308.0</td><td>278.0</td><td>2586.0</td><td>null</td><td>null</td><td>null</td><td>null</td><td>null</td></tr>\n",
       "<tr><td>2017-01-01</td><td>AA</td><td>21</td><td>JFK</td><td>LAX</td><td>1900</td><td>1922.0</td><td>22.0</td><td>20.0</td><td>1942.0</td><td>2241.0</td><td>37.0</td><td>2247</td><td>2318.0</td><td>31.0</td><td>0.0</td><td>null</td><td>0.0</td><td>407.0</td><td>416.0</td><td>359.0</td><td>2475.0</td><td>22.0</td><td>0.0</td><td>9.0</td><td>0.0</td><td>0.0</td></tr>\n",
       "<tr><td>2017-01-01</td><td>AA</td><td>22</td><td>LAX</td><td>JFK</td><td>1340</td><td>1346.0</td><td>6.0</td><td>14.0</td><td>1400.0</td><td>2149.0</td><td>14.0</td><td>2208</td><td>2203.0</td><td>-5.0</td><td>0.0</td><td>null</td><td>0.0</td><td>328.0</td><td>317.0</td><td>289.0</td><td>2475.0</td><td>null</td><td>null</td><td>null</td><td>null</td><td>null</td></tr>\n",
       "<tr><td>2017-01-01</td><td>AA</td><td>23</td><td>JFK</td><td>LAX</td><td>2215</td><td>2225.0</td><td>10.0</td><td>23.0</td><td>2248.0</td><td>154.0</td><td>9.0</td><td>157</td><td>203.0</td><td>6.0</td><td>0.0</td><td>null</td><td>0.0</td><td>402.0</td><td>398.0</td><td>366.0</td><td>2475.0</td><td>null</td><td>null</td><td>null</td><td>null</td><td>null</td></tr>\n",
       "<tr><td>2017-01-01</td><td>AA</td><td>25</td><td>ORD</td><td>LAS</td><td>1705</td><td>1707.0</td><td>2.0</td><td>13.0</td><td>1720.0</td><td>1858.0</td><td>17.0</td><td>1907</td><td>1915.0</td><td>8.0</td><td>0.0</td><td>null</td><td>0.0</td><td>242.0</td><td>248.0</td><td>218.0</td><td>1514.0</td><td>null</td><td>null</td><td>null</td><td>null</td><td>null</td></tr>\n",
       "<tr><td>2017-01-01</td><td>AA</td><td>28</td><td>LAX</td><td>JFK</td><td>2200</td><td>2202.0</td><td>2.0</td><td>22.0</td><td>2224.0</td><td>557.0</td><td>55.0</td><td>627</td><td>652.0</td><td>25.0</td><td>0.0</td><td>null</td><td>0.0</td><td>327.0</td><td>350.0</td><td>273.0</td><td>2475.0</td><td>2.0</td><td>0.0</td><td>23.0</td><td>0.0</td><td>0.0</td></tr>\n",
       "</table>\n",
       "only showing top 20 rows\n"
      ],
      "text/plain": [
       "+----------+----------+-----------------+------+----+------------+--------+---------+--------+----------+---------+-------+------------+--------+---------+---------+-----------------+--------+----------------+-------------------+--------+--------+-------------+-------------+---------+--------------+-------------------+\n",
       "|   FL_DATE|OP_CARRIER|OP_CARRIER_FL_NUM|ORIGIN|DEST|CRS_DEP_TIME|DEP_TIME|DEP_DELAY|TAXI_OUT|WHEELS_OFF|WHEELS_ON|TAXI_IN|CRS_ARR_TIME|ARR_TIME|ARR_DELAY|CANCELLED|CANCELLATION_CODE|DIVERTED|CRS_ELAPSED_TIME|ACTUAL_ELAPSED_TIME|AIR_TIME|DISTANCE|CARRIER_DELAY|WEATHER_DELAY|NAS_DELAY|SECURITY_DELAY|LATE_AIRCRAFT_DELAY|\n",
       "+----------+----------+-----------------+------+----+------------+--------+---------+--------+----------+---------+-------+------------+--------+---------+---------+-----------------+--------+----------------+-------------------+--------+--------+-------------+-------------+---------+--------------+-------------------+\n",
       "|2017-01-01|        AA|                1|   JFK| LAX|         800|   831.0|     31.0|    25.0|     856.0|   1143.0|   26.0|        1142|  1209.0|     27.0|      0.0|             null|     0.0|           402.0|              398.0|   347.0|  2475.0|         27.0|          0.0|      0.0|           0.0|                0.0|\n",
       "|2017-01-01|        AA|                2|   LAX| JFK|         900|   934.0|     34.0|    34.0|    1008.0|   1757.0|   12.0|        1727|  1809.0|     42.0|      0.0|             null|     0.0|           327.0|              335.0|   289.0|  2475.0|         34.0|          0.0|      8.0|           0.0|                0.0|\n",
       "|2017-01-01|        AA|                4|   LAX| JFK|        1130|  1221.0|     51.0|    20.0|    1241.0|   2025.0|   15.0|        1958|  2040.0|     42.0|      0.0|             null|     0.0|           328.0|              319.0|   284.0|  2475.0|          7.0|          0.0|      0.0|           0.0|               35.0|\n",
       "|2017-01-01|        AA|                5|   DFW| HNL|        1135|  1252.0|     77.0|    19.0|    1311.0|   1744.0|    5.0|        1612|  1749.0|     97.0|      0.0|             null|     0.0|           517.0|              537.0|   513.0|  3784.0|         77.0|          0.0|     20.0|           0.0|                0.0|\n",
       "|2017-01-01|        AA|                6|   OGG| DFW|        1855|  1855.0|      0.0|    16.0|    1911.0|    631.0|   11.0|         600|   642.0|     42.0|      0.0|             null|     0.0|           425.0|              467.0|   440.0|  3711.0|          0.0|          0.0|     42.0|           0.0|                0.0|\n",
       "|2017-01-01|        AA|                7|   DFW| OGG|         940|  1619.0|    399.0|    12.0|    1631.0|   2031.0|    6.0|        1403|  2037.0|    394.0|      0.0|             null|     0.0|           503.0|              498.0|   480.0|  3711.0|        394.0|          0.0|      0.0|           0.0|                0.0|\n",
       "|2017-01-01|        AA|                8|   HNL| DFW|        1838|  1903.0|     25.0|    19.0|    1922.0|    636.0|   12.0|         550|   648.0|     58.0|      0.0|             null|     0.0|           432.0|              465.0|   434.0|  3784.0|         25.0|          0.0|     33.0|           0.0|                0.0|\n",
       "|2017-01-01|        AA|                9|   JFK| SFO|         700|   656.0|     -4.0|    22.0|     718.0|   1020.0|    3.0|        1045|  1023.0|    -22.0|      0.0|             null|     0.0|           405.0|              387.0|   362.0|  2586.0|         null|         null|     null|          null|               null|\n",
       "|2017-01-01|        AA|               10|   LAX| JFK|        2100|  2100.0|      0.0|    15.0|    2115.0|    447.0|   10.0|         527|   457.0|    -30.0|      0.0|             null|     0.0|           327.0|              297.0|   272.0|  2475.0|         null|         null|     null|          null|               null|\n",
       "|2017-01-01|        AA|               12|   SFO| JFK|        1135|  1130.0|     -5.0|    27.0|    1157.0|   1937.0|   17.0|        2018|  1954.0|    -24.0|      0.0|             null|     0.0|           343.0|              324.0|   280.0|  2586.0|         null|         null|     null|          null|               null|\n",
       "|2017-01-01|        AA|               14|   OGG| LAX|        2313|  2350.0|     37.0|     9.0|    2359.0|    628.0|   11.0|         630|   639.0|      9.0|      0.0|             null|     0.0|           317.0|              289.0|   269.0|  2486.0|         null|         null|     null|          null|               null|\n",
       "|2017-01-01|        AA|               15|   JFK| SFO|         825|   824.0|     -1.0|    19.0|     843.0|   1149.0|    3.0|        1212|  1152.0|    -20.0|      0.0|             null|     0.0|           407.0|              388.0|   366.0|  2586.0|         null|         null|     null|          null|               null|\n",
       "|2017-01-01|        AA|               16|   SFO| JFK|        1305|  1259.0|     -6.0|    14.0|    1313.0|   2059.0|    8.0|        2137|  2107.0|    -30.0|      0.0|             null|     0.0|           332.0|              308.0|   286.0|  2586.0|         null|         null|     null|          null|               null|\n",
       "|2017-01-01|        AA|               19|   JFK| LAX|         900|   856.0|     -4.0|    22.0|     918.0|   1204.0|   29.0|        1246|  1233.0|    -13.0|      0.0|             null|     0.0|           406.0|              397.0|   346.0|  2475.0|         null|         null|     null|          null|               null|\n",
       "|2017-01-01|        AA|               20|   SFO| JFK|        1530|  1525.0|     -5.0|    16.0|    1541.0|   2319.0|   14.0|        2357|  2333.0|    -24.0|      0.0|             null|     0.0|           327.0|              308.0|   278.0|  2586.0|         null|         null|     null|          null|               null|\n",
       "|2017-01-01|        AA|               21|   JFK| LAX|        1900|  1922.0|     22.0|    20.0|    1942.0|   2241.0|   37.0|        2247|  2318.0|     31.0|      0.0|             null|     0.0|           407.0|              416.0|   359.0|  2475.0|         22.0|          0.0|      9.0|           0.0|                0.0|\n",
       "|2017-01-01|        AA|               22|   LAX| JFK|        1340|  1346.0|      6.0|    14.0|    1400.0|   2149.0|   14.0|        2208|  2203.0|     -5.0|      0.0|             null|     0.0|           328.0|              317.0|   289.0|  2475.0|         null|         null|     null|          null|               null|\n",
       "|2017-01-01|        AA|               23|   JFK| LAX|        2215|  2225.0|     10.0|    23.0|    2248.0|    154.0|    9.0|         157|   203.0|      6.0|      0.0|             null|     0.0|           402.0|              398.0|   366.0|  2475.0|         null|         null|     null|          null|               null|\n",
       "|2017-01-01|        AA|               25|   ORD| LAS|        1705|  1707.0|      2.0|    13.0|    1720.0|   1858.0|   17.0|        1907|  1915.0|      8.0|      0.0|             null|     0.0|           242.0|              248.0|   218.0|  1514.0|         null|         null|     null|          null|               null|\n",
       "|2017-01-01|        AA|               28|   LAX| JFK|        2200|  2202.0|      2.0|    22.0|    2224.0|    557.0|   55.0|         627|   652.0|     25.0|      0.0|             null|     0.0|           327.0|              350.0|   273.0|  2475.0|          2.0|          0.0|     23.0|           0.0|                0.0|\n",
       "+----------+----------+-----------------+------+----+------------+--------+---------+--------+----------+---------+-------+------------+--------+---------+---------+-----------------+--------+----------------+-------------------+--------+--------+-------------+-------------+---------+--------------+-------------------+\n",
       "only showing top 20 rows"
      ]
     },
     "execution_count": 21,
     "metadata": {},
     "output_type": "execute_result"
    }
   ],
   "source": [
    "# Configurando a visualização para padrão jupyter\n",
    "spark.conf.set('spark.sql.repl.eagerEval.enabled', True)\n",
    "\n",
    "df"
   ]
  },
  {
   "cell_type": "code",
   "execution_count": 8,
   "id": "0f2ee1b1",
   "metadata": {},
   "outputs": [],
   "source": [
    "df = df.drop('Unnamed: 27')"
   ]
  },
  {
   "cell_type": "code",
   "execution_count": 6,
   "id": "2d1802c0",
   "metadata": {},
   "outputs": [
    {
     "name": "stdout",
     "output_type": "stream",
     "text": [
      "root\n",
      " |-- FL_DATE: date (nullable = true)\n",
      " |-- OP_CARRIER: string (nullable = true)\n",
      " |-- OP_CARRIER_FL_NUM: integer (nullable = true)\n",
      " |-- ORIGIN: string (nullable = true)\n",
      " |-- DEST: string (nullable = true)\n",
      " |-- CRS_DEP_TIME: integer (nullable = true)\n",
      " |-- DEP_TIME: double (nullable = true)\n",
      " |-- DEP_DELAY: double (nullable = true)\n",
      " |-- TAXI_OUT: double (nullable = true)\n",
      " |-- WHEELS_OFF: double (nullable = true)\n",
      " |-- WHEELS_ON: double (nullable = true)\n",
      " |-- TAXI_IN: double (nullable = true)\n",
      " |-- CRS_ARR_TIME: integer (nullable = true)\n",
      " |-- ARR_TIME: double (nullable = true)\n",
      " |-- ARR_DELAY: double (nullable = true)\n",
      " |-- CANCELLED: double (nullable = true)\n",
      " |-- CANCELLATION_CODE: string (nullable = true)\n",
      " |-- DIVERTED: double (nullable = true)\n",
      " |-- CRS_ELAPSED_TIME: double (nullable = true)\n",
      " |-- ACTUAL_ELAPSED_TIME: double (nullable = true)\n",
      " |-- AIR_TIME: double (nullable = true)\n",
      " |-- DISTANCE: double (nullable = true)\n",
      " |-- CARRIER_DELAY: double (nullable = true)\n",
      " |-- WEATHER_DELAY: double (nullable = true)\n",
      " |-- NAS_DELAY: double (nullable = true)\n",
      " |-- SECURITY_DELAY: double (nullable = true)\n",
      " |-- LATE_AIRCRAFT_DELAY: double (nullable = true)\n",
      "\n"
     ]
    }
   ],
   "source": [
    "# Verificando as colunas\n",
    "df.printSchema()"
   ]
  },
  {
   "cell_type": "markdown",
   "id": "2652b663",
   "metadata": {},
   "source": [
    "## Descritiva de Colunas Selecionadas"
   ]
  },
  {
   "cell_type": "code",
   "execution_count": 7,
   "id": "d2beea89",
   "metadata": {},
   "outputs": [
    {
     "name": "stdout",
     "output_type": "stream",
     "text": [
      "+-------+------------------+------------------+--------------------+\n",
      "|summary|      CRS_DEP_TIME|          DEP_TIME|           CANCELLED|\n",
      "+-------+------------------+------------------+--------------------+\n",
      "|  count|           5674621|           5594313|             5674621|\n",
      "|   mean|1329.9688317510545|1333.7043910485525|0.014572426951509185|\n",
      "| stddev|490.93756967830365|504.39871426708186| 0.11983352558791949|\n",
      "|    min|                 1|               1.0|                 0.0|\n",
      "|    max|              2359|            2400.0|                 1.0|\n",
      "+-------+------------------+------------------+--------------------+\n",
      "\n"
     ]
    }
   ],
   "source": [
    "df.select(\"CRS_DEP_TIME\", \"DEP_TIME\", \"CANCELLED\").describe().show()"
   ]
  },
  {
   "cell_type": "markdown",
   "id": "a216c0e9",
   "metadata": {},
   "source": [
    "# Selecionando Apenas Voos Cancelados\n",
    "\n",
    "PySpark DataFrame also provides the conversion back to a pandas DataFrame to leverage pandas API. <br> \n",
    "Note that toPandas also collects all data into the driver side that can easily cause an out-of-memory-error when the data is too large to fit into the driver side."
   ]
  },
  {
   "cell_type": "code",
   "execution_count": 8,
   "id": "a95ec951",
   "metadata": {},
   "outputs": [
    {
     "data": {
      "text/html": [
       "<table border='1'>\n",
       "<tr><th>FL_DATE</th><th>OP_CARRIER</th><th>OP_CARRIER_FL_NUM</th><th>ORIGIN</th><th>DEST</th><th>CRS_DEP_TIME</th><th>DEP_TIME</th><th>DEP_DELAY</th><th>TAXI_OUT</th><th>WHEELS_OFF</th><th>WHEELS_ON</th><th>TAXI_IN</th><th>CRS_ARR_TIME</th><th>ARR_TIME</th><th>ARR_DELAY</th><th>CANCELLED</th><th>CANCELLATION_CODE</th><th>DIVERTED</th><th>CRS_ELAPSED_TIME</th><th>ACTUAL_ELAPSED_TIME</th><th>AIR_TIME</th><th>DISTANCE</th><th>CARRIER_DELAY</th><th>WEATHER_DELAY</th><th>NAS_DELAY</th><th>SECURITY_DELAY</th><th>LATE_AIRCRAFT_DELAY</th></tr>\n",
       "<tr><td>2017-01-01</td><td>AA</td><td>106</td><td>PHX</td><td>JFK</td><td>957</td><td>null</td><td>null</td><td>null</td><td>null</td><td>null</td><td>null</td><td>1653</td><td>null</td><td>null</td><td>1.0</td><td>A</td><td>0.0</td><td>296.0</td><td>null</td><td>null</td><td>2153.0</td><td>null</td><td>null</td><td>null</td><td>null</td><td>null</td></tr>\n",
       "<tr><td>2017-01-01</td><td>AA</td><td>229</td><td>DFW</td><td>KOA</td><td>1030</td><td>null</td><td>null</td><td>null</td><td>null</td><td>null</td><td>null</td><td>1458</td><td>null</td><td>null</td><td>1.0</td><td>A</td><td>0.0</td><td>508.0</td><td>null</td><td>null</td><td>3724.0</td><td>null</td><td>null</td><td>null</td><td>null</td><td>null</td></tr>\n",
       "<tr><td>2017-01-01</td><td>AA</td><td>230</td><td>KOA</td><td>DFW</td><td>1840</td><td>null</td><td>null</td><td>null</td><td>null</td><td>null</td><td>null</td><td>559</td><td>null</td><td>null</td><td>1.0</td><td>A</td><td>0.0</td><td>439.0</td><td>null</td><td>null</td><td>3724.0</td><td>null</td><td>null</td><td>null</td><td>null</td><td>null</td></tr>\n",
       "<tr><td>2017-01-01</td><td>AA</td><td>1896</td><td>DFW</td><td>PHX</td><td>1730</td><td>null</td><td>null</td><td>null</td><td>null</td><td>null</td><td>null</td><td>1906</td><td>null</td><td>null</td><td>1.0</td><td>A</td><td>0.0</td><td>156.0</td><td>null</td><td>null</td><td>868.0</td><td>null</td><td>null</td><td>null</td><td>null</td><td>null</td></tr>\n",
       "<tr><td>2017-01-01</td><td>NK</td><td>218</td><td>FLL</td><td>ACY</td><td>740</td><td>null</td><td>null</td><td>null</td><td>null</td><td>null</td><td>null</td><td>1006</td><td>null</td><td>null</td><td>1.0</td><td>A</td><td>0.0</td><td>146.0</td><td>null</td><td>null</td><td>977.0</td><td>null</td><td>null</td><td>null</td><td>null</td><td>null</td></tr>\n",
       "<tr><td>2017-01-01</td><td>NK</td><td>235</td><td>ACY</td><td>FLL</td><td>1225</td><td>null</td><td>null</td><td>null</td><td>null</td><td>null</td><td>null</td><td>1512</td><td>null</td><td>null</td><td>1.0</td><td>A</td><td>0.0</td><td>167.0</td><td>null</td><td>null</td><td>977.0</td><td>null</td><td>null</td><td>null</td><td>null</td><td>null</td></tr>\n",
       "<tr><td>2017-01-01</td><td>NK</td><td>259</td><td>ACY</td><td>FLL</td><td>700</td><td>null</td><td>null</td><td>null</td><td>null</td><td>null</td><td>null</td><td>946</td><td>null</td><td>null</td><td>1.0</td><td>A</td><td>0.0</td><td>166.0</td><td>null</td><td>null</td><td>977.0</td><td>null</td><td>null</td><td>null</td><td>null</td><td>null</td></tr>\n",
       "<tr><td>2017-01-01</td><td>NK</td><td>341</td><td>ACY</td><td>TPA</td><td>1056</td><td>null</td><td>null</td><td>null</td><td>null</td><td>null</td><td>null</td><td>1334</td><td>null</td><td>null</td><td>1.0</td><td>A</td><td>0.0</td><td>158.0</td><td>null</td><td>null</td><td>913.0</td><td>null</td><td>null</td><td>null</td><td>null</td><td>null</td></tr>\n",
       "<tr><td>2017-01-01</td><td>NK</td><td>348</td><td>TPA</td><td>ACY</td><td>1424</td><td>null</td><td>null</td><td>null</td><td>null</td><td>null</td><td>null</td><td>1639</td><td>null</td><td>null</td><td>1.0</td><td>A</td><td>0.0</td><td>135.0</td><td>null</td><td>null</td><td>913.0</td><td>null</td><td>null</td><td>null</td><td>null</td><td>null</td></tr>\n",
       "<tr><td>2017-01-01</td><td>NK</td><td>365</td><td>RSW</td><td>BWI</td><td>1941</td><td>null</td><td>null</td><td>null</td><td>null</td><td>null</td><td>null</td><td>2200</td><td>null</td><td>null</td><td>1.0</td><td>A</td><td>0.0</td><td>139.0</td><td>null</td><td>null</td><td>919.0</td><td>null</td><td>null</td><td>null</td><td>null</td><td>null</td></tr>\n",
       "<tr><td>2017-01-01</td><td>NK</td><td>452</td><td>ATL</td><td>MSP</td><td>1449</td><td>null</td><td>null</td><td>null</td><td>null</td><td>null</td><td>null</td><td>1622</td><td>null</td><td>null</td><td>1.0</td><td>A</td><td>0.0</td><td>153.0</td><td>null</td><td>null</td><td>907.0</td><td>null</td><td>null</td><td>null</td><td>null</td><td>null</td></tr>\n",
       "<tr><td>2017-01-01</td><td>NK</td><td>452</td><td>MSY</td><td>ATL</td><td>1130</td><td>1221.0</td><td>51.0</td><td>null</td><td>null</td><td>null</td><td>null</td><td>1352</td><td>null</td><td>null</td><td>1.0</td><td>A</td><td>0.0</td><td>82.0</td><td>null</td><td>null</td><td>425.0</td><td>null</td><td>null</td><td>null</td><td>null</td><td>null</td></tr>\n",
       "<tr><td>2017-01-01</td><td>NK</td><td>502</td><td>OAK</td><td>LAX</td><td>915</td><td>null</td><td>null</td><td>null</td><td>null</td><td>null</td><td>null</td><td>1032</td><td>null</td><td>null</td><td>1.0</td><td>A</td><td>0.0</td><td>77.0</td><td>null</td><td>null</td><td>337.0</td><td>null</td><td>null</td><td>null</td><td>null</td><td>null</td></tr>\n",
       "<tr><td>2017-01-01</td><td>OO</td><td>7377</td><td>BTM</td><td>SLC</td><td>1422</td><td>null</td><td>null</td><td>null</td><td>null</td><td>null</td><td>null</td><td>1545</td><td>null</td><td>null</td><td>1.0</td><td>B</td><td>0.0</td><td>83.0</td><td>null</td><td>null</td><td>358.0</td><td>null</td><td>null</td><td>null</td><td>null</td><td>null</td></tr>\n",
       "<tr><td>2017-01-01</td><td>OO</td><td>7377</td><td>SLC</td><td>BTM</td><td>1227</td><td>null</td><td>null</td><td>null</td><td>null</td><td>null</td><td>null</td><td>1357</td><td>null</td><td>null</td><td>1.0</td><td>B</td><td>0.0</td><td>90.0</td><td>null</td><td>null</td><td>358.0</td><td>null</td><td>null</td><td>null</td><td>null</td><td>null</td></tr>\n",
       "<tr><td>2017-01-01</td><td>AA</td><td>1312</td><td>LAX</td><td>DFW</td><td>30</td><td>null</td><td>null</td><td>null</td><td>null</td><td>null</td><td>null</td><td>539</td><td>null</td><td>null</td><td>1.0</td><td>A</td><td>0.0</td><td>189.0</td><td>null</td><td>null</td><td>1235.0</td><td>null</td><td>null</td><td>null</td><td>null</td><td>null</td></tr>\n",
       "<tr><td>2017-01-01</td><td>AA</td><td>1431</td><td>JFK</td><td>PHX</td><td>630</td><td>null</td><td>null</td><td>null</td><td>null</td><td>null</td><td>null</td><td>1025</td><td>null</td><td>null</td><td>1.0</td><td>A</td><td>0.0</td><td>355.0</td><td>null</td><td>null</td><td>2153.0</td><td>null</td><td>null</td><td>null</td><td>null</td><td>null</td></tr>\n",
       "<tr><td>2017-01-01</td><td>AS</td><td>360</td><td>SEA</td><td>SMF</td><td>900</td><td>null</td><td>null</td><td>null</td><td>null</td><td>null</td><td>null</td><td>1045</td><td>null</td><td>null</td><td>1.0</td><td>A</td><td>0.0</td><td>105.0</td><td>null</td><td>null</td><td>605.0</td><td>null</td><td>null</td><td>null</td><td>null</td><td>null</td></tr>\n",
       "<tr><td>2017-01-01</td><td>AS</td><td>369</td><td>SMF</td><td>SEA</td><td>1140</td><td>null</td><td>null</td><td>null</td><td>null</td><td>null</td><td>null</td><td>1330</td><td>null</td><td>null</td><td>1.0</td><td>A</td><td>0.0</td><td>110.0</td><td>null</td><td>null</td><td>605.0</td><td>null</td><td>null</td><td>null</td><td>null</td><td>null</td></tr>\n",
       "<tr><td>2017-01-01</td><td>AS</td><td>446</td><td>SEA</td><td>LAX</td><td>615</td><td>null</td><td>null</td><td>null</td><td>null</td><td>null</td><td>null</td><td>854</td><td>null</td><td>null</td><td>1.0</td><td>A</td><td>0.0</td><td>159.0</td><td>null</td><td>null</td><td>954.0</td><td>null</td><td>null</td><td>null</td><td>null</td><td>null</td></tr>\n",
       "</table>\n",
       "only showing top 20 rows\n"
      ],
      "text/plain": [
       "+----------+----------+-----------------+------+----+------------+--------+---------+--------+----------+---------+-------+------------+--------+---------+---------+-----------------+--------+----------------+-------------------+--------+--------+-------------+-------------+---------+--------------+-------------------+\n",
       "|   FL_DATE|OP_CARRIER|OP_CARRIER_FL_NUM|ORIGIN|DEST|CRS_DEP_TIME|DEP_TIME|DEP_DELAY|TAXI_OUT|WHEELS_OFF|WHEELS_ON|TAXI_IN|CRS_ARR_TIME|ARR_TIME|ARR_DELAY|CANCELLED|CANCELLATION_CODE|DIVERTED|CRS_ELAPSED_TIME|ACTUAL_ELAPSED_TIME|AIR_TIME|DISTANCE|CARRIER_DELAY|WEATHER_DELAY|NAS_DELAY|SECURITY_DELAY|LATE_AIRCRAFT_DELAY|\n",
       "+----------+----------+-----------------+------+----+------------+--------+---------+--------+----------+---------+-------+------------+--------+---------+---------+-----------------+--------+----------------+-------------------+--------+--------+-------------+-------------+---------+--------------+-------------------+\n",
       "|2017-01-01|        AA|              106|   PHX| JFK|         957|    null|     null|    null|      null|     null|   null|        1653|    null|     null|      1.0|                A|     0.0|           296.0|               null|    null|  2153.0|         null|         null|     null|          null|               null|\n",
       "|2017-01-01|        AA|              229|   DFW| KOA|        1030|    null|     null|    null|      null|     null|   null|        1458|    null|     null|      1.0|                A|     0.0|           508.0|               null|    null|  3724.0|         null|         null|     null|          null|               null|\n",
       "|2017-01-01|        AA|              230|   KOA| DFW|        1840|    null|     null|    null|      null|     null|   null|         559|    null|     null|      1.0|                A|     0.0|           439.0|               null|    null|  3724.0|         null|         null|     null|          null|               null|\n",
       "|2017-01-01|        AA|             1896|   DFW| PHX|        1730|    null|     null|    null|      null|     null|   null|        1906|    null|     null|      1.0|                A|     0.0|           156.0|               null|    null|   868.0|         null|         null|     null|          null|               null|\n",
       "|2017-01-01|        NK|              218|   FLL| ACY|         740|    null|     null|    null|      null|     null|   null|        1006|    null|     null|      1.0|                A|     0.0|           146.0|               null|    null|   977.0|         null|         null|     null|          null|               null|\n",
       "|2017-01-01|        NK|              235|   ACY| FLL|        1225|    null|     null|    null|      null|     null|   null|        1512|    null|     null|      1.0|                A|     0.0|           167.0|               null|    null|   977.0|         null|         null|     null|          null|               null|\n",
       "|2017-01-01|        NK|              259|   ACY| FLL|         700|    null|     null|    null|      null|     null|   null|         946|    null|     null|      1.0|                A|     0.0|           166.0|               null|    null|   977.0|         null|         null|     null|          null|               null|\n",
       "|2017-01-01|        NK|              341|   ACY| TPA|        1056|    null|     null|    null|      null|     null|   null|        1334|    null|     null|      1.0|                A|     0.0|           158.0|               null|    null|   913.0|         null|         null|     null|          null|               null|\n",
       "|2017-01-01|        NK|              348|   TPA| ACY|        1424|    null|     null|    null|      null|     null|   null|        1639|    null|     null|      1.0|                A|     0.0|           135.0|               null|    null|   913.0|         null|         null|     null|          null|               null|\n",
       "|2017-01-01|        NK|              365|   RSW| BWI|        1941|    null|     null|    null|      null|     null|   null|        2200|    null|     null|      1.0|                A|     0.0|           139.0|               null|    null|   919.0|         null|         null|     null|          null|               null|\n",
       "|2017-01-01|        NK|              452|   ATL| MSP|        1449|    null|     null|    null|      null|     null|   null|        1622|    null|     null|      1.0|                A|     0.0|           153.0|               null|    null|   907.0|         null|         null|     null|          null|               null|\n",
       "|2017-01-01|        NK|              452|   MSY| ATL|        1130|  1221.0|     51.0|    null|      null|     null|   null|        1352|    null|     null|      1.0|                A|     0.0|            82.0|               null|    null|   425.0|         null|         null|     null|          null|               null|\n",
       "|2017-01-01|        NK|              502|   OAK| LAX|         915|    null|     null|    null|      null|     null|   null|        1032|    null|     null|      1.0|                A|     0.0|            77.0|               null|    null|   337.0|         null|         null|     null|          null|               null|\n",
       "|2017-01-01|        OO|             7377|   BTM| SLC|        1422|    null|     null|    null|      null|     null|   null|        1545|    null|     null|      1.0|                B|     0.0|            83.0|               null|    null|   358.0|         null|         null|     null|          null|               null|\n",
       "|2017-01-01|        OO|             7377|   SLC| BTM|        1227|    null|     null|    null|      null|     null|   null|        1357|    null|     null|      1.0|                B|     0.0|            90.0|               null|    null|   358.0|         null|         null|     null|          null|               null|\n",
       "|2017-01-01|        AA|             1312|   LAX| DFW|          30|    null|     null|    null|      null|     null|   null|         539|    null|     null|      1.0|                A|     0.0|           189.0|               null|    null|  1235.0|         null|         null|     null|          null|               null|\n",
       "|2017-01-01|        AA|             1431|   JFK| PHX|         630|    null|     null|    null|      null|     null|   null|        1025|    null|     null|      1.0|                A|     0.0|           355.0|               null|    null|  2153.0|         null|         null|     null|          null|               null|\n",
       "|2017-01-01|        AS|              360|   SEA| SMF|         900|    null|     null|    null|      null|     null|   null|        1045|    null|     null|      1.0|                A|     0.0|           105.0|               null|    null|   605.0|         null|         null|     null|          null|               null|\n",
       "|2017-01-01|        AS|              369|   SMF| SEA|        1140|    null|     null|    null|      null|     null|   null|        1330|    null|     null|      1.0|                A|     0.0|           110.0|               null|    null|   605.0|         null|         null|     null|          null|               null|\n",
       "|2017-01-01|        AS|              446|   SEA| LAX|         615|    null|     null|    null|      null|     null|   null|         854|    null|     null|      1.0|                A|     0.0|           159.0|               null|    null|   954.0|         null|         null|     null|          null|               null|\n",
       "+----------+----------+-----------------+------+----+------------+--------+---------+--------+----------+---------+-------+------------+--------+---------+---------+-----------------+--------+----------------+-------------------+--------+--------+-------------+-------------+---------+--------------+-------------------+\n",
       "only showing top 20 rows"
      ]
     },
     "execution_count": 8,
     "metadata": {},
     "output_type": "execute_result"
    }
   ],
   "source": [
    "voos_cancelados = df.filter(col('CANCELLED')==1)\n",
    "voos_cancelados"
   ]
  },
  {
   "cell_type": "code",
   "execution_count": 9,
   "id": "93b6a0e9",
   "metadata": {},
   "outputs": [],
   "source": [
    "pd_cancelados = voos_cancelados.toPandas()"
   ]
  },
  {
   "cell_type": "code",
   "execution_count": 10,
   "id": "5f4fcb7d",
   "metadata": {},
   "outputs": [
    {
     "name": "stdout",
     "output_type": "stream",
     "text": [
      "<class 'pandas.core.frame.DataFrame'>\n",
      "RangeIndex: 82693 entries, 0 to 82692\n",
      "Data columns (total 27 columns):\n",
      " #   Column               Non-Null Count  Dtype  \n",
      "---  ------               --------------  -----  \n",
      " 0   FL_DATE              82693 non-null  object \n",
      " 1   OP_CARRIER           82693 non-null  object \n",
      " 2   OP_CARRIER_FL_NUM    82693 non-null  int32  \n",
      " 3   ORIGIN               82693 non-null  object \n",
      " 4   DEST                 82693 non-null  object \n",
      " 5   CRS_DEP_TIME         82693 non-null  int32  \n",
      " 6   DEP_TIME             2385 non-null   float64\n",
      " 7   DEP_DELAY            2351 non-null   float64\n",
      " 8   TAXI_OUT             548 non-null    float64\n",
      " 9   WHEELS_OFF           552 non-null    float64\n",
      " 10  WHEELS_ON            0 non-null      float64\n",
      " 11  TAXI_IN              0 non-null      float64\n",
      " 12  CRS_ARR_TIME         82693 non-null  int32  \n",
      " 13  ARR_TIME             0 non-null      float64\n",
      " 14  ARR_DELAY            0 non-null      float64\n",
      " 15  CANCELLED            82693 non-null  float64\n",
      " 16  CANCELLATION_CODE    82693 non-null  object \n",
      " 17  DIVERTED             82693 non-null  float64\n",
      " 18  CRS_ELAPSED_TIME     82686 non-null  float64\n",
      " 19  ACTUAL_ELAPSED_TIME  0 non-null      float64\n",
      " 20  AIR_TIME             0 non-null      float64\n",
      " 21  DISTANCE             82693 non-null  float64\n",
      " 22  CARRIER_DELAY        0 non-null      float64\n",
      " 23  WEATHER_DELAY        0 non-null      float64\n",
      " 24  NAS_DELAY            0 non-null      float64\n",
      " 25  SECURITY_DELAY       0 non-null      float64\n",
      " 26  LATE_AIRCRAFT_DELAY  0 non-null      float64\n",
      "dtypes: float64(19), int32(3), object(5)\n",
      "memory usage: 16.1+ MB\n"
     ]
    }
   ],
   "source": [
    "pd_cancelados.info()"
   ]
  },
  {
   "cell_type": "code",
   "execution_count": 11,
   "id": "0ee67ce9",
   "metadata": {},
   "outputs": [
    {
     "data": {
      "text/html": [
       "<div>\n",
       "<style scoped>\n",
       "    .dataframe tbody tr th:only-of-type {\n",
       "        vertical-align: middle;\n",
       "    }\n",
       "\n",
       "    .dataframe tbody tr th {\n",
       "        vertical-align: top;\n",
       "    }\n",
       "\n",
       "    .dataframe thead th {\n",
       "        text-align: right;\n",
       "    }\n",
       "</style>\n",
       "<table border=\"1\" class=\"dataframe\">\n",
       "  <thead>\n",
       "    <tr style=\"text-align: right;\">\n",
       "      <th></th>\n",
       "      <th>OP_CARRIER_FL_NUM</th>\n",
       "      <th>CRS_DEP_TIME</th>\n",
       "      <th>DEP_TIME</th>\n",
       "      <th>DEP_DELAY</th>\n",
       "      <th>TAXI_OUT</th>\n",
       "      <th>WHEELS_OFF</th>\n",
       "      <th>WHEELS_ON</th>\n",
       "      <th>TAXI_IN</th>\n",
       "      <th>CRS_ARR_TIME</th>\n",
       "      <th>ARR_TIME</th>\n",
       "      <th>...</th>\n",
       "      <th>DIVERTED</th>\n",
       "      <th>CRS_ELAPSED_TIME</th>\n",
       "      <th>ACTUAL_ELAPSED_TIME</th>\n",
       "      <th>AIR_TIME</th>\n",
       "      <th>DISTANCE</th>\n",
       "      <th>CARRIER_DELAY</th>\n",
       "      <th>WEATHER_DELAY</th>\n",
       "      <th>NAS_DELAY</th>\n",
       "      <th>SECURITY_DELAY</th>\n",
       "      <th>LATE_AIRCRAFT_DELAY</th>\n",
       "    </tr>\n",
       "  </thead>\n",
       "  <tbody>\n",
       "    <tr>\n",
       "      <th>count</th>\n",
       "      <td>82693.000000</td>\n",
       "      <td>82693.000000</td>\n",
       "      <td>2385.000000</td>\n",
       "      <td>2351.000000</td>\n",
       "      <td>548.000000</td>\n",
       "      <td>552.000000</td>\n",
       "      <td>0.0</td>\n",
       "      <td>0.0</td>\n",
       "      <td>82693.000000</td>\n",
       "      <td>0.0</td>\n",
       "      <td>...</td>\n",
       "      <td>82693.000000</td>\n",
       "      <td>82686.000000</td>\n",
       "      <td>0.0</td>\n",
       "      <td>0.0</td>\n",
       "      <td>82693.000000</td>\n",
       "      <td>0.0</td>\n",
       "      <td>0.0</td>\n",
       "      <td>0.0</td>\n",
       "      <td>0.0</td>\n",
       "      <td>0.0</td>\n",
       "    </tr>\n",
       "    <tr>\n",
       "      <th>mean</th>\n",
       "      <td>2290.053801</td>\n",
       "      <td>1373.555150</td>\n",
       "      <td>1527.490985</td>\n",
       "      <td>68.281157</td>\n",
       "      <td>21.122263</td>\n",
       "      <td>1504.961957</td>\n",
       "      <td>NaN</td>\n",
       "      <td>NaN</td>\n",
       "      <td>1516.060549</td>\n",
       "      <td>NaN</td>\n",
       "      <td>...</td>\n",
       "      <td>0.000157</td>\n",
       "      <td>136.245725</td>\n",
       "      <td>NaN</td>\n",
       "      <td>NaN</td>\n",
       "      <td>757.257120</td>\n",
       "      <td>NaN</td>\n",
       "      <td>NaN</td>\n",
       "      <td>NaN</td>\n",
       "      <td>NaN</td>\n",
       "      <td>NaN</td>\n",
       "    </tr>\n",
       "    <tr>\n",
       "      <th>std</th>\n",
       "      <td>1804.011815</td>\n",
       "      <td>508.442672</td>\n",
       "      <td>546.612096</td>\n",
       "      <td>121.436212</td>\n",
       "      <td>12.808162</td>\n",
       "      <td>594.458408</td>\n",
       "      <td>NaN</td>\n",
       "      <td>NaN</td>\n",
       "      <td>540.602000</td>\n",
       "      <td>NaN</td>\n",
       "      <td>...</td>\n",
       "      <td>0.012537</td>\n",
       "      <td>67.224895</td>\n",
       "      <td>NaN</td>\n",
       "      <td>NaN</td>\n",
       "      <td>544.362769</td>\n",
       "      <td>NaN</td>\n",
       "      <td>NaN</td>\n",
       "      <td>NaN</td>\n",
       "      <td>NaN</td>\n",
       "      <td>NaN</td>\n",
       "    </tr>\n",
       "    <tr>\n",
       "      <th>min</th>\n",
       "      <td>1.000000</td>\n",
       "      <td>1.000000</td>\n",
       "      <td>3.000000</td>\n",
       "      <td>-24.000000</td>\n",
       "      <td>6.000000</td>\n",
       "      <td>1.000000</td>\n",
       "      <td>NaN</td>\n",
       "      <td>NaN</td>\n",
       "      <td>1.000000</td>\n",
       "      <td>NaN</td>\n",
       "      <td>...</td>\n",
       "      <td>0.000000</td>\n",
       "      <td>21.000000</td>\n",
       "      <td>NaN</td>\n",
       "      <td>NaN</td>\n",
       "      <td>31.000000</td>\n",
       "      <td>NaN</td>\n",
       "      <td>NaN</td>\n",
       "      <td>NaN</td>\n",
       "      <td>NaN</td>\n",
       "      <td>NaN</td>\n",
       "    </tr>\n",
       "    <tr>\n",
       "      <th>25%</th>\n",
       "      <td>795.000000</td>\n",
       "      <td>923.000000</td>\n",
       "      <td>1147.000000</td>\n",
       "      <td>-2.000000</td>\n",
       "      <td>13.000000</td>\n",
       "      <td>1103.500000</td>\n",
       "      <td>NaN</td>\n",
       "      <td>NaN</td>\n",
       "      <td>1059.000000</td>\n",
       "      <td>NaN</td>\n",
       "      <td>...</td>\n",
       "      <td>0.000000</td>\n",
       "      <td>85.000000</td>\n",
       "      <td>NaN</td>\n",
       "      <td>NaN</td>\n",
       "      <td>337.000000</td>\n",
       "      <td>NaN</td>\n",
       "      <td>NaN</td>\n",
       "      <td>NaN</td>\n",
       "      <td>NaN</td>\n",
       "      <td>NaN</td>\n",
       "    </tr>\n",
       "    <tr>\n",
       "      <th>50%</th>\n",
       "      <td>1767.000000</td>\n",
       "      <td>1415.000000</td>\n",
       "      <td>1623.000000</td>\n",
       "      <td>23.000000</td>\n",
       "      <td>18.000000</td>\n",
       "      <td>1555.500000</td>\n",
       "      <td>NaN</td>\n",
       "      <td>NaN</td>\n",
       "      <td>1555.000000</td>\n",
       "      <td>NaN</td>\n",
       "      <td>...</td>\n",
       "      <td>0.000000</td>\n",
       "      <td>123.000000</td>\n",
       "      <td>NaN</td>\n",
       "      <td>NaN</td>\n",
       "      <td>636.000000</td>\n",
       "      <td>NaN</td>\n",
       "      <td>NaN</td>\n",
       "      <td>NaN</td>\n",
       "      <td>NaN</td>\n",
       "      <td>NaN</td>\n",
       "    </tr>\n",
       "    <tr>\n",
       "      <th>75%</th>\n",
       "      <td>3875.000000</td>\n",
       "      <td>1810.000000</td>\n",
       "      <td>1952.000000</td>\n",
       "      <td>97.000000</td>\n",
       "      <td>25.000000</td>\n",
       "      <td>2036.250000</td>\n",
       "      <td>NaN</td>\n",
       "      <td>NaN</td>\n",
       "      <td>1954.000000</td>\n",
       "      <td>NaN</td>\n",
       "      <td>...</td>\n",
       "      <td>0.000000</td>\n",
       "      <td>170.000000</td>\n",
       "      <td>NaN</td>\n",
       "      <td>NaN</td>\n",
       "      <td>1021.000000</td>\n",
       "      <td>NaN</td>\n",
       "      <td>NaN</td>\n",
       "      <td>NaN</td>\n",
       "      <td>NaN</td>\n",
       "      <td>NaN</td>\n",
       "    </tr>\n",
       "    <tr>\n",
       "      <th>max</th>\n",
       "      <td>7439.000000</td>\n",
       "      <td>2359.000000</td>\n",
       "      <td>2359.000000</td>\n",
       "      <td>1341.000000</td>\n",
       "      <td>101.000000</td>\n",
       "      <td>2359.000000</td>\n",
       "      <td>NaN</td>\n",
       "      <td>NaN</td>\n",
       "      <td>2359.000000</td>\n",
       "      <td>NaN</td>\n",
       "      <td>...</td>\n",
       "      <td>1.000000</td>\n",
       "      <td>712.000000</td>\n",
       "      <td>NaN</td>\n",
       "      <td>NaN</td>\n",
       "      <td>4983.000000</td>\n",
       "      <td>NaN</td>\n",
       "      <td>NaN</td>\n",
       "      <td>NaN</td>\n",
       "      <td>NaN</td>\n",
       "      <td>NaN</td>\n",
       "    </tr>\n",
       "  </tbody>\n",
       "</table>\n",
       "<p>8 rows × 22 columns</p>\n",
       "</div>"
      ],
      "text/plain": [
       "       OP_CARRIER_FL_NUM  CRS_DEP_TIME     DEP_TIME    DEP_DELAY    TAXI_OUT  \\\n",
       "count       82693.000000  82693.000000  2385.000000  2351.000000  548.000000   \n",
       "mean         2290.053801   1373.555150  1527.490985    68.281157   21.122263   \n",
       "std          1804.011815    508.442672   546.612096   121.436212   12.808162   \n",
       "min             1.000000      1.000000     3.000000   -24.000000    6.000000   \n",
       "25%           795.000000    923.000000  1147.000000    -2.000000   13.000000   \n",
       "50%          1767.000000   1415.000000  1623.000000    23.000000   18.000000   \n",
       "75%          3875.000000   1810.000000  1952.000000    97.000000   25.000000   \n",
       "max          7439.000000   2359.000000  2359.000000  1341.000000  101.000000   \n",
       "\n",
       "        WHEELS_OFF  WHEELS_ON  TAXI_IN  CRS_ARR_TIME  ARR_TIME  ...  \\\n",
       "count   552.000000        0.0      0.0  82693.000000       0.0  ...   \n",
       "mean   1504.961957        NaN      NaN   1516.060549       NaN  ...   \n",
       "std     594.458408        NaN      NaN    540.602000       NaN  ...   \n",
       "min       1.000000        NaN      NaN      1.000000       NaN  ...   \n",
       "25%    1103.500000        NaN      NaN   1059.000000       NaN  ...   \n",
       "50%    1555.500000        NaN      NaN   1555.000000       NaN  ...   \n",
       "75%    2036.250000        NaN      NaN   1954.000000       NaN  ...   \n",
       "max    2359.000000        NaN      NaN   2359.000000       NaN  ...   \n",
       "\n",
       "           DIVERTED  CRS_ELAPSED_TIME  ACTUAL_ELAPSED_TIME  AIR_TIME  \\\n",
       "count  82693.000000      82686.000000                  0.0       0.0   \n",
       "mean       0.000157        136.245725                  NaN       NaN   \n",
       "std        0.012537         67.224895                  NaN       NaN   \n",
       "min        0.000000         21.000000                  NaN       NaN   \n",
       "25%        0.000000         85.000000                  NaN       NaN   \n",
       "50%        0.000000        123.000000                  NaN       NaN   \n",
       "75%        0.000000        170.000000                  NaN       NaN   \n",
       "max        1.000000        712.000000                  NaN       NaN   \n",
       "\n",
       "           DISTANCE  CARRIER_DELAY  WEATHER_DELAY  NAS_DELAY  SECURITY_DELAY  \\\n",
       "count  82693.000000            0.0            0.0        0.0             0.0   \n",
       "mean     757.257120            NaN            NaN        NaN             NaN   \n",
       "std      544.362769            NaN            NaN        NaN             NaN   \n",
       "min       31.000000            NaN            NaN        NaN             NaN   \n",
       "25%      337.000000            NaN            NaN        NaN             NaN   \n",
       "50%      636.000000            NaN            NaN        NaN             NaN   \n",
       "75%     1021.000000            NaN            NaN        NaN             NaN   \n",
       "max     4983.000000            NaN            NaN        NaN             NaN   \n",
       "\n",
       "       LATE_AIRCRAFT_DELAY  \n",
       "count                  0.0  \n",
       "mean                   NaN  \n",
       "std                    NaN  \n",
       "min                    NaN  \n",
       "25%                    NaN  \n",
       "50%                    NaN  \n",
       "75%                    NaN  \n",
       "max                    NaN  \n",
       "\n",
       "[8 rows x 22 columns]"
      ]
     },
     "execution_count": 11,
     "metadata": {},
     "output_type": "execute_result"
    }
   ],
   "source": [
    "pd_cancelados.describe()"
   ]
  },
  {
   "cell_type": "markdown",
   "id": "e288d5ee",
   "metadata": {},
   "source": [
    "## Trabalhando na Base\n",
    "\n",
    "Flag voos atrasados, considerar voos atrasados tempo de atraso na chegada > 15 min"
   ]
  },
  {
   "cell_type": "code",
   "execution_count": 9,
   "id": "0f06d34d",
   "metadata": {},
   "outputs": [],
   "source": [
    "#Trabalhando no Spark\n",
    "# Criando Campo Atrasado\n",
    "dados_voos_2017 = df.withColumn('ATRASADO', when(col('ARR_DELAY').isNull(), 'NA').when(col('ARR_DELAY') >= 15, '1').otherwise('0'))"
   ]
  },
  {
   "cell_type": "code",
   "execution_count": 13,
   "id": "aed375cf",
   "metadata": {},
   "outputs": [
    {
     "data": {
      "text/html": [
       "<table border='1'>\n",
       "<tr><th>FL_DATE</th><th>OP_CARRIER</th><th>OP_CARRIER_FL_NUM</th><th>ORIGIN</th><th>DEST</th><th>CRS_DEP_TIME</th><th>DEP_TIME</th><th>DEP_DELAY</th><th>TAXI_OUT</th><th>WHEELS_OFF</th><th>WHEELS_ON</th><th>TAXI_IN</th><th>CRS_ARR_TIME</th><th>ARR_TIME</th><th>ARR_DELAY</th><th>CANCELLED</th><th>CANCELLATION_CODE</th><th>DIVERTED</th><th>CRS_ELAPSED_TIME</th><th>ACTUAL_ELAPSED_TIME</th><th>AIR_TIME</th><th>DISTANCE</th><th>CARRIER_DELAY</th><th>WEATHER_DELAY</th><th>NAS_DELAY</th><th>SECURITY_DELAY</th><th>LATE_AIRCRAFT_DELAY</th><th>ATRASADO</th></tr>\n",
       "<tr><td>2017-01-01</td><td>AA</td><td>1</td><td>JFK</td><td>LAX</td><td>800</td><td>831.0</td><td>31.0</td><td>25.0</td><td>856.0</td><td>1143.0</td><td>26.0</td><td>1142</td><td>1209.0</td><td>27.0</td><td>0.0</td><td>null</td><td>0.0</td><td>402.0</td><td>398.0</td><td>347.0</td><td>2475.0</td><td>27.0</td><td>0.0</td><td>0.0</td><td>0.0</td><td>0.0</td><td>1</td></tr>\n",
       "<tr><td>2017-01-01</td><td>AA</td><td>2</td><td>LAX</td><td>JFK</td><td>900</td><td>934.0</td><td>34.0</td><td>34.0</td><td>1008.0</td><td>1757.0</td><td>12.0</td><td>1727</td><td>1809.0</td><td>42.0</td><td>0.0</td><td>null</td><td>0.0</td><td>327.0</td><td>335.0</td><td>289.0</td><td>2475.0</td><td>34.0</td><td>0.0</td><td>8.0</td><td>0.0</td><td>0.0</td><td>1</td></tr>\n",
       "<tr><td>2017-01-01</td><td>AA</td><td>4</td><td>LAX</td><td>JFK</td><td>1130</td><td>1221.0</td><td>51.0</td><td>20.0</td><td>1241.0</td><td>2025.0</td><td>15.0</td><td>1958</td><td>2040.0</td><td>42.0</td><td>0.0</td><td>null</td><td>0.0</td><td>328.0</td><td>319.0</td><td>284.0</td><td>2475.0</td><td>7.0</td><td>0.0</td><td>0.0</td><td>0.0</td><td>35.0</td><td>1</td></tr>\n",
       "<tr><td>2017-01-01</td><td>AA</td><td>5</td><td>DFW</td><td>HNL</td><td>1135</td><td>1252.0</td><td>77.0</td><td>19.0</td><td>1311.0</td><td>1744.0</td><td>5.0</td><td>1612</td><td>1749.0</td><td>97.0</td><td>0.0</td><td>null</td><td>0.0</td><td>517.0</td><td>537.0</td><td>513.0</td><td>3784.0</td><td>77.0</td><td>0.0</td><td>20.0</td><td>0.0</td><td>0.0</td><td>1</td></tr>\n",
       "<tr><td>2017-01-01</td><td>AA</td><td>6</td><td>OGG</td><td>DFW</td><td>1855</td><td>1855.0</td><td>0.0</td><td>16.0</td><td>1911.0</td><td>631.0</td><td>11.0</td><td>600</td><td>642.0</td><td>42.0</td><td>0.0</td><td>null</td><td>0.0</td><td>425.0</td><td>467.0</td><td>440.0</td><td>3711.0</td><td>0.0</td><td>0.0</td><td>42.0</td><td>0.0</td><td>0.0</td><td>1</td></tr>\n",
       "<tr><td>2017-01-01</td><td>AA</td><td>7</td><td>DFW</td><td>OGG</td><td>940</td><td>1619.0</td><td>399.0</td><td>12.0</td><td>1631.0</td><td>2031.0</td><td>6.0</td><td>1403</td><td>2037.0</td><td>394.0</td><td>0.0</td><td>null</td><td>0.0</td><td>503.0</td><td>498.0</td><td>480.0</td><td>3711.0</td><td>394.0</td><td>0.0</td><td>0.0</td><td>0.0</td><td>0.0</td><td>1</td></tr>\n",
       "<tr><td>2017-01-01</td><td>AA</td><td>8</td><td>HNL</td><td>DFW</td><td>1838</td><td>1903.0</td><td>25.0</td><td>19.0</td><td>1922.0</td><td>636.0</td><td>12.0</td><td>550</td><td>648.0</td><td>58.0</td><td>0.0</td><td>null</td><td>0.0</td><td>432.0</td><td>465.0</td><td>434.0</td><td>3784.0</td><td>25.0</td><td>0.0</td><td>33.0</td><td>0.0</td><td>0.0</td><td>1</td></tr>\n",
       "<tr><td>2017-01-01</td><td>AA</td><td>9</td><td>JFK</td><td>SFO</td><td>700</td><td>656.0</td><td>-4.0</td><td>22.0</td><td>718.0</td><td>1020.0</td><td>3.0</td><td>1045</td><td>1023.0</td><td>-22.0</td><td>0.0</td><td>null</td><td>0.0</td><td>405.0</td><td>387.0</td><td>362.0</td><td>2586.0</td><td>null</td><td>null</td><td>null</td><td>null</td><td>null</td><td>0</td></tr>\n",
       "<tr><td>2017-01-01</td><td>AA</td><td>10</td><td>LAX</td><td>JFK</td><td>2100</td><td>2100.0</td><td>0.0</td><td>15.0</td><td>2115.0</td><td>447.0</td><td>10.0</td><td>527</td><td>457.0</td><td>-30.0</td><td>0.0</td><td>null</td><td>0.0</td><td>327.0</td><td>297.0</td><td>272.0</td><td>2475.0</td><td>null</td><td>null</td><td>null</td><td>null</td><td>null</td><td>0</td></tr>\n",
       "<tr><td>2017-01-01</td><td>AA</td><td>12</td><td>SFO</td><td>JFK</td><td>1135</td><td>1130.0</td><td>-5.0</td><td>27.0</td><td>1157.0</td><td>1937.0</td><td>17.0</td><td>2018</td><td>1954.0</td><td>-24.0</td><td>0.0</td><td>null</td><td>0.0</td><td>343.0</td><td>324.0</td><td>280.0</td><td>2586.0</td><td>null</td><td>null</td><td>null</td><td>null</td><td>null</td><td>0</td></tr>\n",
       "<tr><td>2017-01-01</td><td>AA</td><td>14</td><td>OGG</td><td>LAX</td><td>2313</td><td>2350.0</td><td>37.0</td><td>9.0</td><td>2359.0</td><td>628.0</td><td>11.0</td><td>630</td><td>639.0</td><td>9.0</td><td>0.0</td><td>null</td><td>0.0</td><td>317.0</td><td>289.0</td><td>269.0</td><td>2486.0</td><td>null</td><td>null</td><td>null</td><td>null</td><td>null</td><td>0</td></tr>\n",
       "<tr><td>2017-01-01</td><td>AA</td><td>15</td><td>JFK</td><td>SFO</td><td>825</td><td>824.0</td><td>-1.0</td><td>19.0</td><td>843.0</td><td>1149.0</td><td>3.0</td><td>1212</td><td>1152.0</td><td>-20.0</td><td>0.0</td><td>null</td><td>0.0</td><td>407.0</td><td>388.0</td><td>366.0</td><td>2586.0</td><td>null</td><td>null</td><td>null</td><td>null</td><td>null</td><td>0</td></tr>\n",
       "<tr><td>2017-01-01</td><td>AA</td><td>16</td><td>SFO</td><td>JFK</td><td>1305</td><td>1259.0</td><td>-6.0</td><td>14.0</td><td>1313.0</td><td>2059.0</td><td>8.0</td><td>2137</td><td>2107.0</td><td>-30.0</td><td>0.0</td><td>null</td><td>0.0</td><td>332.0</td><td>308.0</td><td>286.0</td><td>2586.0</td><td>null</td><td>null</td><td>null</td><td>null</td><td>null</td><td>0</td></tr>\n",
       "<tr><td>2017-01-01</td><td>AA</td><td>19</td><td>JFK</td><td>LAX</td><td>900</td><td>856.0</td><td>-4.0</td><td>22.0</td><td>918.0</td><td>1204.0</td><td>29.0</td><td>1246</td><td>1233.0</td><td>-13.0</td><td>0.0</td><td>null</td><td>0.0</td><td>406.0</td><td>397.0</td><td>346.0</td><td>2475.0</td><td>null</td><td>null</td><td>null</td><td>null</td><td>null</td><td>0</td></tr>\n",
       "<tr><td>2017-01-01</td><td>AA</td><td>20</td><td>SFO</td><td>JFK</td><td>1530</td><td>1525.0</td><td>-5.0</td><td>16.0</td><td>1541.0</td><td>2319.0</td><td>14.0</td><td>2357</td><td>2333.0</td><td>-24.0</td><td>0.0</td><td>null</td><td>0.0</td><td>327.0</td><td>308.0</td><td>278.0</td><td>2586.0</td><td>null</td><td>null</td><td>null</td><td>null</td><td>null</td><td>0</td></tr>\n",
       "<tr><td>2017-01-01</td><td>AA</td><td>21</td><td>JFK</td><td>LAX</td><td>1900</td><td>1922.0</td><td>22.0</td><td>20.0</td><td>1942.0</td><td>2241.0</td><td>37.0</td><td>2247</td><td>2318.0</td><td>31.0</td><td>0.0</td><td>null</td><td>0.0</td><td>407.0</td><td>416.0</td><td>359.0</td><td>2475.0</td><td>22.0</td><td>0.0</td><td>9.0</td><td>0.0</td><td>0.0</td><td>1</td></tr>\n",
       "<tr><td>2017-01-01</td><td>AA</td><td>22</td><td>LAX</td><td>JFK</td><td>1340</td><td>1346.0</td><td>6.0</td><td>14.0</td><td>1400.0</td><td>2149.0</td><td>14.0</td><td>2208</td><td>2203.0</td><td>-5.0</td><td>0.0</td><td>null</td><td>0.0</td><td>328.0</td><td>317.0</td><td>289.0</td><td>2475.0</td><td>null</td><td>null</td><td>null</td><td>null</td><td>null</td><td>0</td></tr>\n",
       "<tr><td>2017-01-01</td><td>AA</td><td>23</td><td>JFK</td><td>LAX</td><td>2215</td><td>2225.0</td><td>10.0</td><td>23.0</td><td>2248.0</td><td>154.0</td><td>9.0</td><td>157</td><td>203.0</td><td>6.0</td><td>0.0</td><td>null</td><td>0.0</td><td>402.0</td><td>398.0</td><td>366.0</td><td>2475.0</td><td>null</td><td>null</td><td>null</td><td>null</td><td>null</td><td>0</td></tr>\n",
       "<tr><td>2017-01-01</td><td>AA</td><td>25</td><td>ORD</td><td>LAS</td><td>1705</td><td>1707.0</td><td>2.0</td><td>13.0</td><td>1720.0</td><td>1858.0</td><td>17.0</td><td>1907</td><td>1915.0</td><td>8.0</td><td>0.0</td><td>null</td><td>0.0</td><td>242.0</td><td>248.0</td><td>218.0</td><td>1514.0</td><td>null</td><td>null</td><td>null</td><td>null</td><td>null</td><td>0</td></tr>\n",
       "<tr><td>2017-01-01</td><td>AA</td><td>28</td><td>LAX</td><td>JFK</td><td>2200</td><td>2202.0</td><td>2.0</td><td>22.0</td><td>2224.0</td><td>557.0</td><td>55.0</td><td>627</td><td>652.0</td><td>25.0</td><td>0.0</td><td>null</td><td>0.0</td><td>327.0</td><td>350.0</td><td>273.0</td><td>2475.0</td><td>2.0</td><td>0.0</td><td>23.0</td><td>0.0</td><td>0.0</td><td>1</td></tr>\n",
       "</table>\n",
       "only showing top 20 rows\n"
      ],
      "text/plain": [
       "+----------+----------+-----------------+------+----+------------+--------+---------+--------+----------+---------+-------+------------+--------+---------+---------+-----------------+--------+----------------+-------------------+--------+--------+-------------+-------------+---------+--------------+-------------------+--------+\n",
       "|   FL_DATE|OP_CARRIER|OP_CARRIER_FL_NUM|ORIGIN|DEST|CRS_DEP_TIME|DEP_TIME|DEP_DELAY|TAXI_OUT|WHEELS_OFF|WHEELS_ON|TAXI_IN|CRS_ARR_TIME|ARR_TIME|ARR_DELAY|CANCELLED|CANCELLATION_CODE|DIVERTED|CRS_ELAPSED_TIME|ACTUAL_ELAPSED_TIME|AIR_TIME|DISTANCE|CARRIER_DELAY|WEATHER_DELAY|NAS_DELAY|SECURITY_DELAY|LATE_AIRCRAFT_DELAY|ATRASADO|\n",
       "+----------+----------+-----------------+------+----+------------+--------+---------+--------+----------+---------+-------+------------+--------+---------+---------+-----------------+--------+----------------+-------------------+--------+--------+-------------+-------------+---------+--------------+-------------------+--------+\n",
       "|2017-01-01|        AA|                1|   JFK| LAX|         800|   831.0|     31.0|    25.0|     856.0|   1143.0|   26.0|        1142|  1209.0|     27.0|      0.0|             null|     0.0|           402.0|              398.0|   347.0|  2475.0|         27.0|          0.0|      0.0|           0.0|                0.0|       1|\n",
       "|2017-01-01|        AA|                2|   LAX| JFK|         900|   934.0|     34.0|    34.0|    1008.0|   1757.0|   12.0|        1727|  1809.0|     42.0|      0.0|             null|     0.0|           327.0|              335.0|   289.0|  2475.0|         34.0|          0.0|      8.0|           0.0|                0.0|       1|\n",
       "|2017-01-01|        AA|                4|   LAX| JFK|        1130|  1221.0|     51.0|    20.0|    1241.0|   2025.0|   15.0|        1958|  2040.0|     42.0|      0.0|             null|     0.0|           328.0|              319.0|   284.0|  2475.0|          7.0|          0.0|      0.0|           0.0|               35.0|       1|\n",
       "|2017-01-01|        AA|                5|   DFW| HNL|        1135|  1252.0|     77.0|    19.0|    1311.0|   1744.0|    5.0|        1612|  1749.0|     97.0|      0.0|             null|     0.0|           517.0|              537.0|   513.0|  3784.0|         77.0|          0.0|     20.0|           0.0|                0.0|       1|\n",
       "|2017-01-01|        AA|                6|   OGG| DFW|        1855|  1855.0|      0.0|    16.0|    1911.0|    631.0|   11.0|         600|   642.0|     42.0|      0.0|             null|     0.0|           425.0|              467.0|   440.0|  3711.0|          0.0|          0.0|     42.0|           0.0|                0.0|       1|\n",
       "|2017-01-01|        AA|                7|   DFW| OGG|         940|  1619.0|    399.0|    12.0|    1631.0|   2031.0|    6.0|        1403|  2037.0|    394.0|      0.0|             null|     0.0|           503.0|              498.0|   480.0|  3711.0|        394.0|          0.0|      0.0|           0.0|                0.0|       1|\n",
       "|2017-01-01|        AA|                8|   HNL| DFW|        1838|  1903.0|     25.0|    19.0|    1922.0|    636.0|   12.0|         550|   648.0|     58.0|      0.0|             null|     0.0|           432.0|              465.0|   434.0|  3784.0|         25.0|          0.0|     33.0|           0.0|                0.0|       1|\n",
       "|2017-01-01|        AA|                9|   JFK| SFO|         700|   656.0|     -4.0|    22.0|     718.0|   1020.0|    3.0|        1045|  1023.0|    -22.0|      0.0|             null|     0.0|           405.0|              387.0|   362.0|  2586.0|         null|         null|     null|          null|               null|       0|\n",
       "|2017-01-01|        AA|               10|   LAX| JFK|        2100|  2100.0|      0.0|    15.0|    2115.0|    447.0|   10.0|         527|   457.0|    -30.0|      0.0|             null|     0.0|           327.0|              297.0|   272.0|  2475.0|         null|         null|     null|          null|               null|       0|\n",
       "|2017-01-01|        AA|               12|   SFO| JFK|        1135|  1130.0|     -5.0|    27.0|    1157.0|   1937.0|   17.0|        2018|  1954.0|    -24.0|      0.0|             null|     0.0|           343.0|              324.0|   280.0|  2586.0|         null|         null|     null|          null|               null|       0|\n",
       "|2017-01-01|        AA|               14|   OGG| LAX|        2313|  2350.0|     37.0|     9.0|    2359.0|    628.0|   11.0|         630|   639.0|      9.0|      0.0|             null|     0.0|           317.0|              289.0|   269.0|  2486.0|         null|         null|     null|          null|               null|       0|\n",
       "|2017-01-01|        AA|               15|   JFK| SFO|         825|   824.0|     -1.0|    19.0|     843.0|   1149.0|    3.0|        1212|  1152.0|    -20.0|      0.0|             null|     0.0|           407.0|              388.0|   366.0|  2586.0|         null|         null|     null|          null|               null|       0|\n",
       "|2017-01-01|        AA|               16|   SFO| JFK|        1305|  1259.0|     -6.0|    14.0|    1313.0|   2059.0|    8.0|        2137|  2107.0|    -30.0|      0.0|             null|     0.0|           332.0|              308.0|   286.0|  2586.0|         null|         null|     null|          null|               null|       0|\n",
       "|2017-01-01|        AA|               19|   JFK| LAX|         900|   856.0|     -4.0|    22.0|     918.0|   1204.0|   29.0|        1246|  1233.0|    -13.0|      0.0|             null|     0.0|           406.0|              397.0|   346.0|  2475.0|         null|         null|     null|          null|               null|       0|\n",
       "|2017-01-01|        AA|               20|   SFO| JFK|        1530|  1525.0|     -5.0|    16.0|    1541.0|   2319.0|   14.0|        2357|  2333.0|    -24.0|      0.0|             null|     0.0|           327.0|              308.0|   278.0|  2586.0|         null|         null|     null|          null|               null|       0|\n",
       "|2017-01-01|        AA|               21|   JFK| LAX|        1900|  1922.0|     22.0|    20.0|    1942.0|   2241.0|   37.0|        2247|  2318.0|     31.0|      0.0|             null|     0.0|           407.0|              416.0|   359.0|  2475.0|         22.0|          0.0|      9.0|           0.0|                0.0|       1|\n",
       "|2017-01-01|        AA|               22|   LAX| JFK|        1340|  1346.0|      6.0|    14.0|    1400.0|   2149.0|   14.0|        2208|  2203.0|     -5.0|      0.0|             null|     0.0|           328.0|              317.0|   289.0|  2475.0|         null|         null|     null|          null|               null|       0|\n",
       "|2017-01-01|        AA|               23|   JFK| LAX|        2215|  2225.0|     10.0|    23.0|    2248.0|    154.0|    9.0|         157|   203.0|      6.0|      0.0|             null|     0.0|           402.0|              398.0|   366.0|  2475.0|         null|         null|     null|          null|               null|       0|\n",
       "|2017-01-01|        AA|               25|   ORD| LAS|        1705|  1707.0|      2.0|    13.0|    1720.0|   1858.0|   17.0|        1907|  1915.0|      8.0|      0.0|             null|     0.0|           242.0|              248.0|   218.0|  1514.0|         null|         null|     null|          null|               null|       0|\n",
       "|2017-01-01|        AA|               28|   LAX| JFK|        2200|  2202.0|      2.0|    22.0|    2224.0|    557.0|   55.0|         627|   652.0|     25.0|      0.0|             null|     0.0|           327.0|              350.0|   273.0|  2475.0|          2.0|          0.0|     23.0|           0.0|                0.0|       1|\n",
       "+----------+----------+-----------------+------+----+------------+--------+---------+--------+----------+---------+-------+------------+--------+---------+---------+-----------------+--------+----------------+-------------------+--------+--------+-------------+-------------+---------+--------------+-------------------+--------+\n",
       "only showing top 20 rows"
      ]
     },
     "execution_count": 13,
     "metadata": {},
     "output_type": "execute_result"
    }
   ],
   "source": [
    "dados_voos_2017"
   ]
  },
  {
   "cell_type": "markdown",
   "id": "3c7609b5",
   "metadata": {},
   "source": [
    "### Quantidade de voos Atrasados"
   ]
  },
  {
   "cell_type": "code",
   "execution_count": 14,
   "id": "f32a3952",
   "metadata": {},
   "outputs": [],
   "source": [
    "# Total de Linhas\n",
    "total = dados_voos_2017.count()\n",
    "\n",
    "# Agrupando voos Cancelados\n",
    "dados_agrupados_atrasado = dados_voos_2017.groupBy('ATRASADO').count().withColumnRenamed(\"count\", \"Quantidade\")"
   ]
  },
  {
   "cell_type": "code",
   "execution_count": 15,
   "id": "129db874",
   "metadata": {},
   "outputs": [],
   "source": [
    "# Transformando agrupamento em um Pandas DataFrame (memoria python)\n",
    "dados_agrupados_atrasado_py = dados_agrupados_atrasado.toPandas()\n",
    "\n",
    "# Criando COluna %\n",
    "dados_agrupados_atrasado_py['%'] = dados_agrupados_atrasado_py.Quantidade.apply(lambda x: x/total*100)"
   ]
  },
  {
   "cell_type": "code",
   "execution_count": 16,
   "id": "4f05d7be",
   "metadata": {},
   "outputs": [
    {
     "data": {
      "text/html": [
       "<div>\n",
       "<style scoped>\n",
       "    .dataframe tbody tr th:only-of-type {\n",
       "        vertical-align: middle;\n",
       "    }\n",
       "\n",
       "    .dataframe tbody tr th {\n",
       "        vertical-align: top;\n",
       "    }\n",
       "\n",
       "    .dataframe thead th {\n",
       "        text-align: right;\n",
       "    }\n",
       "</style>\n",
       "<table border=\"1\" class=\"dataframe\">\n",
       "  <thead>\n",
       "    <tr style=\"text-align: right;\">\n",
       "      <th></th>\n",
       "      <th>ATRASADO</th>\n",
       "      <th>Quantidade</th>\n",
       "      <th>%</th>\n",
       "    </tr>\n",
       "  </thead>\n",
       "  <tbody>\n",
       "    <tr>\n",
       "      <th>0</th>\n",
       "      <td>0</td>\n",
       "      <td>4549936</td>\n",
       "      <td>80.180438</td>\n",
       "    </tr>\n",
       "    <tr>\n",
       "      <th>1</th>\n",
       "      <td>NA</td>\n",
       "      <td>95211</td>\n",
       "      <td>1.677839</td>\n",
       "    </tr>\n",
       "    <tr>\n",
       "      <th>2</th>\n",
       "      <td>1</td>\n",
       "      <td>1029474</td>\n",
       "      <td>18.141723</td>\n",
       "    </tr>\n",
       "  </tbody>\n",
       "</table>\n",
       "</div>"
      ],
      "text/plain": [
       "  ATRASADO  Quantidade          %\n",
       "0        0     4549936  80.180438\n",
       "1       NA       95211   1.677839\n",
       "2        1     1029474  18.141723"
      ]
     },
     "execution_count": 16,
     "metadata": {},
     "output_type": "execute_result"
    }
   ],
   "source": [
    "dados_agrupados_atrasado_py"
   ]
  },
  {
   "cell_type": "markdown",
   "id": "0709060a",
   "metadata": {},
   "source": [
    "### Gráfico Comparativo"
   ]
  },
  {
   "cell_type": "code",
   "execution_count": 17,
   "id": "d6d85a9c",
   "metadata": {},
   "outputs": [
    {
     "data": {
      "text/plain": [
       "<Axes: xlabel='ATRASADO', ylabel='Quantidade'>"
      ]
     },
     "execution_count": 17,
     "metadata": {},
     "output_type": "execute_result"
    },
    {
     "data": {
      "image/png": "[encoded data removed]",
      "text/plain": [
       "<Figure size 640x480 with 1 Axes>"
      ]
     },
     "metadata": {},
     "output_type": "display_data"
    }
   ],
   "source": [
    "sns.barplot(data=dados_agrupados_atrasado_py, x=\"ATRASADO\", y=\"Quantidade\")"
   ]
  },
  {
   "cell_type": "markdown",
   "id": "dcfb967f",
   "metadata": {},
   "source": [
    "# Dados Voos  2018"
   ]
  },
  {
   "cell_type": "code",
   "execution_count": 5,
   "id": "35b7ad60",
   "metadata": {},
   "outputs": [],
   "source": [
    "# Carregando a Base em spark\n",
    "\n",
    "#https://spark.apache.org/docs/latest/api/python/\n",
    "\n",
    "spark = SparkSession.builder.appName(\"ImportCSV\").getOrCreate()\n",
    "\n",
    "path = r'C:\\Users\\leomu\\OneDrive\\MBA\\Big Data\\Aula 1\\scripts\\datasets\\voos-avioes\\2018.csv'\n",
    "\n",
    "df_18 = spark.read.format(\"csv\") \\\n",
    "    .option(\"header\", \"true\") \\\n",
    "    .option(\"inferSchema\", \"true\") \\\n",
    "    .load(path)"
   ]
  },
  {
   "cell_type": "code",
   "execution_count": 19,
   "id": "e87b242e",
   "metadata": {},
   "outputs": [
    {
     "data": {
      "text/html": [
       "<table border='1'>\n",
       "<tr><th>FL_DATE</th><th>OP_CARRIER</th><th>OP_CARRIER_FL_NUM</th><th>ORIGIN</th><th>DEST</th><th>CRS_DEP_TIME</th><th>DEP_TIME</th><th>DEP_DELAY</th><th>TAXI_OUT</th><th>WHEELS_OFF</th><th>WHEELS_ON</th><th>TAXI_IN</th><th>CRS_ARR_TIME</th><th>ARR_TIME</th><th>ARR_DELAY</th><th>CANCELLED</th><th>CANCELLATION_CODE</th><th>DIVERTED</th><th>CRS_ELAPSED_TIME</th><th>ACTUAL_ELAPSED_TIME</th><th>AIR_TIME</th><th>DISTANCE</th><th>CARRIER_DELAY</th><th>WEATHER_DELAY</th><th>NAS_DELAY</th><th>SECURITY_DELAY</th><th>LATE_AIRCRAFT_DELAY</th><th>Unnamed: 27</th></tr>\n",
       "<tr><td>2018-01-01</td><td>UA</td><td>2429</td><td>EWR</td><td>DEN</td><td>1517</td><td>1512.0</td><td>-5.0</td><td>15.0</td><td>1527.0</td><td>1712.0</td><td>10.0</td><td>1745</td><td>1722.0</td><td>-23.0</td><td>0.0</td><td>null</td><td>0.0</td><td>268.0</td><td>250.0</td><td>225.0</td><td>1605.0</td><td>null</td><td>null</td><td>null</td><td>null</td><td>null</td><td>null</td></tr>\n",
       "<tr><td>2018-01-01</td><td>UA</td><td>2427</td><td>LAS</td><td>SFO</td><td>1115</td><td>1107.0</td><td>-8.0</td><td>11.0</td><td>1118.0</td><td>1223.0</td><td>7.0</td><td>1254</td><td>1230.0</td><td>-24.0</td><td>0.0</td><td>null</td><td>0.0</td><td>99.0</td><td>83.0</td><td>65.0</td><td>414.0</td><td>null</td><td>null</td><td>null</td><td>null</td><td>null</td><td>null</td></tr>\n",
       "<tr><td>2018-01-01</td><td>UA</td><td>2426</td><td>SNA</td><td>DEN</td><td>1335</td><td>1330.0</td><td>-5.0</td><td>15.0</td><td>1345.0</td><td>1631.0</td><td>5.0</td><td>1649</td><td>1636.0</td><td>-13.0</td><td>0.0</td><td>null</td><td>0.0</td><td>134.0</td><td>126.0</td><td>106.0</td><td>846.0</td><td>null</td><td>null</td><td>null</td><td>null</td><td>null</td><td>null</td></tr>\n",
       "<tr><td>2018-01-01</td><td>UA</td><td>2425</td><td>RSW</td><td>ORD</td><td>1546</td><td>1552.0</td><td>6.0</td><td>19.0</td><td>1611.0</td><td>1748.0</td><td>6.0</td><td>1756</td><td>1754.0</td><td>-2.0</td><td>0.0</td><td>null</td><td>0.0</td><td>190.0</td><td>182.0</td><td>157.0</td><td>1120.0</td><td>null</td><td>null</td><td>null</td><td>null</td><td>null</td><td>null</td></tr>\n",
       "<tr><td>2018-01-01</td><td>UA</td><td>2424</td><td>ORD</td><td>ALB</td><td>630</td><td>650.0</td><td>20.0</td><td>13.0</td><td>703.0</td><td>926.0</td><td>10.0</td><td>922</td><td>936.0</td><td>14.0</td><td>0.0</td><td>null</td><td>0.0</td><td>112.0</td><td>106.0</td><td>83.0</td><td>723.0</td><td>null</td><td>null</td><td>null</td><td>null</td><td>null</td><td>null</td></tr>\n",
       "<tr><td>2018-01-01</td><td>UA</td><td>2422</td><td>ORD</td><td>OMA</td><td>2241</td><td>2244.0</td><td>3.0</td><td>15.0</td><td>2259.0</td><td>1.0</td><td>2.0</td><td>14</td><td>3.0</td><td>-11.0</td><td>0.0</td><td>null</td><td>0.0</td><td>93.0</td><td>79.0</td><td>62.0</td><td>416.0</td><td>null</td><td>null</td><td>null</td><td>null</td><td>null</td><td>null</td></tr>\n",
       "<tr><td>2018-01-01</td><td>UA</td><td>2421</td><td>IAH</td><td>LAS</td><td>750</td><td>747.0</td><td>-3.0</td><td>14.0</td><td>801.0</td><td>854.0</td><td>6.0</td><td>916</td><td>900.0</td><td>-16.0</td><td>0.0</td><td>null</td><td>0.0</td><td>206.0</td><td>193.0</td><td>173.0</td><td>1222.0</td><td>null</td><td>null</td><td>null</td><td>null</td><td>null</td><td>null</td></tr>\n",
       "<tr><td>2018-01-01</td><td>UA</td><td>2420</td><td>DEN</td><td>CID</td><td>1324</td><td>1318.0</td><td>-6.0</td><td>11.0</td><td>1329.0</td><td>1554.0</td><td>6.0</td><td>1619</td><td>1600.0</td><td>-19.0</td><td>0.0</td><td>null</td><td>0.0</td><td>115.0</td><td>102.0</td><td>85.0</td><td>692.0</td><td>null</td><td>null</td><td>null</td><td>null</td><td>null</td><td>null</td></tr>\n",
       "<tr><td>2018-01-01</td><td>UA</td><td>2419</td><td>SMF</td><td>EWR</td><td>2224</td><td>2237.0</td><td>13.0</td><td>10.0</td><td>2247.0</td><td>627.0</td><td>9.0</td><td>638</td><td>636.0</td><td>-2.0</td><td>0.0</td><td>null</td><td>0.0</td><td>314.0</td><td>299.0</td><td>280.0</td><td>2500.0</td><td>null</td><td>null</td><td>null</td><td>null</td><td>null</td><td>null</td></tr>\n",
       "<tr><td>2018-01-01</td><td>UA</td><td>2418</td><td>RIC</td><td>DEN</td><td>1601</td><td>1559.0</td><td>-2.0</td><td>12.0</td><td>1611.0</td><td>1748.0</td><td>8.0</td><td>1813</td><td>1756.0</td><td>-17.0</td><td>0.0</td><td>null</td><td>0.0</td><td>252.0</td><td>237.0</td><td>217.0</td><td>1482.0</td><td>null</td><td>null</td><td>null</td><td>null</td><td>null</td><td>null</td></tr>\n",
       "<tr><td>2018-01-01</td><td>UA</td><td>2417</td><td>PDX</td><td>EWR</td><td>2240</td><td>2235.0</td><td>-5.0</td><td>9.0</td><td>2244.0</td><td>624.0</td><td>7.0</td><td>647</td><td>631.0</td><td>-16.0</td><td>0.0</td><td>null</td><td>0.0</td><td>307.0</td><td>296.0</td><td>280.0</td><td>2434.0</td><td>null</td><td>null</td><td>null</td><td>null</td><td>null</td><td>null</td></tr>\n",
       "<tr><td>2018-01-01</td><td>UA</td><td>2416</td><td>ORD</td><td>CLE</td><td>2059</td><td>2300.0</td><td>121.0</td><td>24.0</td><td>2324.0</td><td>112.0</td><td>8.0</td><td>2311</td><td>120.0</td><td>129.0</td><td>0.0</td><td>null</td><td>0.0</td><td>72.0</td><td>80.0</td><td>48.0</td><td>316.0</td><td>121.0</td><td>0.0</td><td>8.0</td><td>0.0</td><td>0.0</td><td>null</td></tr>\n",
       "<tr><td>2018-01-01</td><td>UA</td><td>2415</td><td>EWR</td><td>PDX</td><td>825</td><td>822.0</td><td>-3.0</td><td>15.0</td><td>837.0</td><td>1104.0</td><td>5.0</td><td>1135</td><td>1109.0</td><td>-26.0</td><td>0.0</td><td>null</td><td>0.0</td><td>370.0</td><td>347.0</td><td>327.0</td><td>2434.0</td><td>null</td><td>null</td><td>null</td><td>null</td><td>null</td><td>null</td></tr>\n",
       "<tr><td>2018-01-01</td><td>UA</td><td>2414</td><td>EWR</td><td>ATL</td><td>1044</td><td>1055.0</td><td>11.0</td><td>11.0</td><td>1106.0</td><td>1310.0</td><td>5.0</td><td>1318</td><td>1315.0</td><td>-3.0</td><td>0.0</td><td>null</td><td>0.0</td><td>154.0</td><td>140.0</td><td>124.0</td><td>746.0</td><td>null</td><td>null</td><td>null</td><td>null</td><td>null</td><td>null</td></tr>\n",
       "<tr><td>2018-01-01</td><td>UA</td><td>2413</td><td>ORD</td><td>BTV</td><td>2114</td><td>2230.0</td><td>76.0</td><td>14.0</td><td>2244.0</td><td>123.0</td><td>5.0</td><td>15</td><td>128.0</td><td>73.0</td><td>0.0</td><td>null</td><td>0.0</td><td>121.0</td><td>118.0</td><td>99.0</td><td>763.0</td><td>0.0</td><td>11.0</td><td>0.0</td><td>0.0</td><td>62.0</td><td>null</td></tr>\n",
       "<tr><td>2018-01-01</td><td>UA</td><td>2412</td><td>MCO</td><td>LAX</td><td>653</td><td>747.0</td><td>54.0</td><td>14.0</td><td>801.0</td><td>1003.0</td><td>22.0</td><td>930</td><td>1025.0</td><td>55.0</td><td>0.0</td><td>null</td><td>0.0</td><td>337.0</td><td>338.0</td><td>302.0</td><td>2218.0</td><td>54.0</td><td>0.0</td><td>1.0</td><td>0.0</td><td>0.0</td><td>null</td></tr>\n",
       "<tr><td>2018-01-01</td><td>UA</td><td>2411</td><td>EWR</td><td>SMF</td><td>1810</td><td>1922.0</td><td>72.0</td><td>16.0</td><td>1938.0</td><td>2157.0</td><td>4.0</td><td>2136</td><td>2201.0</td><td>25.0</td><td>0.0</td><td>null</td><td>0.0</td><td>386.0</td><td>339.0</td><td>319.0</td><td>2500.0</td><td>7.0</td><td>0.0</td><td>0.0</td><td>0.0</td><td>18.0</td><td>null</td></tr>\n",
       "<tr><td>2018-01-01</td><td>UA</td><td>2410</td><td>RSW</td><td>EWR</td><td>1250</td><td>1337.0</td><td>47.0</td><td>12.0</td><td>1349.0</td><td>1600.0</td><td>6.0</td><td>1537</td><td>1606.0</td><td>29.0</td><td>0.0</td><td>null</td><td>0.0</td><td>167.0</td><td>149.0</td><td>131.0</td><td>1068.0</td><td>29.0</td><td>0.0</td><td>0.0</td><td>0.0</td><td>0.0</td><td>null</td></tr>\n",
       "<tr><td>2018-01-01</td><td>UA</td><td>2409</td><td>IAH</td><td>JAC</td><td>940</td><td>934.0</td><td>-6.0</td><td>18.0</td><td>952.0</td><td>1156.0</td><td>4.0</td><td>1218</td><td>1200.0</td><td>-18.0</td><td>0.0</td><td>null</td><td>0.0</td><td>218.0</td><td>206.0</td><td>184.0</td><td>1265.0</td><td>null</td><td>null</td><td>null</td><td>null</td><td>null</td><td>null</td></tr>\n",
       "<tr><td>2018-01-01</td><td>UA</td><td>2408</td><td>TYS</td><td>EWR</td><td>1131</td><td>1140.0</td><td>9.0</td><td>9.0</td><td>1149.0</td><td>1307.0</td><td>5.0</td><td>1333</td><td>1312.0</td><td>-21.0</td><td>0.0</td><td>null</td><td>0.0</td><td>122.0</td><td>92.0</td><td>78.0</td><td>631.0</td><td>null</td><td>null</td><td>null</td><td>null</td><td>null</td><td>null</td></tr>\n",
       "</table>\n",
       "only showing top 20 rows\n"
      ],
      "text/plain": [
       "+----------+----------+-----------------+------+----+------------+--------+---------+--------+----------+---------+-------+------------+--------+---------+---------+-----------------+--------+----------------+-------------------+--------+--------+-------------+-------------+---------+--------------+-------------------+-----------+\n",
       "|   FL_DATE|OP_CARRIER|OP_CARRIER_FL_NUM|ORIGIN|DEST|CRS_DEP_TIME|DEP_TIME|DEP_DELAY|TAXI_OUT|WHEELS_OFF|WHEELS_ON|TAXI_IN|CRS_ARR_TIME|ARR_TIME|ARR_DELAY|CANCELLED|CANCELLATION_CODE|DIVERTED|CRS_ELAPSED_TIME|ACTUAL_ELAPSED_TIME|AIR_TIME|DISTANCE|CARRIER_DELAY|WEATHER_DELAY|NAS_DELAY|SECURITY_DELAY|LATE_AIRCRAFT_DELAY|Unnamed: 27|\n",
       "+----------+----------+-----------------+------+----+------------+--------+---------+--------+----------+---------+-------+------------+--------+---------+---------+-----------------+--------+----------------+-------------------+--------+--------+-------------+-------------+---------+--------------+-------------------+-----------+\n",
       "|2018-01-01|        UA|             2429|   EWR| DEN|        1517|  1512.0|     -5.0|    15.0|    1527.0|   1712.0|   10.0|        1745|  1722.0|    -23.0|      0.0|             null|     0.0|           268.0|              250.0|   225.0|  1605.0|         null|         null|     null|          null|               null|       null|\n",
       "|2018-01-01|        UA|             2427|   LAS| SFO|        1115|  1107.0|     -8.0|    11.0|    1118.0|   1223.0|    7.0|        1254|  1230.0|    -24.0|      0.0|             null|     0.0|            99.0|               83.0|    65.0|   414.0|         null|         null|     null|          null|               null|       null|\n",
       "|2018-01-01|        UA|             2426|   SNA| DEN|        1335|  1330.0|     -5.0|    15.0|    1345.0|   1631.0|    5.0|        1649|  1636.0|    -13.0|      0.0|             null|     0.0|           134.0|              126.0|   106.0|   846.0|         null|         null|     null|          null|               null|       null|\n",
       "|2018-01-01|        UA|             2425|   RSW| ORD|        1546|  1552.0|      6.0|    19.0|    1611.0|   1748.0|    6.0|        1756|  1754.0|     -2.0|      0.0|             null|     0.0|           190.0|              182.0|   157.0|  1120.0|         null|         null|     null|          null|               null|       null|\n",
       "|2018-01-01|        UA|             2424|   ORD| ALB|         630|   650.0|     20.0|    13.0|     703.0|    926.0|   10.0|         922|   936.0|     14.0|      0.0|             null|     0.0|           112.0|              106.0|    83.0|   723.0|         null|         null|     null|          null|               null|       null|\n",
       "|2018-01-01|        UA|             2422|   ORD| OMA|        2241|  2244.0|      3.0|    15.0|    2259.0|      1.0|    2.0|          14|     3.0|    -11.0|      0.0|             null|     0.0|            93.0|               79.0|    62.0|   416.0|         null|         null|     null|          null|               null|       null|\n",
       "|2018-01-01|        UA|             2421|   IAH| LAS|         750|   747.0|     -3.0|    14.0|     801.0|    854.0|    6.0|         916|   900.0|    -16.0|      0.0|             null|     0.0|           206.0|              193.0|   173.0|  1222.0|         null|         null|     null|          null|               null|       null|\n",
       "|2018-01-01|        UA|             2420|   DEN| CID|        1324|  1318.0|     -6.0|    11.0|    1329.0|   1554.0|    6.0|        1619|  1600.0|    -19.0|      0.0|             null|     0.0|           115.0|              102.0|    85.0|   692.0|         null|         null|     null|          null|               null|       null|\n",
       "|2018-01-01|        UA|             2419|   SMF| EWR|        2224|  2237.0|     13.0|    10.0|    2247.0|    627.0|    9.0|         638|   636.0|     -2.0|      0.0|             null|     0.0|           314.0|              299.0|   280.0|  2500.0|         null|         null|     null|          null|               null|       null|\n",
       "|2018-01-01|        UA|             2418|   RIC| DEN|        1601|  1559.0|     -2.0|    12.0|    1611.0|   1748.0|    8.0|        1813|  1756.0|    -17.0|      0.0|             null|     0.0|           252.0|              237.0|   217.0|  1482.0|         null|         null|     null|          null|               null|       null|\n",
       "|2018-01-01|        UA|             2417|   PDX| EWR|        2240|  2235.0|     -5.0|     9.0|    2244.0|    624.0|    7.0|         647|   631.0|    -16.0|      0.0|             null|     0.0|           307.0|              296.0|   280.0|  2434.0|         null|         null|     null|          null|               null|       null|\n",
       "|2018-01-01|        UA|             2416|   ORD| CLE|        2059|  2300.0|    121.0|    24.0|    2324.0|    112.0|    8.0|        2311|   120.0|    129.0|      0.0|             null|     0.0|            72.0|               80.0|    48.0|   316.0|        121.0|          0.0|      8.0|           0.0|                0.0|       null|\n",
       "|2018-01-01|        UA|             2415|   EWR| PDX|         825|   822.0|     -3.0|    15.0|     837.0|   1104.0|    5.0|        1135|  1109.0|    -26.0|      0.0|             null|     0.0|           370.0|              347.0|   327.0|  2434.0|         null|         null|     null|          null|               null|       null|\n",
       "|2018-01-01|        UA|             2414|   EWR| ATL|        1044|  1055.0|     11.0|    11.0|    1106.0|   1310.0|    5.0|        1318|  1315.0|     -3.0|      0.0|             null|     0.0|           154.0|              140.0|   124.0|   746.0|         null|         null|     null|          null|               null|       null|\n",
       "|2018-01-01|        UA|             2413|   ORD| BTV|        2114|  2230.0|     76.0|    14.0|    2244.0|    123.0|    5.0|          15|   128.0|     73.0|      0.0|             null|     0.0|           121.0|              118.0|    99.0|   763.0|          0.0|         11.0|      0.0|           0.0|               62.0|       null|\n",
       "|2018-01-01|        UA|             2412|   MCO| LAX|         653|   747.0|     54.0|    14.0|     801.0|   1003.0|   22.0|         930|  1025.0|     55.0|      0.0|             null|     0.0|           337.0|              338.0|   302.0|  2218.0|         54.0|          0.0|      1.0|           0.0|                0.0|       null|\n",
       "|2018-01-01|        UA|             2411|   EWR| SMF|        1810|  1922.0|     72.0|    16.0|    1938.0|   2157.0|    4.0|        2136|  2201.0|     25.0|      0.0|             null|     0.0|           386.0|              339.0|   319.0|  2500.0|          7.0|          0.0|      0.0|           0.0|               18.0|       null|\n",
       "|2018-01-01|        UA|             2410|   RSW| EWR|        1250|  1337.0|     47.0|    12.0|    1349.0|   1600.0|    6.0|        1537|  1606.0|     29.0|      0.0|             null|     0.0|           167.0|              149.0|   131.0|  1068.0|         29.0|          0.0|      0.0|           0.0|                0.0|       null|\n",
       "|2018-01-01|        UA|             2409|   IAH| JAC|         940|   934.0|     -6.0|    18.0|     952.0|   1156.0|    4.0|        1218|  1200.0|    -18.0|      0.0|             null|     0.0|           218.0|              206.0|   184.0|  1265.0|         null|         null|     null|          null|               null|       null|\n",
       "|2018-01-01|        UA|             2408|   TYS| EWR|        1131|  1140.0|      9.0|     9.0|    1149.0|   1307.0|    5.0|        1333|  1312.0|    -21.0|      0.0|             null|     0.0|           122.0|               92.0|    78.0|   631.0|         null|         null|     null|          null|               null|       null|\n",
       "+----------+----------+-----------------+------+----+------------+--------+---------+--------+----------+---------+-------+------------+--------+---------+---------+-----------------+--------+----------------+-------------------+--------+--------+-------------+-------------+---------+--------------+-------------------+-----------+\n",
       "only showing top 20 rows"
      ]
     },
     "execution_count": 19,
     "metadata": {},
     "output_type": "execute_result"
    }
   ],
   "source": [
    "df_18"
   ]
  },
  {
   "cell_type": "code",
   "execution_count": 6,
   "id": "3730e650",
   "metadata": {},
   "outputs": [],
   "source": [
    "df_18 = df_18.drop('Unnamed: 27')"
   ]
  },
  {
   "cell_type": "code",
   "execution_count": 21,
   "id": "118b5ced",
   "metadata": {},
   "outputs": [
    {
     "name": "stdout",
     "output_type": "stream",
     "text": [
      "root\n",
      " |-- FL_DATE: date (nullable = true)\n",
      " |-- OP_CARRIER: string (nullable = true)\n",
      " |-- OP_CARRIER_FL_NUM: integer (nullable = true)\n",
      " |-- ORIGIN: string (nullable = true)\n",
      " |-- DEST: string (nullable = true)\n",
      " |-- CRS_DEP_TIME: integer (nullable = true)\n",
      " |-- DEP_TIME: double (nullable = true)\n",
      " |-- DEP_DELAY: double (nullable = true)\n",
      " |-- TAXI_OUT: double (nullable = true)\n",
      " |-- WHEELS_OFF: double (nullable = true)\n",
      " |-- WHEELS_ON: double (nullable = true)\n",
      " |-- TAXI_IN: double (nullable = true)\n",
      " |-- CRS_ARR_TIME: integer (nullable = true)\n",
      " |-- ARR_TIME: double (nullable = true)\n",
      " |-- ARR_DELAY: double (nullable = true)\n",
      " |-- CANCELLED: double (nullable = true)\n",
      " |-- CANCELLATION_CODE: string (nullable = true)\n",
      " |-- DIVERTED: double (nullable = true)\n",
      " |-- CRS_ELAPSED_TIME: double (nullable = true)\n",
      " |-- ACTUAL_ELAPSED_TIME: double (nullable = true)\n",
      " |-- AIR_TIME: double (nullable = true)\n",
      " |-- DISTANCE: double (nullable = true)\n",
      " |-- CARRIER_DELAY: double (nullable = true)\n",
      " |-- WEATHER_DELAY: double (nullable = true)\n",
      " |-- NAS_DELAY: double (nullable = true)\n",
      " |-- SECURITY_DELAY: double (nullable = true)\n",
      " |-- LATE_AIRCRAFT_DELAY: double (nullable = true)\n",
      "\n"
     ]
    }
   ],
   "source": [
    "df_18.printSchema()"
   ]
  },
  {
   "cell_type": "code",
   "execution_count": 7,
   "id": "7b2ff893",
   "metadata": {},
   "outputs": [],
   "source": [
    "# Criando Campo Atrasado\n",
    "dados_voos_2018 = df_18.withColumn('ATRASADO', when(col('ARR_DELAY').isNull(), 'NA').when(col('ARR_DELAY') >= 15, '1').otherwise('0'))"
   ]
  },
  {
   "cell_type": "code",
   "execution_count": 23,
   "id": "9a00c891",
   "metadata": {},
   "outputs": [
    {
     "data": {
      "text/html": [
       "<table border='1'>\n",
       "<tr><th>FL_DATE</th><th>OP_CARRIER</th><th>OP_CARRIER_FL_NUM</th><th>ORIGIN</th><th>DEST</th><th>CRS_DEP_TIME</th><th>DEP_TIME</th><th>DEP_DELAY</th><th>TAXI_OUT</th><th>WHEELS_OFF</th><th>WHEELS_ON</th><th>TAXI_IN</th><th>CRS_ARR_TIME</th><th>ARR_TIME</th><th>ARR_DELAY</th><th>CANCELLED</th><th>CANCELLATION_CODE</th><th>DIVERTED</th><th>CRS_ELAPSED_TIME</th><th>ACTUAL_ELAPSED_TIME</th><th>AIR_TIME</th><th>DISTANCE</th><th>CARRIER_DELAY</th><th>WEATHER_DELAY</th><th>NAS_DELAY</th><th>SECURITY_DELAY</th><th>LATE_AIRCRAFT_DELAY</th><th>ATRASADO</th></tr>\n",
       "<tr><td>2018-01-01</td><td>UA</td><td>2429</td><td>EWR</td><td>DEN</td><td>1517</td><td>1512.0</td><td>-5.0</td><td>15.0</td><td>1527.0</td><td>1712.0</td><td>10.0</td><td>1745</td><td>1722.0</td><td>-23.0</td><td>0.0</td><td>null</td><td>0.0</td><td>268.0</td><td>250.0</td><td>225.0</td><td>1605.0</td><td>null</td><td>null</td><td>null</td><td>null</td><td>null</td><td>0</td></tr>\n",
       "<tr><td>2018-01-01</td><td>UA</td><td>2427</td><td>LAS</td><td>SFO</td><td>1115</td><td>1107.0</td><td>-8.0</td><td>11.0</td><td>1118.0</td><td>1223.0</td><td>7.0</td><td>1254</td><td>1230.0</td><td>-24.0</td><td>0.0</td><td>null</td><td>0.0</td><td>99.0</td><td>83.0</td><td>65.0</td><td>414.0</td><td>null</td><td>null</td><td>null</td><td>null</td><td>null</td><td>0</td></tr>\n",
       "<tr><td>2018-01-01</td><td>UA</td><td>2426</td><td>SNA</td><td>DEN</td><td>1335</td><td>1330.0</td><td>-5.0</td><td>15.0</td><td>1345.0</td><td>1631.0</td><td>5.0</td><td>1649</td><td>1636.0</td><td>-13.0</td><td>0.0</td><td>null</td><td>0.0</td><td>134.0</td><td>126.0</td><td>106.0</td><td>846.0</td><td>null</td><td>null</td><td>null</td><td>null</td><td>null</td><td>0</td></tr>\n",
       "<tr><td>2018-01-01</td><td>UA</td><td>2425</td><td>RSW</td><td>ORD</td><td>1546</td><td>1552.0</td><td>6.0</td><td>19.0</td><td>1611.0</td><td>1748.0</td><td>6.0</td><td>1756</td><td>1754.0</td><td>-2.0</td><td>0.0</td><td>null</td><td>0.0</td><td>190.0</td><td>182.0</td><td>157.0</td><td>1120.0</td><td>null</td><td>null</td><td>null</td><td>null</td><td>null</td><td>0</td></tr>\n",
       "<tr><td>2018-01-01</td><td>UA</td><td>2424</td><td>ORD</td><td>ALB</td><td>630</td><td>650.0</td><td>20.0</td><td>13.0</td><td>703.0</td><td>926.0</td><td>10.0</td><td>922</td><td>936.0</td><td>14.0</td><td>0.0</td><td>null</td><td>0.0</td><td>112.0</td><td>106.0</td><td>83.0</td><td>723.0</td><td>null</td><td>null</td><td>null</td><td>null</td><td>null</td><td>0</td></tr>\n",
       "<tr><td>2018-01-01</td><td>UA</td><td>2422</td><td>ORD</td><td>OMA</td><td>2241</td><td>2244.0</td><td>3.0</td><td>15.0</td><td>2259.0</td><td>1.0</td><td>2.0</td><td>14</td><td>3.0</td><td>-11.0</td><td>0.0</td><td>null</td><td>0.0</td><td>93.0</td><td>79.0</td><td>62.0</td><td>416.0</td><td>null</td><td>null</td><td>null</td><td>null</td><td>null</td><td>0</td></tr>\n",
       "<tr><td>2018-01-01</td><td>UA</td><td>2421</td><td>IAH</td><td>LAS</td><td>750</td><td>747.0</td><td>-3.0</td><td>14.0</td><td>801.0</td><td>854.0</td><td>6.0</td><td>916</td><td>900.0</td><td>-16.0</td><td>0.0</td><td>null</td><td>0.0</td><td>206.0</td><td>193.0</td><td>173.0</td><td>1222.0</td><td>null</td><td>null</td><td>null</td><td>null</td><td>null</td><td>0</td></tr>\n",
       "<tr><td>2018-01-01</td><td>UA</td><td>2420</td><td>DEN</td><td>CID</td><td>1324</td><td>1318.0</td><td>-6.0</td><td>11.0</td><td>1329.0</td><td>1554.0</td><td>6.0</td><td>1619</td><td>1600.0</td><td>-19.0</td><td>0.0</td><td>null</td><td>0.0</td><td>115.0</td><td>102.0</td><td>85.0</td><td>692.0</td><td>null</td><td>null</td><td>null</td><td>null</td><td>null</td><td>0</td></tr>\n",
       "<tr><td>2018-01-01</td><td>UA</td><td>2419</td><td>SMF</td><td>EWR</td><td>2224</td><td>2237.0</td><td>13.0</td><td>10.0</td><td>2247.0</td><td>627.0</td><td>9.0</td><td>638</td><td>636.0</td><td>-2.0</td><td>0.0</td><td>null</td><td>0.0</td><td>314.0</td><td>299.0</td><td>280.0</td><td>2500.0</td><td>null</td><td>null</td><td>null</td><td>null</td><td>null</td><td>0</td></tr>\n",
       "<tr><td>2018-01-01</td><td>UA</td><td>2418</td><td>RIC</td><td>DEN</td><td>1601</td><td>1559.0</td><td>-2.0</td><td>12.0</td><td>1611.0</td><td>1748.0</td><td>8.0</td><td>1813</td><td>1756.0</td><td>-17.0</td><td>0.0</td><td>null</td><td>0.0</td><td>252.0</td><td>237.0</td><td>217.0</td><td>1482.0</td><td>null</td><td>null</td><td>null</td><td>null</td><td>null</td><td>0</td></tr>\n",
       "<tr><td>2018-01-01</td><td>UA</td><td>2417</td><td>PDX</td><td>EWR</td><td>2240</td><td>2235.0</td><td>-5.0</td><td>9.0</td><td>2244.0</td><td>624.0</td><td>7.0</td><td>647</td><td>631.0</td><td>-16.0</td><td>0.0</td><td>null</td><td>0.0</td><td>307.0</td><td>296.0</td><td>280.0</td><td>2434.0</td><td>null</td><td>null</td><td>null</td><td>null</td><td>null</td><td>0</td></tr>\n",
       "<tr><td>2018-01-01</td><td>UA</td><td>2416</td><td>ORD</td><td>CLE</td><td>2059</td><td>2300.0</td><td>121.0</td><td>24.0</td><td>2324.0</td><td>112.0</td><td>8.0</td><td>2311</td><td>120.0</td><td>129.0</td><td>0.0</td><td>null</td><td>0.0</td><td>72.0</td><td>80.0</td><td>48.0</td><td>316.0</td><td>121.0</td><td>0.0</td><td>8.0</td><td>0.0</td><td>0.0</td><td>1</td></tr>\n",
       "<tr><td>2018-01-01</td><td>UA</td><td>2415</td><td>EWR</td><td>PDX</td><td>825</td><td>822.0</td><td>-3.0</td><td>15.0</td><td>837.0</td><td>1104.0</td><td>5.0</td><td>1135</td><td>1109.0</td><td>-26.0</td><td>0.0</td><td>null</td><td>0.0</td><td>370.0</td><td>347.0</td><td>327.0</td><td>2434.0</td><td>null</td><td>null</td><td>null</td><td>null</td><td>null</td><td>0</td></tr>\n",
       "<tr><td>2018-01-01</td><td>UA</td><td>2414</td><td>EWR</td><td>ATL</td><td>1044</td><td>1055.0</td><td>11.0</td><td>11.0</td><td>1106.0</td><td>1310.0</td><td>5.0</td><td>1318</td><td>1315.0</td><td>-3.0</td><td>0.0</td><td>null</td><td>0.0</td><td>154.0</td><td>140.0</td><td>124.0</td><td>746.0</td><td>null</td><td>null</td><td>null</td><td>null</td><td>null</td><td>0</td></tr>\n",
       "<tr><td>2018-01-01</td><td>UA</td><td>2413</td><td>ORD</td><td>BTV</td><td>2114</td><td>2230.0</td><td>76.0</td><td>14.0</td><td>2244.0</td><td>123.0</td><td>5.0</td><td>15</td><td>128.0</td><td>73.0</td><td>0.0</td><td>null</td><td>0.0</td><td>121.0</td><td>118.0</td><td>99.0</td><td>763.0</td><td>0.0</td><td>11.0</td><td>0.0</td><td>0.0</td><td>62.0</td><td>1</td></tr>\n",
       "<tr><td>2018-01-01</td><td>UA</td><td>2412</td><td>MCO</td><td>LAX</td><td>653</td><td>747.0</td><td>54.0</td><td>14.0</td><td>801.0</td><td>1003.0</td><td>22.0</td><td>930</td><td>1025.0</td><td>55.0</td><td>0.0</td><td>null</td><td>0.0</td><td>337.0</td><td>338.0</td><td>302.0</td><td>2218.0</td><td>54.0</td><td>0.0</td><td>1.0</td><td>0.0</td><td>0.0</td><td>1</td></tr>\n",
       "<tr><td>2018-01-01</td><td>UA</td><td>2411</td><td>EWR</td><td>SMF</td><td>1810</td><td>1922.0</td><td>72.0</td><td>16.0</td><td>1938.0</td><td>2157.0</td><td>4.0</td><td>2136</td><td>2201.0</td><td>25.0</td><td>0.0</td><td>null</td><td>0.0</td><td>386.0</td><td>339.0</td><td>319.0</td><td>2500.0</td><td>7.0</td><td>0.0</td><td>0.0</td><td>0.0</td><td>18.0</td><td>1</td></tr>\n",
       "<tr><td>2018-01-01</td><td>UA</td><td>2410</td><td>RSW</td><td>EWR</td><td>1250</td><td>1337.0</td><td>47.0</td><td>12.0</td><td>1349.0</td><td>1600.0</td><td>6.0</td><td>1537</td><td>1606.0</td><td>29.0</td><td>0.0</td><td>null</td><td>0.0</td><td>167.0</td><td>149.0</td><td>131.0</td><td>1068.0</td><td>29.0</td><td>0.0</td><td>0.0</td><td>0.0</td><td>0.0</td><td>1</td></tr>\n",
       "<tr><td>2018-01-01</td><td>UA</td><td>2409</td><td>IAH</td><td>JAC</td><td>940</td><td>934.0</td><td>-6.0</td><td>18.0</td><td>952.0</td><td>1156.0</td><td>4.0</td><td>1218</td><td>1200.0</td><td>-18.0</td><td>0.0</td><td>null</td><td>0.0</td><td>218.0</td><td>206.0</td><td>184.0</td><td>1265.0</td><td>null</td><td>null</td><td>null</td><td>null</td><td>null</td><td>0</td></tr>\n",
       "<tr><td>2018-01-01</td><td>UA</td><td>2408</td><td>TYS</td><td>EWR</td><td>1131</td><td>1140.0</td><td>9.0</td><td>9.0</td><td>1149.0</td><td>1307.0</td><td>5.0</td><td>1333</td><td>1312.0</td><td>-21.0</td><td>0.0</td><td>null</td><td>0.0</td><td>122.0</td><td>92.0</td><td>78.0</td><td>631.0</td><td>null</td><td>null</td><td>null</td><td>null</td><td>null</td><td>0</td></tr>\n",
       "</table>\n",
       "only showing top 20 rows\n"
      ],
      "text/plain": [
       "+----------+----------+-----------------+------+----+------------+--------+---------+--------+----------+---------+-------+------------+--------+---------+---------+-----------------+--------+----------------+-------------------+--------+--------+-------------+-------------+---------+--------------+-------------------+--------+\n",
       "|   FL_DATE|OP_CARRIER|OP_CARRIER_FL_NUM|ORIGIN|DEST|CRS_DEP_TIME|DEP_TIME|DEP_DELAY|TAXI_OUT|WHEELS_OFF|WHEELS_ON|TAXI_IN|CRS_ARR_TIME|ARR_TIME|ARR_DELAY|CANCELLED|CANCELLATION_CODE|DIVERTED|CRS_ELAPSED_TIME|ACTUAL_ELAPSED_TIME|AIR_TIME|DISTANCE|CARRIER_DELAY|WEATHER_DELAY|NAS_DELAY|SECURITY_DELAY|LATE_AIRCRAFT_DELAY|ATRASADO|\n",
       "+----------+----------+-----------------+------+----+------------+--------+---------+--------+----------+---------+-------+------------+--------+---------+---------+-----------------+--------+----------------+-------------------+--------+--------+-------------+-------------+---------+--------------+-------------------+--------+\n",
       "|2018-01-01|        UA|             2429|   EWR| DEN|        1517|  1512.0|     -5.0|    15.0|    1527.0|   1712.0|   10.0|        1745|  1722.0|    -23.0|      0.0|             null|     0.0|           268.0|              250.0|   225.0|  1605.0|         null|         null|     null|          null|               null|       0|\n",
       "|2018-01-01|        UA|             2427|   LAS| SFO|        1115|  1107.0|     -8.0|    11.0|    1118.0|   1223.0|    7.0|        1254|  1230.0|    -24.0|      0.0|             null|     0.0|            99.0|               83.0|    65.0|   414.0|         null|         null|     null|          null|               null|       0|\n",
       "|2018-01-01|        UA|             2426|   SNA| DEN|        1335|  1330.0|     -5.0|    15.0|    1345.0|   1631.0|    5.0|        1649|  1636.0|    -13.0|      0.0|             null|     0.0|           134.0|              126.0|   106.0|   846.0|         null|         null|     null|          null|               null|       0|\n",
       "|2018-01-01|        UA|             2425|   RSW| ORD|        1546|  1552.0|      6.0|    19.0|    1611.0|   1748.0|    6.0|        1756|  1754.0|     -2.0|      0.0|             null|     0.0|           190.0|              182.0|   157.0|  1120.0|         null|         null|     null|          null|               null|       0|\n",
       "|2018-01-01|        UA|             2424|   ORD| ALB|         630|   650.0|     20.0|    13.0|     703.0|    926.0|   10.0|         922|   936.0|     14.0|      0.0|             null|     0.0|           112.0|              106.0|    83.0|   723.0|         null|         null|     null|          null|               null|       0|\n",
       "|2018-01-01|        UA|             2422|   ORD| OMA|        2241|  2244.0|      3.0|    15.0|    2259.0|      1.0|    2.0|          14|     3.0|    -11.0|      0.0|             null|     0.0|            93.0|               79.0|    62.0|   416.0|         null|         null|     null|          null|               null|       0|\n",
       "|2018-01-01|        UA|             2421|   IAH| LAS|         750|   747.0|     -3.0|    14.0|     801.0|    854.0|    6.0|         916|   900.0|    -16.0|      0.0|             null|     0.0|           206.0|              193.0|   173.0|  1222.0|         null|         null|     null|          null|               null|       0|\n",
       "|2018-01-01|        UA|             2420|   DEN| CID|        1324|  1318.0|     -6.0|    11.0|    1329.0|   1554.0|    6.0|        1619|  1600.0|    -19.0|      0.0|             null|     0.0|           115.0|              102.0|    85.0|   692.0|         null|         null|     null|          null|               null|       0|\n",
       "|2018-01-01|        UA|             2419|   SMF| EWR|        2224|  2237.0|     13.0|    10.0|    2247.0|    627.0|    9.0|         638|   636.0|     -2.0|      0.0|             null|     0.0|           314.0|              299.0|   280.0|  2500.0|         null|         null|     null|          null|               null|       0|\n",
       "|2018-01-01|        UA|             2418|   RIC| DEN|        1601|  1559.0|     -2.0|    12.0|    1611.0|   1748.0|    8.0|        1813|  1756.0|    -17.0|      0.0|             null|     0.0|           252.0|              237.0|   217.0|  1482.0|         null|         null|     null|          null|               null|       0|\n",
       "|2018-01-01|        UA|             2417|   PDX| EWR|        2240|  2235.0|     -5.0|     9.0|    2244.0|    624.0|    7.0|         647|   631.0|    -16.0|      0.0|             null|     0.0|           307.0|              296.0|   280.0|  2434.0|         null|         null|     null|          null|               null|       0|\n",
       "|2018-01-01|        UA|             2416|   ORD| CLE|        2059|  2300.0|    121.0|    24.0|    2324.0|    112.0|    8.0|        2311|   120.0|    129.0|      0.0|             null|     0.0|            72.0|               80.0|    48.0|   316.0|        121.0|          0.0|      8.0|           0.0|                0.0|       1|\n",
       "|2018-01-01|        UA|             2415|   EWR| PDX|         825|   822.0|     -3.0|    15.0|     837.0|   1104.0|    5.0|        1135|  1109.0|    -26.0|      0.0|             null|     0.0|           370.0|              347.0|   327.0|  2434.0|         null|         null|     null|          null|               null|       0|\n",
       "|2018-01-01|        UA|             2414|   EWR| ATL|        1044|  1055.0|     11.0|    11.0|    1106.0|   1310.0|    5.0|        1318|  1315.0|     -3.0|      0.0|             null|     0.0|           154.0|              140.0|   124.0|   746.0|         null|         null|     null|          null|               null|       0|\n",
       "|2018-01-01|        UA|             2413|   ORD| BTV|        2114|  2230.0|     76.0|    14.0|    2244.0|    123.0|    5.0|          15|   128.0|     73.0|      0.0|             null|     0.0|           121.0|              118.0|    99.0|   763.0|          0.0|         11.0|      0.0|           0.0|               62.0|       1|\n",
       "|2018-01-01|        UA|             2412|   MCO| LAX|         653|   747.0|     54.0|    14.0|     801.0|   1003.0|   22.0|         930|  1025.0|     55.0|      0.0|             null|     0.0|           337.0|              338.0|   302.0|  2218.0|         54.0|          0.0|      1.0|           0.0|                0.0|       1|\n",
       "|2018-01-01|        UA|             2411|   EWR| SMF|        1810|  1922.0|     72.0|    16.0|    1938.0|   2157.0|    4.0|        2136|  2201.0|     25.0|      0.0|             null|     0.0|           386.0|              339.0|   319.0|  2500.0|          7.0|          0.0|      0.0|           0.0|               18.0|       1|\n",
       "|2018-01-01|        UA|             2410|   RSW| EWR|        1250|  1337.0|     47.0|    12.0|    1349.0|   1600.0|    6.0|        1537|  1606.0|     29.0|      0.0|             null|     0.0|           167.0|              149.0|   131.0|  1068.0|         29.0|          0.0|      0.0|           0.0|                0.0|       1|\n",
       "|2018-01-01|        UA|             2409|   IAH| JAC|         940|   934.0|     -6.0|    18.0|     952.0|   1156.0|    4.0|        1218|  1200.0|    -18.0|      0.0|             null|     0.0|           218.0|              206.0|   184.0|  1265.0|         null|         null|     null|          null|               null|       0|\n",
       "|2018-01-01|        UA|             2408|   TYS| EWR|        1131|  1140.0|      9.0|     9.0|    1149.0|   1307.0|    5.0|        1333|  1312.0|    -21.0|      0.0|             null|     0.0|           122.0|               92.0|    78.0|   631.0|         null|         null|     null|          null|               null|       0|\n",
       "+----------+----------+-----------------+------+----+------------+--------+---------+--------+----------+---------+-------+------------+--------+---------+---------+-----------------+--------+----------------+-------------------+--------+--------+-------------+-------------+---------+--------------+-------------------+--------+\n",
       "only showing top 20 rows"
      ]
     },
     "execution_count": 23,
     "metadata": {},
     "output_type": "execute_result"
    }
   ],
   "source": [
    "dados_voos_2018"
   ]
  },
  {
   "cell_type": "code",
   "execution_count": 24,
   "id": "59267cea",
   "metadata": {},
   "outputs": [],
   "source": [
    "# Total de Linhas\n",
    "total = dados_voos_2018.count()\n",
    "\n",
    "# Agrupando voos Cancelados\n",
    "dados_agrupados_atrasado_18 = dados_voos_2018.groupBy('ATRASADO').count().withColumnRenamed(\"count\", \"Quantidade\")\n",
    "\n",
    "# Transformando agrupamento em um Pandas DataFrame (memoria python)\n",
    "dados_agrupados_atrasado_18_py = dados_agrupados_atrasado_18.toPandas()\n",
    "\n",
    "# Criando COluna %\n",
    "dados_agrupados_atrasado_18_py['%'] = dados_agrupados_atrasado_18_py.Quantidade.apply(lambda x: x/total*100)"
   ]
  },
  {
   "cell_type": "code",
   "execution_count": 25,
   "id": "13b9d9f1",
   "metadata": {},
   "outputs": [
    {
     "data": {
      "text/html": [
       "<div>\n",
       "<style scoped>\n",
       "    .dataframe tbody tr th:only-of-type {\n",
       "        vertical-align: middle;\n",
       "    }\n",
       "\n",
       "    .dataframe tbody tr th {\n",
       "        vertical-align: top;\n",
       "    }\n",
       "\n",
       "    .dataframe thead th {\n",
       "        text-align: right;\n",
       "    }\n",
       "</style>\n",
       "<table border=\"1\" class=\"dataframe\">\n",
       "  <thead>\n",
       "    <tr style=\"text-align: right;\">\n",
       "      <th></th>\n",
       "      <th>ATRASADO</th>\n",
       "      <th>Quantidade</th>\n",
       "      <th>%</th>\n",
       "    </tr>\n",
       "  </thead>\n",
       "  <tbody>\n",
       "    <tr>\n",
       "      <th>0</th>\n",
       "      <td>0</td>\n",
       "      <td>3192144</td>\n",
       "      <td>79.090402</td>\n",
       "    </tr>\n",
       "    <tr>\n",
       "      <th>1</th>\n",
       "      <td>NA</td>\n",
       "      <td>88069</td>\n",
       "      <td>2.182048</td>\n",
       "    </tr>\n",
       "    <tr>\n",
       "      <th>2</th>\n",
       "      <td>1</td>\n",
       "      <td>755857</td>\n",
       "      <td>18.727549</td>\n",
       "    </tr>\n",
       "  </tbody>\n",
       "</table>\n",
       "</div>"
      ],
      "text/plain": [
       "  ATRASADO  Quantidade          %\n",
       "0        0     3192144  79.090402\n",
       "1       NA       88069   2.182048\n",
       "2        1      755857  18.727549"
      ]
     },
     "execution_count": 25,
     "metadata": {},
     "output_type": "execute_result"
    }
   ],
   "source": [
    "dados_agrupados_atrasado_18_py"
   ]
  },
  {
   "cell_type": "code",
   "execution_count": 26,
   "id": "ca15998f",
   "metadata": {},
   "outputs": [
    {
     "data": {
      "text/plain": [
       "<Axes: xlabel='ATRASADO', ylabel='Quantidade'>"
      ]
     },
     "execution_count": 26,
     "metadata": {},
     "output_type": "execute_result"
    },
    {
     "data": {
      "image/png": "[encoded data removed]",
      "text/plain": [
       "<Figure size 640x480 with 1 Axes>"
      ]
     },
     "metadata": {},
     "output_type": "display_data"
    }
   ],
   "source": [
    "sns.barplot(data=dados_agrupados_atrasado_18_py, x=\"ATRASADO\", y=\"Quantidade\")"
   ]
  },
  {
   "cell_type": "markdown",
   "id": "1b6d6501",
   "metadata": {},
   "source": [
    "# Empilhando as Duas Bases"
   ]
  },
  {
   "cell_type": "code",
   "execution_count": 10,
   "id": "0c740e79",
   "metadata": {},
   "outputs": [],
   "source": [
    "dados_voos_completo = dados_voos_2017.unionAll(dados_voos_2018)"
   ]
  },
  {
   "cell_type": "code",
   "execution_count": 11,
   "id": "70b8f439",
   "metadata": {},
   "outputs": [
    {
     "data": {
      "text/plain": [
       "9710691"
      ]
     },
     "execution_count": 11,
     "metadata": {},
     "output_type": "execute_result"
    }
   ],
   "source": [
    "dados_voos_completo.count()"
   ]
  },
  {
   "cell_type": "markdown",
   "id": "2b5edd12",
   "metadata": {},
   "source": [
    "### Estratégia de Contagem de Linhas em um Banco de Dados muito grande\n",
    "\n",
    "Pega-se uma amostra percentual da base (ex. 0.01) e conta as linhas dessa base amostral.\n",
    "Depois divide a quantidade de linhas pelo percentual amostral para chegar no resultado aproximado da quantidade de linhas total.\n",
    "\n",
    "ex. Aula:\n",
    "\n",
    "Amostra: 0.01 -> 96790 <br>\n",
    "Total Aprox = 96790/0.01 = 9,679,000"
   ]
  },
  {
   "cell_type": "markdown",
   "id": "9816c040",
   "metadata": {},
   "source": [
    "# Modelo de Regressão Linear\n",
    "\n",
    "Desenvolver um modelo para calcular tempo decorrido real em relação à distância percorrida o mais simples possível.\n",
    "<br>\n",
    "<br>\n",
    "<center> ACTUAL_ELAPSED_TIME = b0 + b1*DISTANCE </center>"
   ]
  },
  {
   "cell_type": "code",
   "execution_count": 32,
   "id": "b9127be4",
   "metadata": {},
   "outputs": [],
   "source": [
    "from pyspark.ml.regression import LinearRegression\n",
    "from pyspark.ml.feature import VectorAssembler\n",
    "from pyspark.ml.evaluation import RegressionEvaluator\n",
    "from pyspark.ml.stat import Correlation"
   ]
  },
  {
   "cell_type": "code",
   "execution_count": 30,
   "id": "c250cd2c",
   "metadata": {},
   "outputs": [],
   "source": [
    "# Selecionando apenas Colunas de Interesse\n",
    "\n",
    "\n",
    "dados_selecionados = dados_voos_completo.select(dados_voos_completo.ACTUAL_ELAPSED_TIME, \n",
    "                                                dados_voos_completo.DISTANCE)\n",
    "\n",
    "# Removendo Nulos\n",
    "dados_selecionados = dados_selecionados.dropna(how ='any')"
   ]
  },
  {
   "cell_type": "code",
   "execution_count": 31,
   "id": "952f292b",
   "metadata": {},
   "outputs": [
    {
     "data": {
      "text/plain": [
       "9529559"
      ]
     },
     "execution_count": 31,
     "metadata": {},
     "output_type": "execute_result"
    }
   ],
   "source": [
    "dados_selecionados.count()"
   ]
  },
  {
   "cell_type": "markdown",
   "id": "8244c035",
   "metadata": {},
   "source": [
    "## Correlações"
   ]
  },
  {
   "cell_type": "code",
   "execution_count": 32,
   "id": "c820c212",
   "metadata": {},
   "outputs": [
    {
     "data": {
      "text/plain": [
       "0.9709730560282152"
      ]
     },
     "execution_count": 32,
     "metadata": {},
     "output_type": "execute_result"
    }
   ],
   "source": [
    "dados_selecionados.corr('ACTUAL_ELAPSED_TIME', 'DISTANCE')"
   ]
  },
  {
   "cell_type": "code",
   "execution_count": 33,
   "id": "ee5ac709",
   "metadata": {},
   "outputs": [],
   "source": [
    "# Selecionando uma Amostra de 1% para Construção do Gráfico\n",
    "pequena_amostra = dados_selecionados.sample(0.01)"
   ]
  },
  {
   "cell_type": "code",
   "execution_count": 34,
   "id": "cd29aa6a",
   "metadata": {},
   "outputs": [
    {
     "data": {
      "text/plain": [
       "95597"
      ]
     },
     "execution_count": 34,
     "metadata": {},
     "output_type": "execute_result"
    }
   ],
   "source": [
    "pequena_amostra.count()"
   ]
  },
  {
   "cell_type": "code",
   "execution_count": 35,
   "id": "83471afe",
   "metadata": {},
   "outputs": [
    {
     "data": {
      "text/html": [
       "<table border='1'>\n",
       "<tr><th>ACTUAL_ELAPSED_TIME</th><th>DISTANCE</th></tr>\n",
       "<tr><td>164.0</td><td>1303.0</td></tr>\n",
       "<tr><td>145.0</td><td>602.0</td></tr>\n",
       "<tr><td>123.0</td><td>544.0</td></tr>\n",
       "<tr><td>75.0</td><td>387.0</td></tr>\n",
       "<tr><td>167.0</td><td>1182.0</td></tr>\n",
       "<tr><td>113.0</td><td>585.0</td></tr>\n",
       "<tr><td>162.0</td><td>911.0</td></tr>\n",
       "<tr><td>148.0</td><td>913.0</td></tr>\n",
       "<tr><td>113.0</td><td>737.0</td></tr>\n",
       "<tr><td>43.0</td><td>73.0</td></tr>\n",
       "<tr><td>89.0</td><td>413.0</td></tr>\n",
       "<tr><td>53.0</td><td>125.0</td></tr>\n",
       "<tr><td>180.0</td><td>1065.0</td></tr>\n",
       "<tr><td>69.0</td><td>224.0</td></tr>\n",
       "<tr><td>78.0</td><td>472.0</td></tr>\n",
       "<tr><td>84.0</td><td>447.0</td></tr>\n",
       "<tr><td>231.0</td><td>1846.0</td></tr>\n",
       "<tr><td>216.0</td><td>1167.0</td></tr>\n",
       "<tr><td>142.0</td><td>719.0</td></tr>\n",
       "<tr><td>226.0</td><td>1725.0</td></tr>\n",
       "</table>\n",
       "only showing top 20 rows\n"
      ],
      "text/plain": [
       "+-------------------+--------+\n",
       "|ACTUAL_ELAPSED_TIME|DISTANCE|\n",
       "+-------------------+--------+\n",
       "|              164.0|  1303.0|\n",
       "|              145.0|   602.0|\n",
       "|              123.0|   544.0|\n",
       "|               75.0|   387.0|\n",
       "|              167.0|  1182.0|\n",
       "|              113.0|   585.0|\n",
       "|              162.0|   911.0|\n",
       "|              148.0|   913.0|\n",
       "|              113.0|   737.0|\n",
       "|               43.0|    73.0|\n",
       "|               89.0|   413.0|\n",
       "|               53.0|   125.0|\n",
       "|              180.0|  1065.0|\n",
       "|               69.0|   224.0|\n",
       "|               78.0|   472.0|\n",
       "|               84.0|   447.0|\n",
       "|              231.0|  1846.0|\n",
       "|              216.0|  1167.0|\n",
       "|              142.0|   719.0|\n",
       "|              226.0|  1725.0|\n",
       "+-------------------+--------+\n",
       "only showing top 20 rows"
      ]
     },
     "execution_count": 35,
     "metadata": {},
     "output_type": "execute_result"
    }
   ],
   "source": [
    "pequena_amostra"
   ]
  },
  {
   "cell_type": "markdown",
   "id": "000a2682",
   "metadata": {},
   "source": [
    "### Gráfico de Dispersão "
   ]
  },
  {
   "cell_type": "code",
   "execution_count": 36,
   "id": "009a2793",
   "metadata": {},
   "outputs": [],
   "source": [
    "pd_peq_amostra = pequena_amostra.toPandas()"
   ]
  },
  {
   "cell_type": "code",
   "execution_count": 37,
   "id": "0c650470",
   "metadata": {},
   "outputs": [
    {
     "data": {
      "image/png": "[encoded data removed]",
      "text/plain": [
       "<Figure size 640x480 with 1 Axes>"
      ]
     },
     "metadata": {},
     "output_type": "display_data"
    }
   ],
   "source": [
    "plt.figure('ggplot')\n",
    "\n",
    "sns.regplot(x=\"DISTANCE\", y=\"ACTUAL_ELAPSED_TIME\", data=pd_peq_amostra, color='darkblue')\n",
    "plt.title('Dispersão dos dados com linear fit')\n",
    "plt.xlabel('Distância percorrida')\n",
    "plt.ylabel('Tempo total decorrido')\n",
    "plt.show()"
   ]
  },
  {
   "cell_type": "markdown",
   "id": "605ec8e2",
   "metadata": {},
   "source": [
    "## Aplicação do Modelo"
   ]
  },
  {
   "cell_type": "code",
   "execution_count": 38,
   "id": "3887b34c",
   "metadata": {},
   "outputs": [],
   "source": [
    "# Preparando o Modelo\n",
    "input_cols = [\"DISTANCE\"] #variavel independente\n",
    "output_col = \"ACTUAL_ELAPSED_TIME\" #variavel dependente"
   ]
  },
  {
   "cell_type": "code",
   "execution_count": 39,
   "id": "f0aac3a4",
   "metadata": {},
   "outputs": [],
   "source": [
    "# criar um VectorAssembler para combinar as colunas de features em um vetor\n",
    "assembler = VectorAssembler(inputCols= input_cols, outputCol= 'features')\n",
    "df_reg = assembler.transform(dados_selecionados)\n"
   ]
  },
  {
   "cell_type": "code",
   "execution_count": 40,
   "id": "e7aa5e2c",
   "metadata": {},
   "outputs": [],
   "source": [
    "# criar um objeto LinearRegression\n",
    "lr = LinearRegression(featuresCol=\"features\", labelCol=output_col)\n",
    "\n",
    "# Treina o Modelo\n",
    "modelo_linear = lr.fit(df_reg)"
   ]
  },
  {
   "cell_type": "code",
   "execution_count": 41,
   "id": "8f7b0901",
   "metadata": {},
   "outputs": [
    {
     "name": "stdout",
     "output_type": "stream",
     "text": [
      "Intercepto: 40.34\n",
      "['DISTANCE']: [0.11894640317386675]\n",
      "RMSE: 18.0259\n",
      "R2: 0.9428\n"
     ]
    }
   ],
   "source": [
    "# Resultados\n",
    "summary = modelo_linear.summary\n",
    "\n",
    "print(f'Intercepto: {modelo_linear.intercept:.2f}')\n",
    "print(f'{input_cols}: {modelo_linear.coefficients}')\n",
    "print(f'RMSE: {summary.rootMeanSquaredError:.4f}')\n",
    "print(f'R2: {summary.r2:.4f}')"
   ]
  },
  {
   "cell_type": "code",
   "execution_count": 42,
   "id": "e2fd1d75",
   "metadata": {},
   "outputs": [
    {
     "data": {
      "text/plain": [
       "DenseVector([0.1189])"
      ]
     },
     "execution_count": 42,
     "metadata": {},
     "output_type": "execute_result"
    }
   ],
   "source": [
    "modelo_linear.coefficients"
   ]
  },
  {
   "cell_type": "markdown",
   "id": "831b6c03",
   "metadata": {},
   "source": [
    "### Valores Preditos"
   ]
  },
  {
   "cell_type": "code",
   "execution_count": 43,
   "id": "aaea0eb6",
   "metadata": {},
   "outputs": [
    {
     "data": {
      "text/html": [
       "<table border='1'>\n",
       "<tr><th>ACTUAL_ELAPSED_TIME</th><th>DISTANCE</th><th>features</th><th>prediction</th></tr>\n",
       "<tr><td>398.0</td><td>2475.0</td><td>[2475.0]</td><td>334.7303811693307</td></tr>\n",
       "<tr><td>335.0</td><td>2475.0</td><td>[2475.0]</td><td>334.7303811693307</td></tr>\n",
       "<tr><td>319.0</td><td>2475.0</td><td>[2475.0]</td><td>334.7303811693307</td></tr>\n",
       "<tr><td>537.0</td><td>3784.0</td><td>[3784.0]</td><td>490.4312229239223</td></tr>\n",
       "<tr><td>467.0</td><td>3711.0</td><td>[3711.0]</td><td>481.74813549223006</td></tr>\n",
       "<tr><td>498.0</td><td>3711.0</td><td>[3711.0]</td><td>481.74813549223006</td></tr>\n",
       "<tr><td>465.0</td><td>3784.0</td><td>[3784.0]</td><td>490.4312229239223</td></tr>\n",
       "<tr><td>387.0</td><td>2586.0</td><td>[2586.0]</td><td>347.9334319216299</td></tr>\n",
       "<tr><td>297.0</td><td>2475.0</td><td>[2475.0]</td><td>334.7303811693307</td></tr>\n",
       "<tr><td>324.0</td><td>2586.0</td><td>[2586.0]</td><td>347.9334319216299</td></tr>\n",
       "<tr><td>289.0</td><td>2486.0</td><td>[2486.0]</td><td>336.0387916042432</td></tr>\n",
       "<tr><td>388.0</td><td>2586.0</td><td>[2586.0]</td><td>347.9334319216299</td></tr>\n",
       "<tr><td>308.0</td><td>2586.0</td><td>[2586.0]</td><td>347.9334319216299</td></tr>\n",
       "<tr><td>397.0</td><td>2475.0</td><td>[2475.0]</td><td>334.7303811693307</td></tr>\n",
       "<tr><td>308.0</td><td>2586.0</td><td>[2586.0]</td><td>347.9334319216299</td></tr>\n",
       "<tr><td>416.0</td><td>2475.0</td><td>[2475.0]</td><td>334.7303811693307</td></tr>\n",
       "<tr><td>317.0</td><td>2475.0</td><td>[2475.0]</td><td>334.7303811693307</td></tr>\n",
       "<tr><td>398.0</td><td>2475.0</td><td>[2475.0]</td><td>334.7303811693307</td></tr>\n",
       "<tr><td>248.0</td><td>1514.0</td><td>[1514.0]</td><td>220.42288771924478</td></tr>\n",
       "<tr><td>350.0</td><td>2475.0</td><td>[2475.0]</td><td>334.7303811693307</td></tr>\n",
       "</table>\n",
       "only showing top 20 rows\n"
      ],
      "text/plain": [
       "+-------------------+--------+--------+------------------+\n",
       "|ACTUAL_ELAPSED_TIME|DISTANCE|features|        prediction|\n",
       "+-------------------+--------+--------+------------------+\n",
       "|              398.0|  2475.0|[2475.0]| 334.7303811693307|\n",
       "|              335.0|  2475.0|[2475.0]| 334.7303811693307|\n",
       "|              319.0|  2475.0|[2475.0]| 334.7303811693307|\n",
       "|              537.0|  3784.0|[3784.0]| 490.4312229239223|\n",
       "|              467.0|  3711.0|[3711.0]|481.74813549223006|\n",
       "|              498.0|  3711.0|[3711.0]|481.74813549223006|\n",
       "|              465.0|  3784.0|[3784.0]| 490.4312229239223|\n",
       "|              387.0|  2586.0|[2586.0]| 347.9334319216299|\n",
       "|              297.0|  2475.0|[2475.0]| 334.7303811693307|\n",
       "|              324.0|  2586.0|[2586.0]| 347.9334319216299|\n",
       "|              289.0|  2486.0|[2486.0]| 336.0387916042432|\n",
       "|              388.0|  2586.0|[2586.0]| 347.9334319216299|\n",
       "|              308.0|  2586.0|[2586.0]| 347.9334319216299|\n",
       "|              397.0|  2475.0|[2475.0]| 334.7303811693307|\n",
       "|              308.0|  2586.0|[2586.0]| 347.9334319216299|\n",
       "|              416.0|  2475.0|[2475.0]| 334.7303811693307|\n",
       "|              317.0|  2475.0|[2475.0]| 334.7303811693307|\n",
       "|              398.0|  2475.0|[2475.0]| 334.7303811693307|\n",
       "|              248.0|  1514.0|[1514.0]|220.42288771924478|\n",
       "|              350.0|  2475.0|[2475.0]| 334.7303811693307|\n",
       "+-------------------+--------+--------+------------------+\n",
       "only showing top 20 rows"
      ]
     },
     "execution_count": 43,
     "metadata": {},
     "output_type": "execute_result"
    }
   ],
   "source": [
    "summary.predictions"
   ]
  },
  {
   "cell_type": "markdown",
   "id": "570542aa",
   "metadata": {},
   "source": [
    "### Correlação Entre Valores Reais e Valores Preditos"
   ]
  },
  {
   "cell_type": "code",
   "execution_count": 44,
   "id": "c857a4de",
   "metadata": {},
   "outputs": [
    {
     "data": {
      "text/plain": [
       "0.9427886755327488"
      ]
     },
     "execution_count": 44,
     "metadata": {},
     "output_type": "execute_result"
    }
   ],
   "source": [
    "# R2 através da Correlação\n",
    "summary.predictions.corr('ACTUAL_ELAPSED_TIME', 'prediction')**2"
   ]
  },
  {
   "cell_type": "markdown",
   "id": "8fd2335e",
   "metadata": {},
   "source": [
    "### Resíduos"
   ]
  },
  {
   "cell_type": "code",
   "execution_count": 45,
   "id": "2bfdf5a3",
   "metadata": {},
   "outputs": [],
   "source": [
    "#Amostra dos Resíduos\n",
    "residuos = summary.residuals.sample(0.01).toPandas()"
   ]
  },
  {
   "cell_type": "code",
   "execution_count": 46,
   "id": "bd988db5",
   "metadata": {},
   "outputs": [
    {
     "data": {
      "text/plain": [
       "<Axes: ylabel='Count'>"
      ]
     },
     "execution_count": 46,
     "metadata": {},
     "output_type": "execute_result"
    },
    {
     "data": {
      "image/png": "[encoded data removed]",
      "text/plain": [
       "<Figure size 640x480 with 1 Axes>"
      ]
     },
     "metadata": {},
     "output_type": "display_data"
    }
   ],
   "source": [
    "sns.histplot(residuos, bins = 100)"
   ]
  },
  {
   "cell_type": "markdown",
   "id": "43a84fb0",
   "metadata": {},
   "source": [
    "### Previsão"
   ]
  },
  {
   "cell_type": "code",
   "execution_count": 47,
   "id": "2eda1c3d",
   "metadata": {},
   "outputs": [],
   "source": [
    "from pyspark.ml.linalg import Vectors\n",
    "\n",
    "# criar a lista de valores como um objeto Vector do PySpark\n",
    "dados_novos = [2000]\n",
    "dados_novos_spk = [Vectors.dense(dados_novos)]\n",
    "\n",
    "# criar um pandas.DataFrame a partir da lista de valores\n",
    "pandasDF = pd.DataFrame({'features': dados_novos_spk})\n",
    "\n",
    "# criar um DataFrame no PySpark a partir do pandas.DataFrame\n",
    "dados_novos_spk = spark.createDataFrame(pandasDF)"
   ]
  },
  {
   "cell_type": "code",
   "execution_count": 48,
   "id": "7a3d0f8f",
   "metadata": {},
   "outputs": [],
   "source": [
    "predict = modelo_linear.transform(dados_novos_spk)"
   ]
  },
  {
   "cell_type": "code",
   "execution_count": 49,
   "id": "528e4e51",
   "metadata": {},
   "outputs": [
    {
     "data": {
      "text/html": [
       "<table border='1'>\n",
       "<tr><th>features</th><th>prediction</th></tr>\n",
       "<tr><td>[2000.0]</td><td>278.23083966174397</td></tr>\n",
       "</table>\n"
      ],
      "text/plain": [
       "+--------+------------------+\n",
       "|features|        prediction|\n",
       "+--------+------------------+\n",
       "|[2000.0]|278.23083966174397|\n",
       "+--------+------------------+"
      ]
     },
     "execution_count": 49,
     "metadata": {},
     "output_type": "execute_result"
    }
   ],
   "source": [
    "predict"
   ]
  },
  {
   "cell_type": "markdown",
   "id": "0ba70daa",
   "metadata": {},
   "source": [
    "## Regressão Logística\n",
    "\n",
    "Modelo para calcular se o voo vai atrasar para chegar ou não baseado nas variáveis do banco de dados:\n",
    "\n",
    "Depedende: ATRASADO"
   ]
  },
  {
   "cell_type": "code",
   "execution_count": 12,
   "id": "ecfe3b0e",
   "metadata": {},
   "outputs": [
    {
     "name": "stdout",
     "output_type": "stream",
     "text": [
      "root\n",
      " |-- FL_DATE: date (nullable = true)\n",
      " |-- OP_CARRIER: string (nullable = true)\n",
      " |-- OP_CARRIER_FL_NUM: integer (nullable = true)\n",
      " |-- ORIGIN: string (nullable = true)\n",
      " |-- DEST: string (nullable = true)\n",
      " |-- CRS_DEP_TIME: integer (nullable = true)\n",
      " |-- DEP_TIME: double (nullable = true)\n",
      " |-- DEP_DELAY: double (nullable = true)\n",
      " |-- TAXI_OUT: double (nullable = true)\n",
      " |-- WHEELS_OFF: double (nullable = true)\n",
      " |-- WHEELS_ON: double (nullable = true)\n",
      " |-- TAXI_IN: double (nullable = true)\n",
      " |-- CRS_ARR_TIME: integer (nullable = true)\n",
      " |-- ARR_TIME: double (nullable = true)\n",
      " |-- ARR_DELAY: double (nullable = true)\n",
      " |-- CANCELLED: double (nullable = true)\n",
      " |-- CANCELLATION_CODE: string (nullable = true)\n",
      " |-- DIVERTED: double (nullable = true)\n",
      " |-- CRS_ELAPSED_TIME: double (nullable = true)\n",
      " |-- ACTUAL_ELAPSED_TIME: double (nullable = true)\n",
      " |-- AIR_TIME: double (nullable = true)\n",
      " |-- DISTANCE: double (nullable = true)\n",
      " |-- CARRIER_DELAY: double (nullable = true)\n",
      " |-- WEATHER_DELAY: double (nullable = true)\n",
      " |-- NAS_DELAY: double (nullable = true)\n",
      " |-- SECURITY_DELAY: double (nullable = true)\n",
      " |-- LATE_AIRCRAFT_DELAY: double (nullable = true)\n",
      " |-- ATRASADO: string (nullable = false)\n",
      "\n"
     ]
    }
   ],
   "source": [
    "dados_voos_completo.printSchema()"
   ]
  },
  {
   "cell_type": "markdown",
   "id": "835338ed",
   "metadata": {},
   "source": [
    "### Descritiva Variáveis Tempo"
   ]
  },
  {
   "cell_type": "code",
   "execution_count": 13,
   "id": "21b6929f",
   "metadata": {},
   "outputs": [],
   "source": [
    "# Criando as variáveis de tempo e renomeando\n",
    "dados_voos_completo_tratado = dados_voos_completo \\\n",
    "    .withColumn('MES', month('FL_DATE')) \\\n",
    "    .withColumn('DIA_DA_SEMANA', dayofweek('FL_DATE')) \\\n",
    "    .withColumn('ATRASO_PARTIDA', col('DEP_DELAY')) \\\n",
    "    .withColumn('ATRASO_CHEGADA', col('ARR_DELAY'))\n",
    "\n",
    "\n",
    "# Transformando as variáveis categóricas para string - DUMMIZAÇÃO EXIGE QUE SEJA NUMÉRICO\n",
    "#dados_voos_completo_tratado = dados_voos_completo_tratado \\\n",
    "#    .withColumn('MES', col('MES').cast('string')) \\\n",
    "#    .withColumn('DIA_DA_SEMANA', col('DIA_DA_SEMANA').cast('string'))"
   ]
  },
  {
   "cell_type": "code",
   "execution_count": 14,
   "id": "0e56cea4",
   "metadata": {},
   "outputs": [
    {
     "name": "stdout",
     "output_type": "stream",
     "text": [
      "root\n",
      " |-- FL_DATE: date (nullable = true)\n",
      " |-- OP_CARRIER: string (nullable = true)\n",
      " |-- OP_CARRIER_FL_NUM: integer (nullable = true)\n",
      " |-- ORIGIN: string (nullable = true)\n",
      " |-- DEST: string (nullable = true)\n",
      " |-- CRS_DEP_TIME: integer (nullable = true)\n",
      " |-- DEP_TIME: double (nullable = true)\n",
      " |-- DEP_DELAY: double (nullable = true)\n",
      " |-- TAXI_OUT: double (nullable = true)\n",
      " |-- WHEELS_OFF: double (nullable = true)\n",
      " |-- WHEELS_ON: double (nullable = true)\n",
      " |-- TAXI_IN: double (nullable = true)\n",
      " |-- CRS_ARR_TIME: integer (nullable = true)\n",
      " |-- ARR_TIME: double (nullable = true)\n",
      " |-- ARR_DELAY: double (nullable = true)\n",
      " |-- CANCELLED: double (nullable = true)\n",
      " |-- CANCELLATION_CODE: string (nullable = true)\n",
      " |-- DIVERTED: double (nullable = true)\n",
      " |-- CRS_ELAPSED_TIME: double (nullable = true)\n",
      " |-- ACTUAL_ELAPSED_TIME: double (nullable = true)\n",
      " |-- AIR_TIME: double (nullable = true)\n",
      " |-- DISTANCE: double (nullable = true)\n",
      " |-- CARRIER_DELAY: double (nullable = true)\n",
      " |-- WEATHER_DELAY: double (nullable = true)\n",
      " |-- NAS_DELAY: double (nullable = true)\n",
      " |-- SECURITY_DELAY: double (nullable = true)\n",
      " |-- LATE_AIRCRAFT_DELAY: double (nullable = true)\n",
      " |-- ATRASADO: string (nullable = false)\n",
      " |-- MES: integer (nullable = true)\n",
      " |-- DIA_DA_SEMANA: integer (nullable = true)\n",
      " |-- ATRASO_PARTIDA: double (nullable = true)\n",
      " |-- ATRASO_CHEGADA: double (nullable = true)\n",
      "\n"
     ]
    }
   ],
   "source": [
    "dados_voos_completo_tratado.printSchema()"
   ]
  },
  {
   "cell_type": "markdown",
   "id": "ffce4893",
   "metadata": {},
   "source": [
    "### Média Atraso na Chegada por Dia da Semana"
   ]
  },
  {
   "cell_type": "code",
   "execution_count": 15,
   "id": "6f239128",
   "metadata": {},
   "outputs": [],
   "source": [
    "# Amostra para verificar a relação entre as variáveis\n",
    "amostra_voos_completo_tratado_py = dados_voos_completo_tratado.groupBy('DIA_DA_SEMANA')\\\n",
    "    .agg(mean('ATRASO_CHEGADA').alias('media_atraso_chegada')).toPandas()"
   ]
  },
  {
   "cell_type": "code",
   "execution_count": 54,
   "id": "e7b8011b",
   "metadata": {},
   "outputs": [
    {
     "data": {
      "text/html": [
       "<div>\n",
       "<style scoped>\n",
       "    .dataframe tbody tr th:only-of-type {\n",
       "        vertical-align: middle;\n",
       "    }\n",
       "\n",
       "    .dataframe tbody tr th {\n",
       "        vertical-align: top;\n",
       "    }\n",
       "\n",
       "    .dataframe thead th {\n",
       "        text-align: right;\n",
       "    }\n",
       "</style>\n",
       "<table border=\"1\" class=\"dataframe\">\n",
       "  <thead>\n",
       "    <tr style=\"text-align: right;\">\n",
       "      <th></th>\n",
       "      <th>DIA_DA_SEMANA</th>\n",
       "      <th>media_atraso_chegada</th>\n",
       "    </tr>\n",
       "  </thead>\n",
       "  <tbody>\n",
       "    <tr>\n",
       "      <th>0</th>\n",
       "      <td>1</td>\n",
       "      <td>4.351062</td>\n",
       "    </tr>\n",
       "    <tr>\n",
       "      <th>6</th>\n",
       "      <td>2</td>\n",
       "      <td>6.426059</td>\n",
       "    </tr>\n",
       "    <tr>\n",
       "      <th>2</th>\n",
       "      <td>3</td>\n",
       "      <td>3.306794</td>\n",
       "    </tr>\n",
       "    <tr>\n",
       "      <th>4</th>\n",
       "      <td>4</td>\n",
       "      <td>3.499227</td>\n",
       "    </tr>\n",
       "    <tr>\n",
       "      <th>3</th>\n",
       "      <td>5</td>\n",
       "      <td>5.753909</td>\n",
       "    </tr>\n",
       "    <tr>\n",
       "      <th>1</th>\n",
       "      <td>6</td>\n",
       "      <td>6.633249</td>\n",
       "    </tr>\n",
       "    <tr>\n",
       "      <th>5</th>\n",
       "      <td>7</td>\n",
       "      <td>1.483857</td>\n",
       "    </tr>\n",
       "  </tbody>\n",
       "</table>\n",
       "</div>"
      ],
      "text/plain": [
       "   DIA_DA_SEMANA  media_atraso_chegada\n",
       "0              1              4.351062\n",
       "6              2              6.426059\n",
       "2              3              3.306794\n",
       "4              4              3.499227\n",
       "3              5              5.753909\n",
       "1              6              6.633249\n",
       "5              7              1.483857"
      ]
     },
     "execution_count": 54,
     "metadata": {},
     "output_type": "execute_result"
    }
   ],
   "source": [
    "amostra_voos_completo_tratado_py.sort_values('DIA_DA_SEMANA')\n",
    "#1 - Domingo\n",
    "#7 - Sábado"
   ]
  },
  {
   "cell_type": "code",
   "execution_count": 55,
   "id": "65c8ec1c",
   "metadata": {},
   "outputs": [
    {
     "data": {
      "image/png": "[encoded data removed]",
      "text/plain": [
       "<Figure size 640x480 with 1 Axes>"
      ]
     },
     "metadata": {},
     "output_type": "display_data"
    }
   ],
   "source": [
    "#1 - Domingo\n",
    "#7 - Sábado\n",
    "\n",
    "plt.bar(x='DIA_DA_SEMANA', height='media_atraso_chegada', data=amostra_voos_completo_tratado_py.sort_values('DIA_DA_SEMANA'))\n",
    "plt.title('Media de atraso dos voos por dia da semana')\n",
    "plt.ylabel('Media de atraso dos voos')\n",
    "plt.xlabel('Dia da semana')\n",
    "plt.show()"
   ]
  },
  {
   "cell_type": "markdown",
   "id": "17b58c23",
   "metadata": {},
   "source": [
    "### Média Atraso na Chegada por Mes"
   ]
  },
  {
   "cell_type": "code",
   "execution_count": 56,
   "id": "4b0810fa",
   "metadata": {},
   "outputs": [],
   "source": [
    "# Amostra para verificar a relação entre as variáveis\n",
    "amostra_voos_completo_tratado_py = dados_voos_completo_tratado.groupBy('MES')\\\n",
    "    .agg(mean('ATRASO_CHEGADA').alias('media_atraso_chegada')).toPandas()"
   ]
  },
  {
   "cell_type": "code",
   "execution_count": 57,
   "id": "3e0cb339",
   "metadata": {},
   "outputs": [
    {
     "data": {
      "text/html": [
       "<div>\n",
       "<style scoped>\n",
       "    .dataframe tbody tr th:only-of-type {\n",
       "        vertical-align: middle;\n",
       "    }\n",
       "\n",
       "    .dataframe tbody tr th {\n",
       "        vertical-align: top;\n",
       "    }\n",
       "\n",
       "    .dataframe thead th {\n",
       "        text-align: right;\n",
       "    }\n",
       "</style>\n",
       "<table border=\"1\" class=\"dataframe\">\n",
       "  <thead>\n",
       "    <tr style=\"text-align: right;\">\n",
       "      <th></th>\n",
       "      <th>MES</th>\n",
       "      <th>media_atraso_chegada</th>\n",
       "    </tr>\n",
       "  </thead>\n",
       "  <tbody>\n",
       "    <tr>\n",
       "      <th>0</th>\n",
       "      <td>1</td>\n",
       "      <td>4.661002</td>\n",
       "    </tr>\n",
       "    <tr>\n",
       "      <th>1</th>\n",
       "      <td>3</td>\n",
       "      <td>3.047836</td>\n",
       "    </tr>\n",
       "    <tr>\n",
       "      <th>2</th>\n",
       "      <td>2</td>\n",
       "      <td>2.360759</td>\n",
       "    </tr>\n",
       "    <tr>\n",
       "      <th>3</th>\n",
       "      <td>5</td>\n",
       "      <td>5.925216</td>\n",
       "    </tr>\n",
       "    <tr>\n",
       "      <th>4</th>\n",
       "      <td>4</td>\n",
       "      <td>5.236692</td>\n",
       "    </tr>\n",
       "    <tr>\n",
       "      <th>5</th>\n",
       "      <td>6</td>\n",
       "      <td>8.777683</td>\n",
       "    </tr>\n",
       "    <tr>\n",
       "      <th>6</th>\n",
       "      <td>7</td>\n",
       "      <td>8.297988</td>\n",
       "    </tr>\n",
       "    <tr>\n",
       "      <th>7</th>\n",
       "      <td>9</td>\n",
       "      <td>-0.555612</td>\n",
       "    </tr>\n",
       "    <tr>\n",
       "      <th>8</th>\n",
       "      <td>8</td>\n",
       "      <td>6.692595</td>\n",
       "    </tr>\n",
       "    <tr>\n",
       "      <th>9</th>\n",
       "      <td>10</td>\n",
       "      <td>1.179531</td>\n",
       "    </tr>\n",
       "    <tr>\n",
       "      <th>10</th>\n",
       "      <td>12</td>\n",
       "      <td>3.586025</td>\n",
       "    </tr>\n",
       "    <tr>\n",
       "      <th>11</th>\n",
       "      <td>11</td>\n",
       "      <td>-3.179592</td>\n",
       "    </tr>\n",
       "  </tbody>\n",
       "</table>\n",
       "</div>"
      ],
      "text/plain": [
       "    MES  media_atraso_chegada\n",
       "0     1              4.661002\n",
       "1     3              3.047836\n",
       "2     2              2.360759\n",
       "3     5              5.925216\n",
       "4     4              5.236692\n",
       "5     6              8.777683\n",
       "6     7              8.297988\n",
       "7     9             -0.555612\n",
       "8     8              6.692595\n",
       "9    10              1.179531\n",
       "10   12              3.586025\n",
       "11   11             -3.179592"
      ]
     },
     "execution_count": 57,
     "metadata": {},
     "output_type": "execute_result"
    }
   ],
   "source": [
    "amostra_voos_completo_tratado_py"
   ]
  },
  {
   "cell_type": "code",
   "execution_count": 58,
   "id": "130d767b",
   "metadata": {},
   "outputs": [
    {
     "data": {
      "image/png": "[encoded data removed]",
      "text/plain": [
       "<Figure size 640x480 with 1 Axes>"
      ]
     },
     "metadata": {},
     "output_type": "display_data"
    }
   ],
   "source": [
    "plt.bar(x='MES', height='media_atraso_chegada', data=amostra_voos_completo_tratado_py.sort_values('MES'))\n",
    "plt.title('Media de atraso dos voos por mes')\n",
    "plt.ylabel('Media de atraso dos voos')\n",
    "plt.xlabel('Meses')\n",
    "plt.show()"
   ]
  },
  {
   "cell_type": "markdown",
   "id": "5f622382",
   "metadata": {},
   "source": [
    "## Selecionando e Tratando as Variáveis do Modelo"
   ]
  },
  {
   "cell_type": "code",
   "execution_count": 16,
   "id": "e1a50548",
   "metadata": {},
   "outputs": [],
   "source": [
    "# Selecionado as variáveis de tempo\n",
    "dados_modelo_atraso = dados_voos_completo_tratado.select('ATRASADO','CRS_DEP_TIME','MES','DIA_DA_SEMANA', 'DISTANCE')"
   ]
  },
  {
   "cell_type": "code",
   "execution_count": 17,
   "id": "f8af1b6d",
   "metadata": {},
   "outputs": [
    {
     "name": "stdout",
     "output_type": "stream",
     "text": [
      "root\n",
      " |-- ATRASADO: string (nullable = false)\n",
      " |-- CRS_DEP_TIME: integer (nullable = true)\n",
      " |-- MES: integer (nullable = true)\n",
      " |-- DIA_DA_SEMANA: integer (nullable = true)\n",
      " |-- DISTANCE: double (nullable = true)\n",
      "\n"
     ]
    }
   ],
   "source": [
    "dados_modelo_atraso.printSchema()"
   ]
  },
  {
   "cell_type": "code",
   "execution_count": 61,
   "id": "c565ec1d",
   "metadata": {},
   "outputs": [
    {
     "name": "stdout",
     "output_type": "stream",
     "text": [
      "+-------+-------------------+-----------------+------------------+------------------+----------------+\n",
      "|summary|           ATRASADO|     CRS_DEP_TIME|               MES|     DIA_DA_SEMANA|        DISTANCE|\n",
      "+-------+-------------------+-----------------+------------------+------------------+----------------+\n",
      "|  count|            9710691|          9710690|           9710691|           9710691|         9710690|\n",
      "|   mean|0.18738889295318528|1330.521060501365| 5.486819835993134|3.9404384301796855|833.922037568906|\n",
      "| stddev| 0.3902234125904336|491.6049728462533|3.1446586318546457|1.9609551061200807|614.302591516966|\n",
      "|    min|                  0|                1|                 1|                 1|            31.0|\n",
      "|    max|                 NA|             2359|                12|                 7|          4983.0|\n",
      "+-------+-------------------+-----------------+------------------+------------------+----------------+\n",
      "\n"
     ]
    }
   ],
   "source": [
    "dados_modelo_atraso.describe().show()"
   ]
  },
  {
   "cell_type": "code",
   "execution_count": 18,
   "id": "f4166e92",
   "metadata": {},
   "outputs": [],
   "source": [
    "#Criando variável Hora para cada 400 min.\n",
    "\n",
    "from pyspark.ml.feature import Bucketizer\n",
    "\n",
    "# Definir os limites dos buckets\n",
    "limites = list(range(0, 2400, 400)) + [float('inf')]\n",
    "\n",
    "# Criar o objeto Bucketizer\n",
    "bucketizer = Bucketizer(splits=limites, inputCol='CRS_DEP_TIME', outputCol='HORA')\n",
    "\n",
    "# Aplicar o Bucketizer ao DataFrame\n",
    "dados_modelo_atraso = bucketizer.transform(dados_modelo_atraso)"
   ]
  },
  {
   "cell_type": "code",
   "execution_count": 22,
   "id": "90c4f731",
   "metadata": {},
   "outputs": [
    {
     "data": {
      "text/html": [
       "<table border='1'>\n",
       "<tr><th>ATRASADO</th><th>CRS_DEP_TIME</th><th>MES</th><th>DIA_DA_SEMANA</th><th>DISTANCE</th><th>HORA</th></tr>\n",
       "<tr><td>1</td><td>800</td><td>1</td><td>1</td><td>2475.0</td><td>2.0</td></tr>\n",
       "<tr><td>1</td><td>900</td><td>1</td><td>1</td><td>2475.0</td><td>2.0</td></tr>\n",
       "<tr><td>1</td><td>1130</td><td>1</td><td>1</td><td>2475.0</td><td>2.0</td></tr>\n",
       "<tr><td>1</td><td>1135</td><td>1</td><td>1</td><td>3784.0</td><td>2.0</td></tr>\n",
       "<tr><td>1</td><td>1855</td><td>1</td><td>1</td><td>3711.0</td><td>4.0</td></tr>\n",
       "<tr><td>1</td><td>940</td><td>1</td><td>1</td><td>3711.0</td><td>2.0</td></tr>\n",
       "<tr><td>1</td><td>1838</td><td>1</td><td>1</td><td>3784.0</td><td>4.0</td></tr>\n",
       "<tr><td>0</td><td>700</td><td>1</td><td>1</td><td>2586.0</td><td>1.0</td></tr>\n",
       "<tr><td>0</td><td>2100</td><td>1</td><td>1</td><td>2475.0</td><td>5.0</td></tr>\n",
       "<tr><td>0</td><td>1135</td><td>1</td><td>1</td><td>2586.0</td><td>2.0</td></tr>\n",
       "<tr><td>0</td><td>2313</td><td>1</td><td>1</td><td>2486.0</td><td>5.0</td></tr>\n",
       "<tr><td>0</td><td>825</td><td>1</td><td>1</td><td>2586.0</td><td>2.0</td></tr>\n",
       "<tr><td>0</td><td>1305</td><td>1</td><td>1</td><td>2586.0</td><td>3.0</td></tr>\n",
       "<tr><td>0</td><td>900</td><td>1</td><td>1</td><td>2475.0</td><td>2.0</td></tr>\n",
       "<tr><td>0</td><td>1530</td><td>1</td><td>1</td><td>2586.0</td><td>3.0</td></tr>\n",
       "<tr><td>1</td><td>1900</td><td>1</td><td>1</td><td>2475.0</td><td>4.0</td></tr>\n",
       "<tr><td>0</td><td>1340</td><td>1</td><td>1</td><td>2475.0</td><td>3.0</td></tr>\n",
       "<tr><td>0</td><td>2215</td><td>1</td><td>1</td><td>2475.0</td><td>5.0</td></tr>\n",
       "<tr><td>0</td><td>1705</td><td>1</td><td>1</td><td>1514.0</td><td>4.0</td></tr>\n",
       "<tr><td>1</td><td>2200</td><td>1</td><td>1</td><td>2475.0</td><td>5.0</td></tr>\n",
       "</table>\n",
       "only showing top 20 rows\n"
      ],
      "text/plain": [
       "DataFrame[ATRASADO: string, CRS_DEP_TIME: int, MES: int, DIA_DA_SEMANA: int, DISTANCE: double, HORA: double]"
      ]
     },
     "execution_count": 22,
     "metadata": {},
     "output_type": "execute_result"
    }
   ],
   "source": [
    "dados_modelo_atraso"
   ]
  },
  {
   "cell_type": "code",
   "execution_count": 20,
   "id": "c7a781ee",
   "metadata": {},
   "outputs": [
    {
     "data": {
      "text/plain": [
       "9710691"
      ]
     },
     "execution_count": 20,
     "metadata": {},
     "output_type": "execute_result"
    }
   ],
   "source": [
    "dados_modelo_atraso.count()"
   ]
  },
  {
   "cell_type": "code",
   "execution_count": 23,
   "id": "8f87cb79",
   "metadata": {},
   "outputs": [],
   "source": [
    "# Removendo missing values\n",
    "dados_modelo_atraso = dados_modelo_atraso.where(col('ATRASADO') != 'NA')"
   ]
  },
  {
   "cell_type": "code",
   "execution_count": 24,
   "id": "a7f97ba3",
   "metadata": {},
   "outputs": [
    {
     "data": {
      "text/plain": [
       "9527411"
      ]
     },
     "execution_count": 24,
     "metadata": {},
     "output_type": "execute_result"
    }
   ],
   "source": [
    "dados_modelo_atraso.count()"
   ]
  },
  {
   "cell_type": "code",
   "execution_count": 25,
   "id": "1165e251",
   "metadata": {},
   "outputs": [],
   "source": [
    "# Transformando variável ATRASADO em numérica (modelo logistico exige ser numérico)\n",
    "dados_modelo_atraso = dados_modelo_atraso.withColumn('ATRASADO', col('ATRASADO').cast('integer'))"
   ]
  },
  {
   "cell_type": "code",
   "execution_count": 26,
   "id": "29a0168a",
   "metadata": {},
   "outputs": [
    {
     "name": "stdout",
     "output_type": "stream",
     "text": [
      "root\n",
      " |-- ATRASADO: integer (nullable = true)\n",
      " |-- CRS_DEP_TIME: integer (nullable = true)\n",
      " |-- MES: integer (nullable = true)\n",
      " |-- DIA_DA_SEMANA: integer (nullable = true)\n",
      " |-- DISTANCE: double (nullable = true)\n",
      " |-- HORA: double (nullable = true)\n",
      "\n"
     ]
    }
   ],
   "source": [
    "dados_modelo_atraso.printSchema()"
   ]
  },
  {
   "cell_type": "markdown",
   "id": "a8db29ba",
   "metadata": {},
   "source": [
    "### Dummizando"
   ]
  },
  {
   "cell_type": "code",
   "execution_count": 27,
   "id": "58c8a7d5",
   "metadata": {},
   "outputs": [],
   "source": [
    "from pyspark.ml.feature import OneHotEncoder\n",
    "\n",
    "# Especifica as colunas de entrada e saída\n",
    "cols_in = ['MES', 'DIA_DA_SEMANA']\n",
    "cols_out = ['MES_CAT', 'DIA_DA_SEMANA_CAT']\n",
    "\n",
    "# Cria um objeto OneHotEncoderEstimator\n",
    "encoder = OneHotEncoder(\n",
    "    inputCols=cols_in,\n",
    "    outputCols=cols_out\n",
    ")\n",
    "\n",
    "# Ajusta o modelo aos dados\n",
    "model_dummie = encoder.fit(dados_modelo_atraso)\n",
    "\n",
    "# Transforma os dados\n",
    "dados_modelo_atraso_dum = model_dummie.transform(dados_modelo_atraso)"
   ]
  },
  {
   "cell_type": "code",
   "execution_count": 28,
   "id": "6f748f24",
   "metadata": {},
   "outputs": [
    {
     "name": "stdout",
     "output_type": "stream",
     "text": [
      "root\n",
      " |-- ATRASADO: integer (nullable = true)\n",
      " |-- CRS_DEP_TIME: integer (nullable = true)\n",
      " |-- MES: integer (nullable = true)\n",
      " |-- DIA_DA_SEMANA: integer (nullable = true)\n",
      " |-- DISTANCE: double (nullable = true)\n",
      " |-- HORA: double (nullable = true)\n",
      " |-- MES_CAT: vector (nullable = true)\n",
      " |-- DIA_DA_SEMANA_CAT: vector (nullable = true)\n",
      "\n"
     ]
    }
   ],
   "source": [
    "dados_modelo_atraso_dum.printSchema()"
   ]
  },
  {
   "cell_type": "markdown",
   "id": "fe4d0387",
   "metadata": {},
   "source": [
    "## Aplicando Modelo Regressão Logística\n",
    "\n",
    "Referência: https://medium.com/swlh/logistic-regression-with-pyspark-60295d41221 <br>\n",
    "Dumentação: https://spark.apache.org/docs/latest/ml-classification-regression.html#logistic-regression"
   ]
  },
  {
   "cell_type": "code",
   "execution_count": 29,
   "id": "36917085",
   "metadata": {},
   "outputs": [],
   "source": [
    "from pyspark.ml.classification import LogisticRegression"
   ]
  },
  {
   "cell_type": "code",
   "execution_count": 30,
   "id": "1a7e6ff6",
   "metadata": {},
   "outputs": [],
   "source": [
    "# Preparando o Modelo\n",
    "\n",
    "output_col = \"ATRASADO\" #variavel dependente\n",
    "input_cols = [\"DIA_DA_SEMANA_CAT\", 'HORA', 'MES_CAT', 'DISTANCE'] #variavel independente\n"
   ]
  },
  {
   "cell_type": "code",
   "execution_count": 33,
   "id": "4301a301",
   "metadata": {},
   "outputs": [],
   "source": [
    "# criar um VectorAssembler para combinar as colunas de features em um vetor\n",
    "assembler = VectorAssembler(inputCols= input_cols, outputCol= 'features')\n",
    "df_reg = assembler.transform(dados_modelo_atraso_dum)"
   ]
  },
  {
   "cell_type": "code",
   "execution_count": 39,
   "id": "ce991d15",
   "metadata": {},
   "outputs": [],
   "source": [
    "# criar um objeto LinearRegression\n",
    "logr = LogisticRegression(featuresCol=\"features\", labelCol=output_col, \n",
    "                          maxIter=10, \n",
    "                          regParam=0.3, \n",
    "                          elasticNetParam=0.8, \n",
    "                          family='binomial')\n",
    "\n",
    "# Treina o Modelo\n",
    "modelo_atraso_voos = logr.fit(df_reg)"
   ]
  },
  {
   "cell_type": "code",
   "execution_count": 35,
   "id": "50e4a896",
   "metadata": {},
   "outputs": [
    {
     "name": "stdout",
     "output_type": "stream",
     "text": [
      "Intercepto: -1.47\n",
      "ROC: 0.50\n",
      "Accuracy: 0.8126\n"
     ]
    }
   ],
   "source": [
    "summary = modelo_atraso_voos.summary\n",
    "\n",
    "print(f'Intercepto: {modelo_atraso_voos.intercept:.2f}')\n",
    "print(f'ROC: {summary.areaUnderROC:.2f}')\n",
    "print(f'Accuracy: {summary.accuracy:.4f}')\n"
   ]
  },
  {
   "cell_type": "code",
   "execution_count": 38,
   "id": "a521d717",
   "metadata": {},
   "outputs": [
    {
     "data": {
      "text/html": [
       "<table border='1'>\n",
       "<tr><th>ATRASADO</th><th>CRS_DEP_TIME</th><th>MES</th><th>DIA_DA_SEMANA</th><th>DISTANCE</th><th>HORA</th><th>MES_CAT</th><th>DIA_DA_SEMANA_CAT</th><th>features</th><th>rawPrediction</th><th>probability</th><th>prediction</th></tr>\n",
       "<tr><td>1.0</td><td>800</td><td>1</td><td>1</td><td>2475.0</td><td>2.0</td><td>(12,[1],[1.0])</td><td>(7,[1],[1.0])</td><td>(21,[1,7,9,20],[1...</td><td>[1.46706655313481...</td><td>[0.81261110704681...</td><td>0.0</td></tr>\n",
       "<tr><td>1.0</td><td>900</td><td>1</td><td>1</td><td>2475.0</td><td>2.0</td><td>(12,[1],[1.0])</td><td>(7,[1],[1.0])</td><td>(21,[1,7,9,20],[1...</td><td>[1.46706655313481...</td><td>[0.81261110704681...</td><td>0.0</td></tr>\n",
       "<tr><td>1.0</td><td>1130</td><td>1</td><td>1</td><td>2475.0</td><td>2.0</td><td>(12,[1],[1.0])</td><td>(7,[1],[1.0])</td><td>(21,[1,7,9,20],[1...</td><td>[1.46706655313481...</td><td>[0.81261110704681...</td><td>0.0</td></tr>\n",
       "<tr><td>1.0</td><td>1135</td><td>1</td><td>1</td><td>3784.0</td><td>2.0</td><td>(12,[1],[1.0])</td><td>(7,[1],[1.0])</td><td>(21,[1,7,9,20],[1...</td><td>[1.46706655313481...</td><td>[0.81261110704681...</td><td>0.0</td></tr>\n",
       "<tr><td>1.0</td><td>1855</td><td>1</td><td>1</td><td>3711.0</td><td>4.0</td><td>(12,[1],[1.0])</td><td>(7,[1],[1.0])</td><td>(21,[1,7,9,20],[1...</td><td>[1.46706655313481...</td><td>[0.81261110704681...</td><td>0.0</td></tr>\n",
       "<tr><td>1.0</td><td>940</td><td>1</td><td>1</td><td>3711.0</td><td>2.0</td><td>(12,[1],[1.0])</td><td>(7,[1],[1.0])</td><td>(21,[1,7,9,20],[1...</td><td>[1.46706655313481...</td><td>[0.81261110704681...</td><td>0.0</td></tr>\n",
       "<tr><td>1.0</td><td>1838</td><td>1</td><td>1</td><td>3784.0</td><td>4.0</td><td>(12,[1],[1.0])</td><td>(7,[1],[1.0])</td><td>(21,[1,7,9,20],[1...</td><td>[1.46706655313481...</td><td>[0.81261110704681...</td><td>0.0</td></tr>\n",
       "<tr><td>0.0</td><td>700</td><td>1</td><td>1</td><td>2586.0</td><td>1.0</td><td>(12,[1],[1.0])</td><td>(7,[1],[1.0])</td><td>(21,[1,7,9,20],[1...</td><td>[1.46706655313481...</td><td>[0.81261110704681...</td><td>0.0</td></tr>\n",
       "<tr><td>0.0</td><td>2100</td><td>1</td><td>1</td><td>2475.0</td><td>5.0</td><td>(12,[1],[1.0])</td><td>(7,[1],[1.0])</td><td>(21,[1,7,9,20],[1...</td><td>[1.46706655313481...</td><td>[0.81261110704681...</td><td>0.0</td></tr>\n",
       "<tr><td>0.0</td><td>1135</td><td>1</td><td>1</td><td>2586.0</td><td>2.0</td><td>(12,[1],[1.0])</td><td>(7,[1],[1.0])</td><td>(21,[1,7,9,20],[1...</td><td>[1.46706655313481...</td><td>[0.81261110704681...</td><td>0.0</td></tr>\n",
       "<tr><td>0.0</td><td>2313</td><td>1</td><td>1</td><td>2486.0</td><td>5.0</td><td>(12,[1],[1.0])</td><td>(7,[1],[1.0])</td><td>(21,[1,7,9,20],[1...</td><td>[1.46706655313481...</td><td>[0.81261110704681...</td><td>0.0</td></tr>\n",
       "<tr><td>0.0</td><td>825</td><td>1</td><td>1</td><td>2586.0</td><td>2.0</td><td>(12,[1],[1.0])</td><td>(7,[1],[1.0])</td><td>(21,[1,7,9,20],[1...</td><td>[1.46706655313481...</td><td>[0.81261110704681...</td><td>0.0</td></tr>\n",
       "<tr><td>0.0</td><td>1305</td><td>1</td><td>1</td><td>2586.0</td><td>3.0</td><td>(12,[1],[1.0])</td><td>(7,[1],[1.0])</td><td>(21,[1,7,9,20],[1...</td><td>[1.46706655313481...</td><td>[0.81261110704681...</td><td>0.0</td></tr>\n",
       "<tr><td>0.0</td><td>900</td><td>1</td><td>1</td><td>2475.0</td><td>2.0</td><td>(12,[1],[1.0])</td><td>(7,[1],[1.0])</td><td>(21,[1,7,9,20],[1...</td><td>[1.46706655313481...</td><td>[0.81261110704681...</td><td>0.0</td></tr>\n",
       "<tr><td>0.0</td><td>1530</td><td>1</td><td>1</td><td>2586.0</td><td>3.0</td><td>(12,[1],[1.0])</td><td>(7,[1],[1.0])</td><td>(21,[1,7,9,20],[1...</td><td>[1.46706655313481...</td><td>[0.81261110704681...</td><td>0.0</td></tr>\n",
       "<tr><td>1.0</td><td>1900</td><td>1</td><td>1</td><td>2475.0</td><td>4.0</td><td>(12,[1],[1.0])</td><td>(7,[1],[1.0])</td><td>(21,[1,7,9,20],[1...</td><td>[1.46706655313481...</td><td>[0.81261110704681...</td><td>0.0</td></tr>\n",
       "<tr><td>0.0</td><td>1340</td><td>1</td><td>1</td><td>2475.0</td><td>3.0</td><td>(12,[1],[1.0])</td><td>(7,[1],[1.0])</td><td>(21,[1,7,9,20],[1...</td><td>[1.46706655313481...</td><td>[0.81261110704681...</td><td>0.0</td></tr>\n",
       "<tr><td>0.0</td><td>2215</td><td>1</td><td>1</td><td>2475.0</td><td>5.0</td><td>(12,[1],[1.0])</td><td>(7,[1],[1.0])</td><td>(21,[1,7,9,20],[1...</td><td>[1.46706655313481...</td><td>[0.81261110704681...</td><td>0.0</td></tr>\n",
       "<tr><td>0.0</td><td>1705</td><td>1</td><td>1</td><td>1514.0</td><td>4.0</td><td>(12,[1],[1.0])</td><td>(7,[1],[1.0])</td><td>(21,[1,7,9,20],[1...</td><td>[1.46706655313481...</td><td>[0.81261110704681...</td><td>0.0</td></tr>\n",
       "<tr><td>1.0</td><td>2200</td><td>1</td><td>1</td><td>2475.0</td><td>5.0</td><td>(12,[1],[1.0])</td><td>(7,[1],[1.0])</td><td>(21,[1,7,9,20],[1...</td><td>[1.46706655313481...</td><td>[0.81261110704681...</td><td>0.0</td></tr>\n",
       "</table>\n",
       "only showing top 20 rows\n"
      ],
      "text/plain": [
       "+--------+------------+---+-------------+--------+----+--------------+-----------------+--------------------+--------------------+--------------------+----------+\n",
       "|ATRASADO|CRS_DEP_TIME|MES|DIA_DA_SEMANA|DISTANCE|HORA|       MES_CAT|DIA_DA_SEMANA_CAT|            features|       rawPrediction|         probability|prediction|\n",
       "+--------+------------+---+-------------+--------+----+--------------+-----------------+--------------------+--------------------+--------------------+----------+\n",
       "|     1.0|         800|  1|            1|  2475.0| 2.0|(12,[1],[1.0])|    (7,[1],[1.0])|(21,[1,7,9,20],[1...|[1.46706655313481...|[0.81261110704681...|       0.0|\n",
       "|     1.0|         900|  1|            1|  2475.0| 2.0|(12,[1],[1.0])|    (7,[1],[1.0])|(21,[1,7,9,20],[1...|[1.46706655313481...|[0.81261110704681...|       0.0|\n",
       "|     1.0|        1130|  1|            1|  2475.0| 2.0|(12,[1],[1.0])|    (7,[1],[1.0])|(21,[1,7,9,20],[1...|[1.46706655313481...|[0.81261110704681...|       0.0|\n",
       "|     1.0|        1135|  1|            1|  3784.0| 2.0|(12,[1],[1.0])|    (7,[1],[1.0])|(21,[1,7,9,20],[1...|[1.46706655313481...|[0.81261110704681...|       0.0|\n",
       "|     1.0|        1855|  1|            1|  3711.0| 4.0|(12,[1],[1.0])|    (7,[1],[1.0])|(21,[1,7,9,20],[1...|[1.46706655313481...|[0.81261110704681...|       0.0|\n",
       "|     1.0|         940|  1|            1|  3711.0| 2.0|(12,[1],[1.0])|    (7,[1],[1.0])|(21,[1,7,9,20],[1...|[1.46706655313481...|[0.81261110704681...|       0.0|\n",
       "|     1.0|        1838|  1|            1|  3784.0| 4.0|(12,[1],[1.0])|    (7,[1],[1.0])|(21,[1,7,9,20],[1...|[1.46706655313481...|[0.81261110704681...|       0.0|\n",
       "|     0.0|         700|  1|            1|  2586.0| 1.0|(12,[1],[1.0])|    (7,[1],[1.0])|(21,[1,7,9,20],[1...|[1.46706655313481...|[0.81261110704681...|       0.0|\n",
       "|     0.0|        2100|  1|            1|  2475.0| 5.0|(12,[1],[1.0])|    (7,[1],[1.0])|(21,[1,7,9,20],[1...|[1.46706655313481...|[0.81261110704681...|       0.0|\n",
       "|     0.0|        1135|  1|            1|  2586.0| 2.0|(12,[1],[1.0])|    (7,[1],[1.0])|(21,[1,7,9,20],[1...|[1.46706655313481...|[0.81261110704681...|       0.0|\n",
       "|     0.0|        2313|  1|            1|  2486.0| 5.0|(12,[1],[1.0])|    (7,[1],[1.0])|(21,[1,7,9,20],[1...|[1.46706655313481...|[0.81261110704681...|       0.0|\n",
       "|     0.0|         825|  1|            1|  2586.0| 2.0|(12,[1],[1.0])|    (7,[1],[1.0])|(21,[1,7,9,20],[1...|[1.46706655313481...|[0.81261110704681...|       0.0|\n",
       "|     0.0|        1305|  1|            1|  2586.0| 3.0|(12,[1],[1.0])|    (7,[1],[1.0])|(21,[1,7,9,20],[1...|[1.46706655313481...|[0.81261110704681...|       0.0|\n",
       "|     0.0|         900|  1|            1|  2475.0| 2.0|(12,[1],[1.0])|    (7,[1],[1.0])|(21,[1,7,9,20],[1...|[1.46706655313481...|[0.81261110704681...|       0.0|\n",
       "|     0.0|        1530|  1|            1|  2586.0| 3.0|(12,[1],[1.0])|    (7,[1],[1.0])|(21,[1,7,9,20],[1...|[1.46706655313481...|[0.81261110704681...|       0.0|\n",
       "|     1.0|        1900|  1|            1|  2475.0| 4.0|(12,[1],[1.0])|    (7,[1],[1.0])|(21,[1,7,9,20],[1...|[1.46706655313481...|[0.81261110704681...|       0.0|\n",
       "|     0.0|        1340|  1|            1|  2475.0| 3.0|(12,[1],[1.0])|    (7,[1],[1.0])|(21,[1,7,9,20],[1...|[1.46706655313481...|[0.81261110704681...|       0.0|\n",
       "|     0.0|        2215|  1|            1|  2475.0| 5.0|(12,[1],[1.0])|    (7,[1],[1.0])|(21,[1,7,9,20],[1...|[1.46706655313481...|[0.81261110704681...|       0.0|\n",
       "|     0.0|        1705|  1|            1|  1514.0| 4.0|(12,[1],[1.0])|    (7,[1],[1.0])|(21,[1,7,9,20],[1...|[1.46706655313481...|[0.81261110704681...|       0.0|\n",
       "|     1.0|        2200|  1|            1|  2475.0| 5.0|(12,[1],[1.0])|    (7,[1],[1.0])|(21,[1,7,9,20],[1...|[1.46706655313481...|[0.81261110704681...|       0.0|\n",
       "+--------+------------+---+-------------+--------+----+--------------+-----------------+--------------------+--------------------+--------------------+----------+\n",
       "only showing top 20 rows"
      ]
     },
     "execution_count": 38,
     "metadata": {},
     "output_type": "execute_result"
    }
   ],
   "source": [
    "summary.predictions"
   ]
  },
  {
   "cell_type": "markdown",
   "id": "3e4909e8",
   "metadata": {},
   "source": [
    "### Confusion Matrix\n",
    "\n",
    "Modelo ruim, não acertou nenhuma previsão"
   ]
  },
  {
   "cell_type": "code",
   "execution_count": 36,
   "id": "d03555ca",
   "metadata": {},
   "outputs": [
    {
     "data": {
      "text/html": [
       "<table border='1'>\n",
       "<tr><th>ATRASADO</th><th>prediction</th><th>count(HORA)</th></tr>\n",
       "<tr><td>1.0</td><td>0.0</td><td>1785331</td></tr>\n",
       "<tr><td>0.0</td><td>0.0</td><td>7742080</td></tr>\n",
       "</table>\n"
      ],
      "text/plain": [
       "+--------+----------+-----------+\n",
       "|ATRASADO|prediction|count(HORA)|\n",
       "+--------+----------+-----------+\n",
       "|     1.0|       0.0|    1785331|\n",
       "|     0.0|       0.0|    7742080|\n",
       "+--------+----------+-----------+"
      ]
     },
     "execution_count": 36,
     "metadata": {},
     "output_type": "execute_result"
    }
   ],
   "source": [
    "summary.predictions.groupBy('ATRASADO', 'prediction').agg(count('HORA'))"
   ]
  },
  {
   "cell_type": "markdown",
   "id": "281222dd",
   "metadata": {},
   "source": [
    "## Previsão"
   ]
  },
  {
   "cell_type": "code",
   "execution_count": 57,
   "id": "4c578a62",
   "metadata": {},
   "outputs": [],
   "source": [
    "from pyspark.ml.linalg import Vectors\n",
    "\n",
    "# criar a lista de valores como um objeto Vector do PySpark\n",
    "dados_novos = ['3', '2', '2', 2000]\n",
    "dados_novos_spk = [Vectors.dense(dados_novos)]\n",
    "\n",
    "# criar um pandas.DataFrame a partir da lista de valores\n",
    "pandasDF = pd.DataFrame({'features': dados_novos_spk})\n",
    "\n",
    "# criar um DataFrame no PySpark a partir do pandas.DataFrame\n",
    "dados_novos_spk = spark.createDataFrame(pandasDF)"
   ]
  },
  {
   "cell_type": "code",
   "execution_count": 58,
   "id": "4fa1a8b4",
   "metadata": {},
   "outputs": [],
   "source": [
    "prediction = modelo_atraso_voos.transform(dados_novos_spk)"
   ]
  },
  {
   "cell_type": "code",
   "execution_count": 59,
   "id": "109ab794",
   "metadata": {
    "collapsed": true
   },
   "outputs": [
    {
     "ename": "Py4JJavaError",
     "evalue": "An error occurred while calling o853.showString.\n: org.apache.spark.SparkException: Job aborted due to stage failure: Task 2 in stage 59.0 failed 1 times, most recent failure: Lost task 2.0 in stage 59.0 (TID 207) (DESKTOP-IF968BA executor driver): org.apache.spark.SparkException: [FAILED_EXECUTE_UDF] Failed to execute user defined function (ProbabilisticClassificationModel$$Lambda$4438/843094173: (struct<type:tinyint,size:int,indices:array<int>,values:array<double>>) => struct<type:tinyint,size:int,indices:array<int>,values:array<double>>).\r\n\tat org.apache.spark.sql.errors.QueryExecutionErrors$.failedExecuteUserDefinedFunctionError(QueryExecutionErrors.scala:217)\r\n\tat org.apache.spark.sql.errors.QueryExecutionErrors.failedExecuteUserDefinedFunctionError(QueryExecutionErrors.scala)\r\n\tat org.apache.spark.sql.catalyst.expressions.GeneratedClass$GeneratedIteratorForCodegenStage1.project_doConsume_0$(Unknown Source)\r\n\tat org.apache.spark.sql.catalyst.expressions.GeneratedClass$GeneratedIteratorForCodegenStage1.processNext(Unknown Source)\r\n\tat org.apache.spark.sql.execution.BufferedRowIterator.hasNext(BufferedRowIterator.java:43)\r\n\tat org.apache.spark.sql.execution.WholeStageCodegenExec$$anon$1.hasNext(WholeStageCodegenExec.scala:760)\r\n\tat org.apache.spark.sql.execution.SparkPlan.$anonfun$getByteArrayRdd$1(SparkPlan.scala:388)\r\n\tat org.apache.spark.rdd.RDD.$anonfun$mapPartitionsInternal$2(RDD.scala:888)\r\n\tat org.apache.spark.rdd.RDD.$anonfun$mapPartitionsInternal$2$adapted(RDD.scala:888)\r\n\tat org.apache.spark.rdd.MapPartitionsRDD.compute(MapPartitionsRDD.scala:52)\r\n\tat org.apache.spark.rdd.RDD.computeOrReadCheckpoint(RDD.scala:364)\r\n\tat org.apache.spark.rdd.RDD.iterator(RDD.scala:328)\r\n\tat org.apache.spark.scheduler.ResultTask.runTask(ResultTask.scala:92)\r\n\tat org.apache.spark.TaskContext.runTaskWithListeners(TaskContext.scala:161)\r\n\tat org.apache.spark.scheduler.Task.run(Task.scala:139)\r\n\tat org.apache.spark.executor.Executor$TaskRunner.$anonfun$run$3(Executor.scala:554)\r\n\tat org.apache.spark.util.Utils$.tryWithSafeFinally(Utils.scala:1529)\r\n\tat org.apache.spark.executor.Executor$TaskRunner.run(Executor.scala:557)\r\n\tat java.util.concurrent.ThreadPoolExecutor.runWorker(Unknown Source)\r\n\tat java.util.concurrent.ThreadPoolExecutor$Worker.run(Unknown Source)\r\n\tat java.lang.Thread.run(Unknown Source)\r\nCaused by: java.lang.IllegalArgumentException: requirement failed: BLAS.dot(x: Vector, y:Vector) was given Vectors with non-matching sizes: x.size = 4, y.size = 21\r\n\tat scala.Predef$.require(Predef.scala:281)\r\n\tat org.apache.spark.ml.linalg.BLAS$.dot(BLAS.scala:123)\r\n\tat org.apache.spark.ml.classification.LogisticRegressionModel.$anonfun$margin$1(LogisticRegression.scala:1151)\r\n\tat org.apache.spark.ml.classification.LogisticRegressionModel.$anonfun$margin$1$adapted(LogisticRegression.scala:1150)\r\n\tat org.apache.spark.ml.classification.LogisticRegressionModel.predictRaw(LogisticRegression.scala:1241)\r\n\tat org.apache.spark.ml.classification.LogisticRegressionModel.predictRaw(LogisticRegression.scala:1060)\r\n\tat org.apache.spark.ml.classification.ProbabilisticClassificationModel.$anonfun$transform$2(ProbabilisticClassifier.scala:121)\r\n\t... 19 more\r\n\nDriver stacktrace:\r\n\tat org.apache.spark.scheduler.DAGScheduler.failJobAndIndependentStages(DAGScheduler.scala:2785)\r\n\tat org.apache.spark.scheduler.DAGScheduler.$anonfun$abortStage$2(DAGScheduler.scala:2721)\r\n\tat org.apache.spark.scheduler.DAGScheduler.$anonfun$abortStage$2$adapted(DAGScheduler.scala:2720)\r\n\tat scala.collection.mutable.ResizableArray.foreach(ResizableArray.scala:62)\r\n\tat scala.collection.mutable.ResizableArray.foreach$(ResizableArray.scala:55)\r\n\tat scala.collection.mutable.ArrayBuffer.foreach(ArrayBuffer.scala:49)\r\n\tat org.apache.spark.scheduler.DAGScheduler.abortStage(DAGScheduler.scala:2720)\r\n\tat org.apache.spark.scheduler.DAGScheduler.$anonfun$handleTaskSetFailed$1(DAGScheduler.scala:1206)\r\n\tat org.apache.spark.scheduler.DAGScheduler.$anonfun$handleTaskSetFailed$1$adapted(DAGScheduler.scala:1206)\r\n\tat scala.Option.foreach(Option.scala:407)\r\n\tat org.apache.spark.scheduler.DAGScheduler.handleTaskSetFailed(DAGScheduler.scala:1206)\r\n\tat org.apache.spark.scheduler.DAGSchedulerEventProcessLoop.doOnReceive(DAGScheduler.scala:2984)\r\n\tat org.apache.spark.scheduler.DAGSchedulerEventProcessLoop.onReceive(DAGScheduler.scala:2923)\r\n\tat org.apache.spark.scheduler.DAGSchedulerEventProcessLoop.onReceive(DAGScheduler.scala:2912)\r\n\tat org.apache.spark.util.EventLoop$$anon$1.run(EventLoop.scala:49)\r\n\tat org.apache.spark.scheduler.DAGScheduler.runJob(DAGScheduler.scala:971)\r\n\tat org.apache.spark.SparkContext.runJob(SparkContext.scala:2263)\r\n\tat org.apache.spark.SparkContext.runJob(SparkContext.scala:2284)\r\n\tat org.apache.spark.SparkContext.runJob(SparkContext.scala:2303)\r\n\tat org.apache.spark.sql.execution.SparkPlan.executeTake(SparkPlan.scala:530)\r\n\tat org.apache.spark.sql.execution.SparkPlan.executeTake(SparkPlan.scala:483)\r\n\tat org.apache.spark.sql.execution.CollectLimitExec.executeCollect(limit.scala:61)\r\n\tat org.apache.spark.sql.Dataset.collectFromPlan(Dataset.scala:4177)\r\n\tat org.apache.spark.sql.Dataset.$anonfun$head$1(Dataset.scala:3161)\r\n\tat org.apache.spark.sql.Dataset.$anonfun$withAction$2(Dataset.scala:4167)\r\n\tat org.apache.spark.sql.execution.QueryExecution$.withInternalError(QueryExecution.scala:526)\r\n\tat org.apache.spark.sql.Dataset.$anonfun$withAction$1(Dataset.scala:4165)\r\n\tat org.apache.spark.sql.execution.SQLExecution$.$anonfun$withNewExecutionId$6(SQLExecution.scala:118)\r\n\tat org.apache.spark.sql.execution.SQLExecution$.withSQLConfPropagated(SQLExecution.scala:195)\r\n\tat org.apache.spark.sql.execution.SQLExecution$.$anonfun$withNewExecutionId$1(SQLExecution.scala:103)\r\n\tat org.apache.spark.sql.SparkSession.withActive(SparkSession.scala:827)\r\n\tat org.apache.spark.sql.execution.SQLExecution$.withNewExecutionId(SQLExecution.scala:65)\r\n\tat org.apache.spark.sql.Dataset.withAction(Dataset.scala:4165)\r\n\tat org.apache.spark.sql.Dataset.head(Dataset.scala:3161)\r\n\tat org.apache.spark.sql.Dataset.take(Dataset.scala:3382)\r\n\tat org.apache.spark.sql.Dataset.getRows(Dataset.scala:284)\r\n\tat org.apache.spark.sql.Dataset.showString(Dataset.scala:323)\r\n\tat sun.reflect.NativeMethodAccessorImpl.invoke0(Native Method)\r\n\tat sun.reflect.NativeMethodAccessorImpl.invoke(Unknown Source)\r\n\tat sun.reflect.DelegatingMethodAccessorImpl.invoke(Unknown Source)\r\n\tat java.lang.reflect.Method.invoke(Unknown Source)\r\n\tat py4j.reflection.MethodInvoker.invoke(MethodInvoker.java:244)\r\n\tat py4j.reflection.ReflectionEngine.invoke(ReflectionEngine.java:374)\r\n\tat py4j.Gateway.invoke(Gateway.java:282)\r\n\tat py4j.commands.AbstractCommand.invokeMethod(AbstractCommand.java:132)\r\n\tat py4j.commands.CallCommand.execute(CallCommand.java:79)\r\n\tat py4j.ClientServerConnection.waitForCommands(ClientServerConnection.java:182)\r\n\tat py4j.ClientServerConnection.run(ClientServerConnection.java:106)\r\n\tat java.lang.Thread.run(Unknown Source)\r\nCaused by: org.apache.spark.SparkException: [FAILED_EXECUTE_UDF] Failed to execute user defined function (ProbabilisticClassificationModel$$Lambda$4438/843094173: (struct<type:tinyint,size:int,indices:array<int>,values:array<double>>) => struct<type:tinyint,size:int,indices:array<int>,values:array<double>>).\r\n\tat org.apache.spark.sql.errors.QueryExecutionErrors$.failedExecuteUserDefinedFunctionError(QueryExecutionErrors.scala:217)\r\n\tat org.apache.spark.sql.errors.QueryExecutionErrors.failedExecuteUserDefinedFunctionError(QueryExecutionErrors.scala)\r\n\tat org.apache.spark.sql.catalyst.expressions.GeneratedClass$GeneratedIteratorForCodegenStage1.project_doConsume_0$(Unknown Source)\r\n\tat org.apache.spark.sql.catalyst.expressions.GeneratedClass$GeneratedIteratorForCodegenStage1.processNext(Unknown Source)\r\n\tat org.apache.spark.sql.execution.BufferedRowIterator.hasNext(BufferedRowIterator.java:43)\r\n\tat org.apache.spark.sql.execution.WholeStageCodegenExec$$anon$1.hasNext(WholeStageCodegenExec.scala:760)\r\n\tat org.apache.spark.sql.execution.SparkPlan.$anonfun$getByteArrayRdd$1(SparkPlan.scala:388)\r\n\tat org.apache.spark.rdd.RDD.$anonfun$mapPartitionsInternal$2(RDD.scala:888)\r\n\tat org.apache.spark.rdd.RDD.$anonfun$mapPartitionsInternal$2$adapted(RDD.scala:888)\r\n\tat org.apache.spark.rdd.MapPartitionsRDD.compute(MapPartitionsRDD.scala:52)\r\n\tat org.apache.spark.rdd.RDD.computeOrReadCheckpoint(RDD.scala:364)\r\n\tat org.apache.spark.rdd.RDD.iterator(RDD.scala:328)\r\n\tat org.apache.spark.scheduler.ResultTask.runTask(ResultTask.scala:92)\r\n\tat org.apache.spark.TaskContext.runTaskWithListeners(TaskContext.scala:161)\r\n\tat org.apache.spark.scheduler.Task.run(Task.scala:139)\r\n\tat org.apache.spark.executor.Executor$TaskRunner.$anonfun$run$3(Executor.scala:554)\r\n\tat org.apache.spark.util.Utils$.tryWithSafeFinally(Utils.scala:1529)\r\n\tat org.apache.spark.executor.Executor$TaskRunner.run(Executor.scala:557)\r\n\tat java.util.concurrent.ThreadPoolExecutor.runWorker(Unknown Source)\r\n\tat java.util.concurrent.ThreadPoolExecutor$Worker.run(Unknown Source)\r\n\t... 1 more\r\nCaused by: java.lang.IllegalArgumentException: requirement failed: BLAS.dot(x: Vector, y:Vector) was given Vectors with non-matching sizes: x.size = 4, y.size = 21\r\n\tat scala.Predef$.require(Predef.scala:281)\r\n\tat org.apache.spark.ml.linalg.BLAS$.dot(BLAS.scala:123)\r\n\tat org.apache.spark.ml.classification.LogisticRegressionModel.$anonfun$margin$1(LogisticRegression.scala:1151)\r\n\tat org.apache.spark.ml.classification.LogisticRegressionModel.$anonfun$margin$1$adapted(LogisticRegression.scala:1150)\r\n\tat org.apache.spark.ml.classification.LogisticRegressionModel.predictRaw(LogisticRegression.scala:1241)\r\n\tat org.apache.spark.ml.classification.LogisticRegressionModel.predictRaw(LogisticRegression.scala:1060)\r\n\tat org.apache.spark.ml.classification.ProbabilisticClassificationModel.$anonfun$transform$2(ProbabilisticClassifier.scala:121)\r\n\t... 19 more\r\n",
     "output_type": "error",
     "traceback": [
      "\u001b[1;31m---------------------------------------------------------------------------\u001b[0m",
      "\u001b[1;31mPy4JJavaError\u001b[0m                             Traceback (most recent call last)",
      "File \u001b[1;32mC:\\ProgramData\\anaconda3\\lib\\site-packages\\IPython\\core\\formatters.py:706\u001b[0m, in \u001b[0;36mPlainTextFormatter.__call__\u001b[1;34m(self, obj)\u001b[0m\n\u001b[0;32m    699\u001b[0m stream \u001b[38;5;241m=\u001b[39m StringIO()\n\u001b[0;32m    700\u001b[0m printer \u001b[38;5;241m=\u001b[39m pretty\u001b[38;5;241m.\u001b[39mRepresentationPrinter(stream, \u001b[38;5;28mself\u001b[39m\u001b[38;5;241m.\u001b[39mverbose,\n\u001b[0;32m    701\u001b[0m     \u001b[38;5;28mself\u001b[39m\u001b[38;5;241m.\u001b[39mmax_width, \u001b[38;5;28mself\u001b[39m\u001b[38;5;241m.\u001b[39mnewline,\n\u001b[0;32m    702\u001b[0m     max_seq_length\u001b[38;5;241m=\u001b[39m\u001b[38;5;28mself\u001b[39m\u001b[38;5;241m.\u001b[39mmax_seq_length,\n\u001b[0;32m    703\u001b[0m     singleton_pprinters\u001b[38;5;241m=\u001b[39m\u001b[38;5;28mself\u001b[39m\u001b[38;5;241m.\u001b[39msingleton_printers,\n\u001b[0;32m    704\u001b[0m     type_pprinters\u001b[38;5;241m=\u001b[39m\u001b[38;5;28mself\u001b[39m\u001b[38;5;241m.\u001b[39mtype_printers,\n\u001b[0;32m    705\u001b[0m     deferred_pprinters\u001b[38;5;241m=\u001b[39m\u001b[38;5;28mself\u001b[39m\u001b[38;5;241m.\u001b[39mdeferred_printers)\n\u001b[1;32m--> 706\u001b[0m \u001b[43mprinter\u001b[49m\u001b[38;5;241;43m.\u001b[39;49m\u001b[43mpretty\u001b[49m\u001b[43m(\u001b[49m\u001b[43mobj\u001b[49m\u001b[43m)\u001b[49m\n\u001b[0;32m    707\u001b[0m printer\u001b[38;5;241m.\u001b[39mflush()\n\u001b[0;32m    708\u001b[0m \u001b[38;5;28;01mreturn\u001b[39;00m stream\u001b[38;5;241m.\u001b[39mgetvalue()\n",
      "File \u001b[1;32mC:\\ProgramData\\anaconda3\\lib\\site-packages\\IPython\\lib\\pretty.py:410\u001b[0m, in \u001b[0;36mRepresentationPrinter.pretty\u001b[1;34m(self, obj)\u001b[0m\n\u001b[0;32m    407\u001b[0m                         \u001b[38;5;28;01mreturn\u001b[39;00m meth(obj, \u001b[38;5;28mself\u001b[39m, cycle)\n\u001b[0;32m    408\u001b[0m                 \u001b[38;5;28;01mif\u001b[39;00m \u001b[38;5;28mcls\u001b[39m \u001b[38;5;129;01mis\u001b[39;00m \u001b[38;5;129;01mnot\u001b[39;00m \u001b[38;5;28mobject\u001b[39m \\\n\u001b[0;32m    409\u001b[0m                         \u001b[38;5;129;01mand\u001b[39;00m callable(\u001b[38;5;28mcls\u001b[39m\u001b[38;5;241m.\u001b[39m\u001b[38;5;18m__dict__\u001b[39m\u001b[38;5;241m.\u001b[39mget(\u001b[38;5;124m'\u001b[39m\u001b[38;5;124m__repr__\u001b[39m\u001b[38;5;124m'\u001b[39m)):\n\u001b[1;32m--> 410\u001b[0m                     \u001b[38;5;28;01mreturn\u001b[39;00m \u001b[43m_repr_pprint\u001b[49m\u001b[43m(\u001b[49m\u001b[43mobj\u001b[49m\u001b[43m,\u001b[49m\u001b[43m \u001b[49m\u001b[38;5;28;43mself\u001b[39;49m\u001b[43m,\u001b[49m\u001b[43m \u001b[49m\u001b[43mcycle\u001b[49m\u001b[43m)\u001b[49m\n\u001b[0;32m    412\u001b[0m     \u001b[38;5;28;01mreturn\u001b[39;00m _default_pprint(obj, \u001b[38;5;28mself\u001b[39m, cycle)\n\u001b[0;32m    413\u001b[0m \u001b[38;5;28;01mfinally\u001b[39;00m:\n",
      "File \u001b[1;32mC:\\ProgramData\\anaconda3\\lib\\site-packages\\IPython\\lib\\pretty.py:778\u001b[0m, in \u001b[0;36m_repr_pprint\u001b[1;34m(obj, p, cycle)\u001b[0m\n\u001b[0;32m    776\u001b[0m \u001b[38;5;124;03m\"\"\"A pprint that just redirects to the normal repr function.\"\"\"\u001b[39;00m\n\u001b[0;32m    777\u001b[0m \u001b[38;5;66;03m# Find newlines and replace them with p.break_()\u001b[39;00m\n\u001b[1;32m--> 778\u001b[0m output \u001b[38;5;241m=\u001b[39m \u001b[38;5;28;43mrepr\u001b[39;49m\u001b[43m(\u001b[49m\u001b[43mobj\u001b[49m\u001b[43m)\u001b[49m\n\u001b[0;32m    779\u001b[0m lines \u001b[38;5;241m=\u001b[39m output\u001b[38;5;241m.\u001b[39msplitlines()\n\u001b[0;32m    780\u001b[0m \u001b[38;5;28;01mwith\u001b[39;00m p\u001b[38;5;241m.\u001b[39mgroup():\n",
      "File \u001b[1;32m~\\AppData\\Roaming\\Python\\Python310\\site-packages\\pyspark\\sql\\dataframe.py:917\u001b[0m, in \u001b[0;36mDataFrame.__repr__\u001b[1;34m(self)\u001b[0m\n\u001b[0;32m    915\u001b[0m \u001b[38;5;28;01mif\u001b[39;00m \u001b[38;5;129;01mnot\u001b[39;00m \u001b[38;5;28mself\u001b[39m\u001b[38;5;241m.\u001b[39m_support_repr_html \u001b[38;5;129;01mand\u001b[39;00m \u001b[38;5;28mself\u001b[39m\u001b[38;5;241m.\u001b[39msparkSession\u001b[38;5;241m.\u001b[39m_jconf\u001b[38;5;241m.\u001b[39misReplEagerEvalEnabled():\n\u001b[0;32m    916\u001b[0m     vertical \u001b[38;5;241m=\u001b[39m \u001b[38;5;28;01mFalse\u001b[39;00m\n\u001b[1;32m--> 917\u001b[0m     \u001b[38;5;28;01mreturn\u001b[39;00m \u001b[38;5;28;43mself\u001b[39;49m\u001b[38;5;241;43m.\u001b[39;49m\u001b[43m_jdf\u001b[49m\u001b[38;5;241;43m.\u001b[39;49m\u001b[43mshowString\u001b[49m\u001b[43m(\u001b[49m\n\u001b[0;32m    918\u001b[0m \u001b[43m        \u001b[49m\u001b[38;5;28;43mself\u001b[39;49m\u001b[38;5;241;43m.\u001b[39;49m\u001b[43msparkSession\u001b[49m\u001b[38;5;241;43m.\u001b[39;49m\u001b[43m_jconf\u001b[49m\u001b[38;5;241;43m.\u001b[39;49m\u001b[43mreplEagerEvalMaxNumRows\u001b[49m\u001b[43m(\u001b[49m\u001b[43m)\u001b[49m\u001b[43m,\u001b[49m\n\u001b[0;32m    919\u001b[0m \u001b[43m        \u001b[49m\u001b[38;5;28;43mself\u001b[39;49m\u001b[38;5;241;43m.\u001b[39;49m\u001b[43msparkSession\u001b[49m\u001b[38;5;241;43m.\u001b[39;49m\u001b[43m_jconf\u001b[49m\u001b[38;5;241;43m.\u001b[39;49m\u001b[43mreplEagerEvalTruncate\u001b[49m\u001b[43m(\u001b[49m\u001b[43m)\u001b[49m\u001b[43m,\u001b[49m\n\u001b[0;32m    920\u001b[0m \u001b[43m        \u001b[49m\u001b[43mvertical\u001b[49m\u001b[43m,\u001b[49m\n\u001b[0;32m    921\u001b[0m \u001b[43m    \u001b[49m\u001b[43m)\u001b[49m\n\u001b[0;32m    922\u001b[0m \u001b[38;5;28;01melse\u001b[39;00m:\n\u001b[0;32m    923\u001b[0m     \u001b[38;5;28;01mreturn\u001b[39;00m \u001b[38;5;124m\"\u001b[39m\u001b[38;5;124mDataFrame[\u001b[39m\u001b[38;5;132;01m%s\u001b[39;00m\u001b[38;5;124m]\u001b[39m\u001b[38;5;124m\"\u001b[39m \u001b[38;5;241m%\u001b[39m (\u001b[38;5;124m\"\u001b[39m\u001b[38;5;124m, \u001b[39m\u001b[38;5;124m\"\u001b[39m\u001b[38;5;241m.\u001b[39mjoin(\u001b[38;5;124m\"\u001b[39m\u001b[38;5;132;01m%s\u001b[39;00m\u001b[38;5;124m: \u001b[39m\u001b[38;5;132;01m%s\u001b[39;00m\u001b[38;5;124m\"\u001b[39m \u001b[38;5;241m%\u001b[39m c \u001b[38;5;28;01mfor\u001b[39;00m c \u001b[38;5;129;01min\u001b[39;00m \u001b[38;5;28mself\u001b[39m\u001b[38;5;241m.\u001b[39mdtypes))\n",
      "File \u001b[1;32m~\\AppData\\Roaming\\Python\\Python310\\site-packages\\py4j\\java_gateway.py:1322\u001b[0m, in \u001b[0;36mJavaMember.__call__\u001b[1;34m(self, *args)\u001b[0m\n\u001b[0;32m   1316\u001b[0m command \u001b[38;5;241m=\u001b[39m proto\u001b[38;5;241m.\u001b[39mCALL_COMMAND_NAME \u001b[38;5;241m+\u001b[39m\\\n\u001b[0;32m   1317\u001b[0m     \u001b[38;5;28mself\u001b[39m\u001b[38;5;241m.\u001b[39mcommand_header \u001b[38;5;241m+\u001b[39m\\\n\u001b[0;32m   1318\u001b[0m     args_command \u001b[38;5;241m+\u001b[39m\\\n\u001b[0;32m   1319\u001b[0m     proto\u001b[38;5;241m.\u001b[39mEND_COMMAND_PART\n\u001b[0;32m   1321\u001b[0m answer \u001b[38;5;241m=\u001b[39m \u001b[38;5;28mself\u001b[39m\u001b[38;5;241m.\u001b[39mgateway_client\u001b[38;5;241m.\u001b[39msend_command(command)\n\u001b[1;32m-> 1322\u001b[0m return_value \u001b[38;5;241m=\u001b[39m \u001b[43mget_return_value\u001b[49m\u001b[43m(\u001b[49m\n\u001b[0;32m   1323\u001b[0m \u001b[43m    \u001b[49m\u001b[43manswer\u001b[49m\u001b[43m,\u001b[49m\u001b[43m \u001b[49m\u001b[38;5;28;43mself\u001b[39;49m\u001b[38;5;241;43m.\u001b[39;49m\u001b[43mgateway_client\u001b[49m\u001b[43m,\u001b[49m\u001b[43m \u001b[49m\u001b[38;5;28;43mself\u001b[39;49m\u001b[38;5;241;43m.\u001b[39;49m\u001b[43mtarget_id\u001b[49m\u001b[43m,\u001b[49m\u001b[43m \u001b[49m\u001b[38;5;28;43mself\u001b[39;49m\u001b[38;5;241;43m.\u001b[39;49m\u001b[43mname\u001b[49m\u001b[43m)\u001b[49m\n\u001b[0;32m   1325\u001b[0m \u001b[38;5;28;01mfor\u001b[39;00m temp_arg \u001b[38;5;129;01min\u001b[39;00m temp_args:\n\u001b[0;32m   1326\u001b[0m     \u001b[38;5;28;01mif\u001b[39;00m \u001b[38;5;28mhasattr\u001b[39m(temp_arg, \u001b[38;5;124m\"\u001b[39m\u001b[38;5;124m_detach\u001b[39m\u001b[38;5;124m\"\u001b[39m):\n",
      "File \u001b[1;32m~\\AppData\\Roaming\\Python\\Python310\\site-packages\\pyspark\\errors\\exceptions\\captured.py:169\u001b[0m, in \u001b[0;36mcapture_sql_exception.<locals>.deco\u001b[1;34m(*a, **kw)\u001b[0m\n\u001b[0;32m    167\u001b[0m \u001b[38;5;28;01mdef\u001b[39;00m \u001b[38;5;21mdeco\u001b[39m(\u001b[38;5;241m*\u001b[39ma: Any, \u001b[38;5;241m*\u001b[39m\u001b[38;5;241m*\u001b[39mkw: Any) \u001b[38;5;241m-\u001b[39m\u001b[38;5;241m>\u001b[39m Any:\n\u001b[0;32m    168\u001b[0m     \u001b[38;5;28;01mtry\u001b[39;00m:\n\u001b[1;32m--> 169\u001b[0m         \u001b[38;5;28;01mreturn\u001b[39;00m f(\u001b[38;5;241m*\u001b[39ma, \u001b[38;5;241m*\u001b[39m\u001b[38;5;241m*\u001b[39mkw)\n\u001b[0;32m    170\u001b[0m     \u001b[38;5;28;01mexcept\u001b[39;00m Py4JJavaError \u001b[38;5;28;01mas\u001b[39;00m e:\n\u001b[0;32m    171\u001b[0m         converted \u001b[38;5;241m=\u001b[39m convert_exception(e\u001b[38;5;241m.\u001b[39mjava_exception)\n",
      "File \u001b[1;32m~\\AppData\\Roaming\\Python\\Python310\\site-packages\\py4j\\protocol.py:326\u001b[0m, in \u001b[0;36mget_return_value\u001b[1;34m(answer, gateway_client, target_id, name)\u001b[0m\n\u001b[0;32m    324\u001b[0m value \u001b[38;5;241m=\u001b[39m OUTPUT_CONVERTER[\u001b[38;5;28mtype\u001b[39m](answer[\u001b[38;5;241m2\u001b[39m:], gateway_client)\n\u001b[0;32m    325\u001b[0m \u001b[38;5;28;01mif\u001b[39;00m answer[\u001b[38;5;241m1\u001b[39m] \u001b[38;5;241m==\u001b[39m REFERENCE_TYPE:\n\u001b[1;32m--> 326\u001b[0m     \u001b[38;5;28;01mraise\u001b[39;00m Py4JJavaError(\n\u001b[0;32m    327\u001b[0m         \u001b[38;5;124m\"\u001b[39m\u001b[38;5;124mAn error occurred while calling \u001b[39m\u001b[38;5;132;01m{0}\u001b[39;00m\u001b[38;5;132;01m{1}\u001b[39;00m\u001b[38;5;132;01m{2}\u001b[39;00m\u001b[38;5;124m.\u001b[39m\u001b[38;5;130;01m\\n\u001b[39;00m\u001b[38;5;124m\"\u001b[39m\u001b[38;5;241m.\u001b[39m\n\u001b[0;32m    328\u001b[0m         \u001b[38;5;28mformat\u001b[39m(target_id, \u001b[38;5;124m\"\u001b[39m\u001b[38;5;124m.\u001b[39m\u001b[38;5;124m\"\u001b[39m, name), value)\n\u001b[0;32m    329\u001b[0m \u001b[38;5;28;01melse\u001b[39;00m:\n\u001b[0;32m    330\u001b[0m     \u001b[38;5;28;01mraise\u001b[39;00m Py4JError(\n\u001b[0;32m    331\u001b[0m         \u001b[38;5;124m\"\u001b[39m\u001b[38;5;124mAn error occurred while calling \u001b[39m\u001b[38;5;132;01m{0}\u001b[39;00m\u001b[38;5;132;01m{1}\u001b[39;00m\u001b[38;5;132;01m{2}\u001b[39;00m\u001b[38;5;124m. Trace:\u001b[39m\u001b[38;5;130;01m\\n\u001b[39;00m\u001b[38;5;132;01m{3}\u001b[39;00m\u001b[38;5;130;01m\\n\u001b[39;00m\u001b[38;5;124m\"\u001b[39m\u001b[38;5;241m.\u001b[39m\n\u001b[0;32m    332\u001b[0m         \u001b[38;5;28mformat\u001b[39m(target_id, \u001b[38;5;124m\"\u001b[39m\u001b[38;5;124m.\u001b[39m\u001b[38;5;124m\"\u001b[39m, name, value))\n",
      "\u001b[1;31mPy4JJavaError\u001b[0m: An error occurred while calling o853.showString.\n: org.apache.spark.SparkException: Job aborted due to stage failure: Task 2 in stage 59.0 failed 1 times, most recent failure: Lost task 2.0 in stage 59.0 (TID 207) (DESKTOP-IF968BA executor driver): org.apache.spark.SparkException: [FAILED_EXECUTE_UDF] Failed to execute user defined function (ProbabilisticClassificationModel$$Lambda$4438/843094173: (struct<type:tinyint,size:int,indices:array<int>,values:array<double>>) => struct<type:tinyint,size:int,indices:array<int>,values:array<double>>).\r\n\tat org.apache.spark.sql.errors.QueryExecutionErrors$.failedExecuteUserDefinedFunctionError(QueryExecutionErrors.scala:217)\r\n\tat org.apache.spark.sql.errors.QueryExecutionErrors.failedExecuteUserDefinedFunctionError(QueryExecutionErrors.scala)\r\n\tat org.apache.spark.sql.catalyst.expressions.GeneratedClass$GeneratedIteratorForCodegenStage1.project_doConsume_0$(Unknown Source)\r\n\tat org.apache.spark.sql.catalyst.expressions.GeneratedClass$GeneratedIteratorForCodegenStage1.processNext(Unknown Source)\r\n\tat org.apache.spark.sql.execution.BufferedRowIterator.hasNext(BufferedRowIterator.java:43)\r\n\tat org.apache.spark.sql.execution.WholeStageCodegenExec$$anon$1.hasNext(WholeStageCodegenExec.scala:760)\r\n\tat org.apache.spark.sql.execution.SparkPlan.$anonfun$getByteArrayRdd$1(SparkPlan.scala:388)\r\n\tat org.apache.spark.rdd.RDD.$anonfun$mapPartitionsInternal$2(RDD.scala:888)\r\n\tat org.apache.spark.rdd.RDD.$anonfun$mapPartitionsInternal$2$adapted(RDD.scala:888)\r\n\tat org.apache.spark.rdd.MapPartitionsRDD.compute(MapPartitionsRDD.scala:52)\r\n\tat org.apache.spark.rdd.RDD.computeOrReadCheckpoint(RDD.scala:364)\r\n\tat org.apache.spark.rdd.RDD.iterator(RDD.scala:328)\r\n\tat org.apache.spark.scheduler.ResultTask.runTask(ResultTask.scala:92)\r\n\tat org.apache.spark.TaskContext.runTaskWithListeners(TaskContext.scala:161)\r\n\tat org.apache.spark.scheduler.Task.run(Task.scala:139)\r\n\tat org.apache.spark.executor.Executor$TaskRunner.$anonfun$run$3(Executor.scala:554)\r\n\tat org.apache.spark.util.Utils$.tryWithSafeFinally(Utils.scala:1529)\r\n\tat org.apache.spark.executor.Executor$TaskRunner.run(Executor.scala:557)\r\n\tat java.util.concurrent.ThreadPoolExecutor.runWorker(Unknown Source)\r\n\tat java.util.concurrent.ThreadPoolExecutor$Worker.run(Unknown Source)\r\n\tat java.lang.Thread.run(Unknown Source)\r\nCaused by: java.lang.IllegalArgumentException: requirement failed: BLAS.dot(x: Vector, y:Vector) was given Vectors with non-matching sizes: x.size = 4, y.size = 21\r\n\tat scala.Predef$.require(Predef.scala:281)\r\n\tat org.apache.spark.ml.linalg.BLAS$.dot(BLAS.scala:123)\r\n\tat org.apache.spark.ml.classification.LogisticRegressionModel.$anonfun$margin$1(LogisticRegression.scala:1151)\r\n\tat org.apache.spark.ml.classification.LogisticRegressionModel.$anonfun$margin$1$adapted(LogisticRegression.scala:1150)\r\n\tat org.apache.spark.ml.classification.LogisticRegressionModel.predictRaw(LogisticRegression.scala:1241)\r\n\tat org.apache.spark.ml.classification.LogisticRegressionModel.predictRaw(LogisticRegression.scala:1060)\r\n\tat org.apache.spark.ml.classification.ProbabilisticClassificationModel.$anonfun$transform$2(ProbabilisticClassifier.scala:121)\r\n\t... 19 more\r\n\nDriver stacktrace:\r\n\tat org.apache.spark.scheduler.DAGScheduler.failJobAndIndependentStages(DAGScheduler.scala:2785)\r\n\tat org.apache.spark.scheduler.DAGScheduler.$anonfun$abortStage$2(DAGScheduler.scala:2721)\r\n\tat org.apache.spark.scheduler.DAGScheduler.$anonfun$abortStage$2$adapted(DAGScheduler.scala:2720)\r\n\tat scala.collection.mutable.ResizableArray.foreach(ResizableArray.scala:62)\r\n\tat scala.collection.mutable.ResizableArray.foreach$(ResizableArray.scala:55)\r\n\tat scala.collection.mutable.ArrayBuffer.foreach(ArrayBuffer.scala:49)\r\n\tat org.apache.spark.scheduler.DAGScheduler.abortStage(DAGScheduler.scala:2720)\r\n\tat org.apache.spark.scheduler.DAGScheduler.$anonfun$handleTaskSetFailed$1(DAGScheduler.scala:1206)\r\n\tat org.apache.spark.scheduler.DAGScheduler.$anonfun$handleTaskSetFailed$1$adapted(DAGScheduler.scala:1206)\r\n\tat scala.Option.foreach(Option.scala:407)\r\n\tat org.apache.spark.scheduler.DAGScheduler.handleTaskSetFailed(DAGScheduler.scala:1206)\r\n\tat org.apache.spark.scheduler.DAGSchedulerEventProcessLoop.doOnReceive(DAGScheduler.scala:2984)\r\n\tat org.apache.spark.scheduler.DAGSchedulerEventProcessLoop.onReceive(DAGScheduler.scala:2923)\r\n\tat org.apache.spark.scheduler.DAGSchedulerEventProcessLoop.onReceive(DAGScheduler.scala:2912)\r\n\tat org.apache.spark.util.EventLoop$$anon$1.run(EventLoop.scala:49)\r\n\tat org.apache.spark.scheduler.DAGScheduler.runJob(DAGScheduler.scala:971)\r\n\tat org.apache.spark.SparkContext.runJob(SparkContext.scala:2263)\r\n\tat org.apache.spark.SparkContext.runJob(SparkContext.scala:2284)\r\n\tat org.apache.spark.SparkContext.runJob(SparkContext.scala:2303)\r\n\tat org.apache.spark.sql.execution.SparkPlan.executeTake(SparkPlan.scala:530)\r\n\tat org.apache.spark.sql.execution.SparkPlan.executeTake(SparkPlan.scala:483)\r\n\tat org.apache.spark.sql.execution.CollectLimitExec.executeCollect(limit.scala:61)\r\n\tat org.apache.spark.sql.Dataset.collectFromPlan(Dataset.scala:4177)\r\n\tat org.apache.spark.sql.Dataset.$anonfun$head$1(Dataset.scala:3161)\r\n\tat org.apache.spark.sql.Dataset.$anonfun$withAction$2(Dataset.scala:4167)\r\n\tat org.apache.spark.sql.execution.QueryExecution$.withInternalError(QueryExecution.scala:526)\r\n\tat org.apache.spark.sql.Dataset.$anonfun$withAction$1(Dataset.scala:4165)\r\n\tat org.apache.spark.sql.execution.SQLExecution$.$anonfun$withNewExecutionId$6(SQLExecution.scala:118)\r\n\tat org.apache.spark.sql.execution.SQLExecution$.withSQLConfPropagated(SQLExecution.scala:195)\r\n\tat org.apache.spark.sql.execution.SQLExecution$.$anonfun$withNewExecutionId$1(SQLExecution.scala:103)\r\n\tat org.apache.spark.sql.SparkSession.withActive(SparkSession.scala:827)\r\n\tat org.apache.spark.sql.execution.SQLExecution$.withNewExecutionId(SQLExecution.scala:65)\r\n\tat org.apache.spark.sql.Dataset.withAction(Dataset.scala:4165)\r\n\tat org.apache.spark.sql.Dataset.head(Dataset.scala:3161)\r\n\tat org.apache.spark.sql.Dataset.take(Dataset.scala:3382)\r\n\tat org.apache.spark.sql.Dataset.getRows(Dataset.scala:284)\r\n\tat org.apache.spark.sql.Dataset.showString(Dataset.scala:323)\r\n\tat sun.reflect.NativeMethodAccessorImpl.invoke0(Native Method)\r\n\tat sun.reflect.NativeMethodAccessorImpl.invoke(Unknown Source)\r\n\tat sun.reflect.DelegatingMethodAccessorImpl.invoke(Unknown Source)\r\n\tat java.lang.reflect.Method.invoke(Unknown Source)\r\n\tat py4j.reflection.MethodInvoker.invoke(MethodInvoker.java:244)\r\n\tat py4j.reflection.ReflectionEngine.invoke(ReflectionEngine.java:374)\r\n\tat py4j.Gateway.invoke(Gateway.java:282)\r\n\tat py4j.commands.AbstractCommand.invokeMethod(AbstractCommand.java:132)\r\n\tat py4j.commands.CallCommand.execute(CallCommand.java:79)\r\n\tat py4j.ClientServerConnection.waitForCommands(ClientServerConnection.java:182)\r\n\tat py4j.ClientServerConnection.run(ClientServerConnection.java:106)\r\n\tat java.lang.Thread.run(Unknown Source)\r\nCaused by: org.apache.spark.SparkException: [FAILED_EXECUTE_UDF] Failed to execute user defined function (ProbabilisticClassificationModel$$Lambda$4438/843094173: (struct<type:tinyint,size:int,indices:array<int>,values:array<double>>) => struct<type:tinyint,size:int,indices:array<int>,values:array<double>>).\r\n\tat org.apache.spark.sql.errors.QueryExecutionErrors$.failedExecuteUserDefinedFunctionError(QueryExecutionErrors.scala:217)\r\n\tat org.apache.spark.sql.errors.QueryExecutionErrors.failedExecuteUserDefinedFunctionError(QueryExecutionErrors.scala)\r\n\tat org.apache.spark.sql.catalyst.expressions.GeneratedClass$GeneratedIteratorForCodegenStage1.project_doConsume_0$(Unknown Source)\r\n\tat org.apache.spark.sql.catalyst.expressions.GeneratedClass$GeneratedIteratorForCodegenStage1.processNext(Unknown Source)\r\n\tat org.apache.spark.sql.execution.BufferedRowIterator.hasNext(BufferedRowIterator.java:43)\r\n\tat org.apache.spark.sql.execution.WholeStageCodegenExec$$anon$1.hasNext(WholeStageCodegenExec.scala:760)\r\n\tat org.apache.spark.sql.execution.SparkPlan.$anonfun$getByteArrayRdd$1(SparkPlan.scala:388)\r\n\tat org.apache.spark.rdd.RDD.$anonfun$mapPartitionsInternal$2(RDD.scala:888)\r\n\tat org.apache.spark.rdd.RDD.$anonfun$mapPartitionsInternal$2$adapted(RDD.scala:888)\r\n\tat org.apache.spark.rdd.MapPartitionsRDD.compute(MapPartitionsRDD.scala:52)\r\n\tat org.apache.spark.rdd.RDD.computeOrReadCheckpoint(RDD.scala:364)\r\n\tat org.apache.spark.rdd.RDD.iterator(RDD.scala:328)\r\n\tat org.apache.spark.scheduler.ResultTask.runTask(ResultTask.scala:92)\r\n\tat org.apache.spark.TaskContext.runTaskWithListeners(TaskContext.scala:161)\r\n\tat org.apache.spark.scheduler.Task.run(Task.scala:139)\r\n\tat org.apache.spark.executor.Executor$TaskRunner.$anonfun$run$3(Executor.scala:554)\r\n\tat org.apache.spark.util.Utils$.tryWithSafeFinally(Utils.scala:1529)\r\n\tat org.apache.spark.executor.Executor$TaskRunner.run(Executor.scala:557)\r\n\tat java.util.concurrent.ThreadPoolExecutor.runWorker(Unknown Source)\r\n\tat java.util.concurrent.ThreadPoolExecutor$Worker.run(Unknown Source)\r\n\t... 1 more\r\nCaused by: java.lang.IllegalArgumentException: requirement failed: BLAS.dot(x: Vector, y:Vector) was given Vectors with non-matching sizes: x.size = 4, y.size = 21\r\n\tat scala.Predef$.require(Predef.scala:281)\r\n\tat org.apache.spark.ml.linalg.BLAS$.dot(BLAS.scala:123)\r\n\tat org.apache.spark.ml.classification.LogisticRegressionModel.$anonfun$margin$1(LogisticRegression.scala:1151)\r\n\tat org.apache.spark.ml.classification.LogisticRegressionModel.$anonfun$margin$1$adapted(LogisticRegression.scala:1150)\r\n\tat org.apache.spark.ml.classification.LogisticRegressionModel.predictRaw(LogisticRegression.scala:1241)\r\n\tat org.apache.spark.ml.classification.LogisticRegressionModel.predictRaw(LogisticRegression.scala:1060)\r\n\tat org.apache.spark.ml.classification.ProbabilisticClassificationModel.$anonfun$transform$2(ProbabilisticClassifier.scala:121)\r\n\t... 19 more\r\n"
     ]
    },
    {
     "ename": "Py4JJavaError",
     "evalue": "An error occurred while calling o853.getRowsToPython.\n: org.apache.spark.SparkException: Job aborted due to stage failure: Task 2 in stage 61.0 failed 1 times, most recent failure: Lost task 2.0 in stage 61.0 (TID 211) (DESKTOP-IF968BA executor driver): org.apache.spark.SparkException: [FAILED_EXECUTE_UDF] Failed to execute user defined function (ProbabilisticClassificationModel$$Lambda$4438/843094173: (struct<type:tinyint,size:int,indices:array<int>,values:array<double>>) => struct<type:tinyint,size:int,indices:array<int>,values:array<double>>).\r\n\tat org.apache.spark.sql.errors.QueryExecutionErrors$.failedExecuteUserDefinedFunctionError(QueryExecutionErrors.scala:217)\r\n\tat org.apache.spark.sql.errors.QueryExecutionErrors.failedExecuteUserDefinedFunctionError(QueryExecutionErrors.scala)\r\n\tat org.apache.spark.sql.catalyst.expressions.GeneratedClass$GeneratedIteratorForCodegenStage1.project_doConsume_0$(Unknown Source)\r\n\tat org.apache.spark.sql.catalyst.expressions.GeneratedClass$GeneratedIteratorForCodegenStage1.processNext(Unknown Source)\r\n\tat org.apache.spark.sql.execution.BufferedRowIterator.hasNext(BufferedRowIterator.java:43)\r\n\tat org.apache.spark.sql.execution.WholeStageCodegenExec$$anon$1.hasNext(WholeStageCodegenExec.scala:760)\r\n\tat org.apache.spark.sql.execution.SparkPlan.$anonfun$getByteArrayRdd$1(SparkPlan.scala:388)\r\n\tat org.apache.spark.rdd.RDD.$anonfun$mapPartitionsInternal$2(RDD.scala:888)\r\n\tat org.apache.spark.rdd.RDD.$anonfun$mapPartitionsInternal$2$adapted(RDD.scala:888)\r\n\tat org.apache.spark.rdd.MapPartitionsRDD.compute(MapPartitionsRDD.scala:52)\r\n\tat org.apache.spark.rdd.RDD.computeOrReadCheckpoint(RDD.scala:364)\r\n\tat org.apache.spark.rdd.RDD.iterator(RDD.scala:328)\r\n\tat org.apache.spark.scheduler.ResultTask.runTask(ResultTask.scala:92)\r\n\tat org.apache.spark.TaskContext.runTaskWithListeners(TaskContext.scala:161)\r\n\tat org.apache.spark.scheduler.Task.run(Task.scala:139)\r\n\tat org.apache.spark.executor.Executor$TaskRunner.$anonfun$run$3(Executor.scala:554)\r\n\tat org.apache.spark.util.Utils$.tryWithSafeFinally(Utils.scala:1529)\r\n\tat org.apache.spark.executor.Executor$TaskRunner.run(Executor.scala:557)\r\n\tat java.util.concurrent.ThreadPoolExecutor.runWorker(Unknown Source)\r\n\tat java.util.concurrent.ThreadPoolExecutor$Worker.run(Unknown Source)\r\n\tat java.lang.Thread.run(Unknown Source)\r\nCaused by: java.lang.IllegalArgumentException: requirement failed: BLAS.dot(x: Vector, y:Vector) was given Vectors with non-matching sizes: x.size = 4, y.size = 21\r\n\tat scala.Predef$.require(Predef.scala:281)\r\n\tat org.apache.spark.ml.linalg.BLAS$.dot(BLAS.scala:123)\r\n\tat org.apache.spark.ml.classification.LogisticRegressionModel.$anonfun$margin$1(LogisticRegression.scala:1151)\r\n\tat org.apache.spark.ml.classification.LogisticRegressionModel.$anonfun$margin$1$adapted(LogisticRegression.scala:1150)\r\n\tat org.apache.spark.ml.classification.LogisticRegressionModel.predictRaw(LogisticRegression.scala:1241)\r\n\tat org.apache.spark.ml.classification.LogisticRegressionModel.predictRaw(LogisticRegression.scala:1060)\r\n\tat org.apache.spark.ml.classification.ProbabilisticClassificationModel.$anonfun$transform$2(ProbabilisticClassifier.scala:121)\r\n\t... 19 more\r\n\nDriver stacktrace:\r\n\tat org.apache.spark.scheduler.DAGScheduler.failJobAndIndependentStages(DAGScheduler.scala:2785)\r\n\tat org.apache.spark.scheduler.DAGScheduler.$anonfun$abortStage$2(DAGScheduler.scala:2721)\r\n\tat org.apache.spark.scheduler.DAGScheduler.$anonfun$abortStage$2$adapted(DAGScheduler.scala:2720)\r\n\tat scala.collection.mutable.ResizableArray.foreach(ResizableArray.scala:62)\r\n\tat scala.collection.mutable.ResizableArray.foreach$(ResizableArray.scala:55)\r\n\tat scala.collection.mutable.ArrayBuffer.foreach(ArrayBuffer.scala:49)\r\n\tat org.apache.spark.scheduler.DAGScheduler.abortStage(DAGScheduler.scala:2720)\r\n\tat org.apache.spark.scheduler.DAGScheduler.$anonfun$handleTaskSetFailed$1(DAGScheduler.scala:1206)\r\n\tat org.apache.spark.scheduler.DAGScheduler.$anonfun$handleTaskSetFailed$1$adapted(DAGScheduler.scala:1206)\r\n\tat scala.Option.foreach(Option.scala:407)\r\n\tat org.apache.spark.scheduler.DAGScheduler.handleTaskSetFailed(DAGScheduler.scala:1206)\r\n\tat org.apache.spark.scheduler.DAGSchedulerEventProcessLoop.doOnReceive(DAGScheduler.scala:2984)\r\n\tat org.apache.spark.scheduler.DAGSchedulerEventProcessLoop.onReceive(DAGScheduler.scala:2923)\r\n\tat org.apache.spark.scheduler.DAGSchedulerEventProcessLoop.onReceive(DAGScheduler.scala:2912)\r\n\tat org.apache.spark.util.EventLoop$$anon$1.run(EventLoop.scala:49)\r\n\tat org.apache.spark.scheduler.DAGScheduler.runJob(DAGScheduler.scala:971)\r\n\tat org.apache.spark.SparkContext.runJob(SparkContext.scala:2263)\r\n\tat org.apache.spark.SparkContext.runJob(SparkContext.scala:2284)\r\n\tat org.apache.spark.SparkContext.runJob(SparkContext.scala:2303)\r\n\tat org.apache.spark.sql.execution.SparkPlan.executeTake(SparkPlan.scala:530)\r\n\tat org.apache.spark.sql.execution.SparkPlan.executeTake(SparkPlan.scala:483)\r\n\tat org.apache.spark.sql.execution.CollectLimitExec.executeCollect(limit.scala:61)\r\n\tat org.apache.spark.sql.Dataset.collectFromPlan(Dataset.scala:4177)\r\n\tat org.apache.spark.sql.Dataset.$anonfun$head$1(Dataset.scala:3161)\r\n\tat org.apache.spark.sql.Dataset.$anonfun$withAction$2(Dataset.scala:4167)\r\n\tat org.apache.spark.sql.execution.QueryExecution$.withInternalError(QueryExecution.scala:526)\r\n\tat org.apache.spark.sql.Dataset.$anonfun$withAction$1(Dataset.scala:4165)\r\n\tat org.apache.spark.sql.execution.SQLExecution$.$anonfun$withNewExecutionId$6(SQLExecution.scala:118)\r\n\tat org.apache.spark.sql.execution.SQLExecution$.withSQLConfPropagated(SQLExecution.scala:195)\r\n\tat org.apache.spark.sql.execution.SQLExecution$.$anonfun$withNewExecutionId$1(SQLExecution.scala:103)\r\n\tat org.apache.spark.sql.SparkSession.withActive(SparkSession.scala:827)\r\n\tat org.apache.spark.sql.execution.SQLExecution$.withNewExecutionId(SQLExecution.scala:65)\r\n\tat org.apache.spark.sql.Dataset.withAction(Dataset.scala:4165)\r\n\tat org.apache.spark.sql.Dataset.head(Dataset.scala:3161)\r\n\tat org.apache.spark.sql.Dataset.take(Dataset.scala:3382)\r\n\tat org.apache.spark.sql.Dataset.getRows(Dataset.scala:284)\r\n\tat org.apache.spark.sql.Dataset.getRowsToPython(Dataset.scala:4017)\r\n\tat sun.reflect.NativeMethodAccessorImpl.invoke0(Native Method)\r\n\tat sun.reflect.NativeMethodAccessorImpl.invoke(Unknown Source)\r\n\tat sun.reflect.DelegatingMethodAccessorImpl.invoke(Unknown Source)\r\n\tat java.lang.reflect.Method.invoke(Unknown Source)\r\n\tat py4j.reflection.MethodInvoker.invoke(MethodInvoker.java:244)\r\n\tat py4j.reflection.ReflectionEngine.invoke(ReflectionEngine.java:374)\r\n\tat py4j.Gateway.invoke(Gateway.java:282)\r\n\tat py4j.commands.AbstractCommand.invokeMethod(AbstractCommand.java:132)\r\n\tat py4j.commands.CallCommand.execute(CallCommand.java:79)\r\n\tat py4j.ClientServerConnection.waitForCommands(ClientServerConnection.java:182)\r\n\tat py4j.ClientServerConnection.run(ClientServerConnection.java:106)\r\n\tat java.lang.Thread.run(Unknown Source)\r\nCaused by: org.apache.spark.SparkException: [FAILED_EXECUTE_UDF] Failed to execute user defined function (ProbabilisticClassificationModel$$Lambda$4438/843094173: (struct<type:tinyint,size:int,indices:array<int>,values:array<double>>) => struct<type:tinyint,size:int,indices:array<int>,values:array<double>>).\r\n\tat org.apache.spark.sql.errors.QueryExecutionErrors$.failedExecuteUserDefinedFunctionError(QueryExecutionErrors.scala:217)\r\n\tat org.apache.spark.sql.errors.QueryExecutionErrors.failedExecuteUserDefinedFunctionError(QueryExecutionErrors.scala)\r\n\tat org.apache.spark.sql.catalyst.expressions.GeneratedClass$GeneratedIteratorForCodegenStage1.project_doConsume_0$(Unknown Source)\r\n\tat org.apache.spark.sql.catalyst.expressions.GeneratedClass$GeneratedIteratorForCodegenStage1.processNext(Unknown Source)\r\n\tat org.apache.spark.sql.execution.BufferedRowIterator.hasNext(BufferedRowIterator.java:43)\r\n\tat org.apache.spark.sql.execution.WholeStageCodegenExec$$anon$1.hasNext(WholeStageCodegenExec.scala:760)\r\n\tat org.apache.spark.sql.execution.SparkPlan.$anonfun$getByteArrayRdd$1(SparkPlan.scala:388)\r\n\tat org.apache.spark.rdd.RDD.$anonfun$mapPartitionsInternal$2(RDD.scala:888)\r\n\tat org.apache.spark.rdd.RDD.$anonfun$mapPartitionsInternal$2$adapted(RDD.scala:888)\r\n\tat org.apache.spark.rdd.MapPartitionsRDD.compute(MapPartitionsRDD.scala:52)\r\n\tat org.apache.spark.rdd.RDD.computeOrReadCheckpoint(RDD.scala:364)\r\n\tat org.apache.spark.rdd.RDD.iterator(RDD.scala:328)\r\n\tat org.apache.spark.scheduler.ResultTask.runTask(ResultTask.scala:92)\r\n\tat org.apache.spark.TaskContext.runTaskWithListeners(TaskContext.scala:161)\r\n\tat org.apache.spark.scheduler.Task.run(Task.scala:139)\r\n\tat org.apache.spark.executor.Executor$TaskRunner.$anonfun$run$3(Executor.scala:554)\r\n\tat org.apache.spark.util.Utils$.tryWithSafeFinally(Utils.scala:1529)\r\n\tat org.apache.spark.executor.Executor$TaskRunner.run(Executor.scala:557)\r\n\tat java.util.concurrent.ThreadPoolExecutor.runWorker(Unknown Source)\r\n\tat java.util.concurrent.ThreadPoolExecutor$Worker.run(Unknown Source)\r\n\t... 1 more\r\nCaused by: java.lang.IllegalArgumentException: requirement failed: BLAS.dot(x: Vector, y:Vector) was given Vectors with non-matching sizes: x.size = 4, y.size = 21\r\n\tat scala.Predef$.require(Predef.scala:281)\r\n\tat org.apache.spark.ml.linalg.BLAS$.dot(BLAS.scala:123)\r\n\tat org.apache.spark.ml.classification.LogisticRegressionModel.$anonfun$margin$1(LogisticRegression.scala:1151)\r\n\tat org.apache.spark.ml.classification.LogisticRegressionModel.$anonfun$margin$1$adapted(LogisticRegression.scala:1150)\r\n\tat org.apache.spark.ml.classification.LogisticRegressionModel.predictRaw(LogisticRegression.scala:1241)\r\n\tat org.apache.spark.ml.classification.LogisticRegressionModel.predictRaw(LogisticRegression.scala:1060)\r\n\tat org.apache.spark.ml.classification.ProbabilisticClassificationModel.$anonfun$transform$2(ProbabilisticClassifier.scala:121)\r\n\t... 19 more\r\n",
     "output_type": "error",
     "traceback": [
      "\u001b[1;31m---------------------------------------------------------------------------\u001b[0m",
      "\u001b[1;31mPy4JJavaError\u001b[0m                             Traceback (most recent call last)",
      "File \u001b[1;32mC:\\ProgramData\\anaconda3\\lib\\site-packages\\IPython\\core\\formatters.py:342\u001b[0m, in \u001b[0;36mBaseFormatter.__call__\u001b[1;34m(self, obj)\u001b[0m\n\u001b[0;32m    340\u001b[0m     method \u001b[38;5;241m=\u001b[39m get_real_method(obj, \u001b[38;5;28mself\u001b[39m\u001b[38;5;241m.\u001b[39mprint_method)\n\u001b[0;32m    341\u001b[0m     \u001b[38;5;28;01mif\u001b[39;00m method \u001b[38;5;129;01mis\u001b[39;00m \u001b[38;5;129;01mnot\u001b[39;00m \u001b[38;5;28;01mNone\u001b[39;00m:\n\u001b[1;32m--> 342\u001b[0m         \u001b[38;5;28;01mreturn\u001b[39;00m \u001b[43mmethod\u001b[49m\u001b[43m(\u001b[49m\u001b[43m)\u001b[49m\n\u001b[0;32m    343\u001b[0m     \u001b[38;5;28;01mreturn\u001b[39;00m \u001b[38;5;28;01mNone\u001b[39;00m\n\u001b[0;32m    344\u001b[0m \u001b[38;5;28;01melse\u001b[39;00m:\n",
      "File \u001b[1;32m~\\AppData\\Roaming\\Python\\Python310\\site-packages\\pyspark\\sql\\dataframe.py:934\u001b[0m, in \u001b[0;36mDataFrame._repr_html_\u001b[1;34m(self)\u001b[0m\n\u001b[0;32m    932\u001b[0m \u001b[38;5;28;01mif\u001b[39;00m \u001b[38;5;28mself\u001b[39m\u001b[38;5;241m.\u001b[39msparkSession\u001b[38;5;241m.\u001b[39m_jconf\u001b[38;5;241m.\u001b[39misReplEagerEvalEnabled():\n\u001b[0;32m    933\u001b[0m     max_num_rows \u001b[38;5;241m=\u001b[39m \u001b[38;5;28mmax\u001b[39m(\u001b[38;5;28mself\u001b[39m\u001b[38;5;241m.\u001b[39msparkSession\u001b[38;5;241m.\u001b[39m_jconf\u001b[38;5;241m.\u001b[39mreplEagerEvalMaxNumRows(), \u001b[38;5;241m0\u001b[39m)\n\u001b[1;32m--> 934\u001b[0m     sock_info \u001b[38;5;241m=\u001b[39m \u001b[38;5;28;43mself\u001b[39;49m\u001b[38;5;241;43m.\u001b[39;49m\u001b[43m_jdf\u001b[49m\u001b[38;5;241;43m.\u001b[39;49m\u001b[43mgetRowsToPython\u001b[49m\u001b[43m(\u001b[49m\n\u001b[0;32m    935\u001b[0m \u001b[43m        \u001b[49m\u001b[43mmax_num_rows\u001b[49m\u001b[43m,\u001b[49m\n\u001b[0;32m    936\u001b[0m \u001b[43m        \u001b[49m\u001b[38;5;28;43mself\u001b[39;49m\u001b[38;5;241;43m.\u001b[39;49m\u001b[43msparkSession\u001b[49m\u001b[38;5;241;43m.\u001b[39;49m\u001b[43m_jconf\u001b[49m\u001b[38;5;241;43m.\u001b[39;49m\u001b[43mreplEagerEvalTruncate\u001b[49m\u001b[43m(\u001b[49m\u001b[43m)\u001b[49m\u001b[43m,\u001b[49m\n\u001b[0;32m    937\u001b[0m \u001b[43m    \u001b[49m\u001b[43m)\u001b[49m\n\u001b[0;32m    938\u001b[0m     rows \u001b[38;5;241m=\u001b[39m \u001b[38;5;28mlist\u001b[39m(_load_from_socket(sock_info, BatchedSerializer(CPickleSerializer())))\n\u001b[0;32m    939\u001b[0m     head \u001b[38;5;241m=\u001b[39m rows[\u001b[38;5;241m0\u001b[39m]\n",
      "File \u001b[1;32m~\\AppData\\Roaming\\Python\\Python310\\site-packages\\py4j\\java_gateway.py:1322\u001b[0m, in \u001b[0;36mJavaMember.__call__\u001b[1;34m(self, *args)\u001b[0m\n\u001b[0;32m   1316\u001b[0m command \u001b[38;5;241m=\u001b[39m proto\u001b[38;5;241m.\u001b[39mCALL_COMMAND_NAME \u001b[38;5;241m+\u001b[39m\\\n\u001b[0;32m   1317\u001b[0m     \u001b[38;5;28mself\u001b[39m\u001b[38;5;241m.\u001b[39mcommand_header \u001b[38;5;241m+\u001b[39m\\\n\u001b[0;32m   1318\u001b[0m     args_command \u001b[38;5;241m+\u001b[39m\\\n\u001b[0;32m   1319\u001b[0m     proto\u001b[38;5;241m.\u001b[39mEND_COMMAND_PART\n\u001b[0;32m   1321\u001b[0m answer \u001b[38;5;241m=\u001b[39m \u001b[38;5;28mself\u001b[39m\u001b[38;5;241m.\u001b[39mgateway_client\u001b[38;5;241m.\u001b[39msend_command(command)\n\u001b[1;32m-> 1322\u001b[0m return_value \u001b[38;5;241m=\u001b[39m \u001b[43mget_return_value\u001b[49m\u001b[43m(\u001b[49m\n\u001b[0;32m   1323\u001b[0m \u001b[43m    \u001b[49m\u001b[43manswer\u001b[49m\u001b[43m,\u001b[49m\u001b[43m \u001b[49m\u001b[38;5;28;43mself\u001b[39;49m\u001b[38;5;241;43m.\u001b[39;49m\u001b[43mgateway_client\u001b[49m\u001b[43m,\u001b[49m\u001b[43m \u001b[49m\u001b[38;5;28;43mself\u001b[39;49m\u001b[38;5;241;43m.\u001b[39;49m\u001b[43mtarget_id\u001b[49m\u001b[43m,\u001b[49m\u001b[43m \u001b[49m\u001b[38;5;28;43mself\u001b[39;49m\u001b[38;5;241;43m.\u001b[39;49m\u001b[43mname\u001b[49m\u001b[43m)\u001b[49m\n\u001b[0;32m   1325\u001b[0m \u001b[38;5;28;01mfor\u001b[39;00m temp_arg \u001b[38;5;129;01min\u001b[39;00m temp_args:\n\u001b[0;32m   1326\u001b[0m     \u001b[38;5;28;01mif\u001b[39;00m \u001b[38;5;28mhasattr\u001b[39m(temp_arg, \u001b[38;5;124m\"\u001b[39m\u001b[38;5;124m_detach\u001b[39m\u001b[38;5;124m\"\u001b[39m):\n",
      "File \u001b[1;32m~\\AppData\\Roaming\\Python\\Python310\\site-packages\\pyspark\\errors\\exceptions\\captured.py:169\u001b[0m, in \u001b[0;36mcapture_sql_exception.<locals>.deco\u001b[1;34m(*a, **kw)\u001b[0m\n\u001b[0;32m    167\u001b[0m \u001b[38;5;28;01mdef\u001b[39;00m \u001b[38;5;21mdeco\u001b[39m(\u001b[38;5;241m*\u001b[39ma: Any, \u001b[38;5;241m*\u001b[39m\u001b[38;5;241m*\u001b[39mkw: Any) \u001b[38;5;241m-\u001b[39m\u001b[38;5;241m>\u001b[39m Any:\n\u001b[0;32m    168\u001b[0m     \u001b[38;5;28;01mtry\u001b[39;00m:\n\u001b[1;32m--> 169\u001b[0m         \u001b[38;5;28;01mreturn\u001b[39;00m f(\u001b[38;5;241m*\u001b[39ma, \u001b[38;5;241m*\u001b[39m\u001b[38;5;241m*\u001b[39mkw)\n\u001b[0;32m    170\u001b[0m     \u001b[38;5;28;01mexcept\u001b[39;00m Py4JJavaError \u001b[38;5;28;01mas\u001b[39;00m e:\n\u001b[0;32m    171\u001b[0m         converted \u001b[38;5;241m=\u001b[39m convert_exception(e\u001b[38;5;241m.\u001b[39mjava_exception)\n",
      "File \u001b[1;32m~\\AppData\\Roaming\\Python\\Python310\\site-packages\\py4j\\protocol.py:326\u001b[0m, in \u001b[0;36mget_return_value\u001b[1;34m(answer, gateway_client, target_id, name)\u001b[0m\n\u001b[0;32m    324\u001b[0m value \u001b[38;5;241m=\u001b[39m OUTPUT_CONVERTER[\u001b[38;5;28mtype\u001b[39m](answer[\u001b[38;5;241m2\u001b[39m:], gateway_client)\n\u001b[0;32m    325\u001b[0m \u001b[38;5;28;01mif\u001b[39;00m answer[\u001b[38;5;241m1\u001b[39m] \u001b[38;5;241m==\u001b[39m REFERENCE_TYPE:\n\u001b[1;32m--> 326\u001b[0m     \u001b[38;5;28;01mraise\u001b[39;00m Py4JJavaError(\n\u001b[0;32m    327\u001b[0m         \u001b[38;5;124m\"\u001b[39m\u001b[38;5;124mAn error occurred while calling \u001b[39m\u001b[38;5;132;01m{0}\u001b[39;00m\u001b[38;5;132;01m{1}\u001b[39;00m\u001b[38;5;132;01m{2}\u001b[39;00m\u001b[38;5;124m.\u001b[39m\u001b[38;5;130;01m\\n\u001b[39;00m\u001b[38;5;124m\"\u001b[39m\u001b[38;5;241m.\u001b[39m\n\u001b[0;32m    328\u001b[0m         \u001b[38;5;28mformat\u001b[39m(target_id, \u001b[38;5;124m\"\u001b[39m\u001b[38;5;124m.\u001b[39m\u001b[38;5;124m\"\u001b[39m, name), value)\n\u001b[0;32m    329\u001b[0m \u001b[38;5;28;01melse\u001b[39;00m:\n\u001b[0;32m    330\u001b[0m     \u001b[38;5;28;01mraise\u001b[39;00m Py4JError(\n\u001b[0;32m    331\u001b[0m         \u001b[38;5;124m\"\u001b[39m\u001b[38;5;124mAn error occurred while calling \u001b[39m\u001b[38;5;132;01m{0}\u001b[39;00m\u001b[38;5;132;01m{1}\u001b[39;00m\u001b[38;5;132;01m{2}\u001b[39;00m\u001b[38;5;124m. Trace:\u001b[39m\u001b[38;5;130;01m\\n\u001b[39;00m\u001b[38;5;132;01m{3}\u001b[39;00m\u001b[38;5;130;01m\\n\u001b[39;00m\u001b[38;5;124m\"\u001b[39m\u001b[38;5;241m.\u001b[39m\n\u001b[0;32m    332\u001b[0m         \u001b[38;5;28mformat\u001b[39m(target_id, \u001b[38;5;124m\"\u001b[39m\u001b[38;5;124m.\u001b[39m\u001b[38;5;124m\"\u001b[39m, name, value))\n",
      "\u001b[1;31mPy4JJavaError\u001b[0m: An error occurred while calling o853.getRowsToPython.\n: org.apache.spark.SparkException: Job aborted due to stage failure: Task 2 in stage 61.0 failed 1 times, most recent failure: Lost task 2.0 in stage 61.0 (TID 211) (DESKTOP-IF968BA executor driver): org.apache.spark.SparkException: [FAILED_EXECUTE_UDF] Failed to execute user defined function (ProbabilisticClassificationModel$$Lambda$4438/843094173: (struct<type:tinyint,size:int,indices:array<int>,values:array<double>>) => struct<type:tinyint,size:int,indices:array<int>,values:array<double>>).\r\n\tat org.apache.spark.sql.errors.QueryExecutionErrors$.failedExecuteUserDefinedFunctionError(QueryExecutionErrors.scala:217)\r\n\tat org.apache.spark.sql.errors.QueryExecutionErrors.failedExecuteUserDefinedFunctionError(QueryExecutionErrors.scala)\r\n\tat org.apache.spark.sql.catalyst.expressions.GeneratedClass$GeneratedIteratorForCodegenStage1.project_doConsume_0$(Unknown Source)\r\n\tat org.apache.spark.sql.catalyst.expressions.GeneratedClass$GeneratedIteratorForCodegenStage1.processNext(Unknown Source)\r\n\tat org.apache.spark.sql.execution.BufferedRowIterator.hasNext(BufferedRowIterator.java:43)\r\n\tat org.apache.spark.sql.execution.WholeStageCodegenExec$$anon$1.hasNext(WholeStageCodegenExec.scala:760)\r\n\tat org.apache.spark.sql.execution.SparkPlan.$anonfun$getByteArrayRdd$1(SparkPlan.scala:388)\r\n\tat org.apache.spark.rdd.RDD.$anonfun$mapPartitionsInternal$2(RDD.scala:888)\r\n\tat org.apache.spark.rdd.RDD.$anonfun$mapPartitionsInternal$2$adapted(RDD.scala:888)\r\n\tat org.apache.spark.rdd.MapPartitionsRDD.compute(MapPartitionsRDD.scala:52)\r\n\tat org.apache.spark.rdd.RDD.computeOrReadCheckpoint(RDD.scala:364)\r\n\tat org.apache.spark.rdd.RDD.iterator(RDD.scala:328)\r\n\tat org.apache.spark.scheduler.ResultTask.runTask(ResultTask.scala:92)\r\n\tat org.apache.spark.TaskContext.runTaskWithListeners(TaskContext.scala:161)\r\n\tat org.apache.spark.scheduler.Task.run(Task.scala:139)\r\n\tat org.apache.spark.executor.Executor$TaskRunner.$anonfun$run$3(Executor.scala:554)\r\n\tat org.apache.spark.util.Utils$.tryWithSafeFinally(Utils.scala:1529)\r\n\tat org.apache.spark.executor.Executor$TaskRunner.run(Executor.scala:557)\r\n\tat java.util.concurrent.ThreadPoolExecutor.runWorker(Unknown Source)\r\n\tat java.util.concurrent.ThreadPoolExecutor$Worker.run(Unknown Source)\r\n\tat java.lang.Thread.run(Unknown Source)\r\nCaused by: java.lang.IllegalArgumentException: requirement failed: BLAS.dot(x: Vector, y:Vector) was given Vectors with non-matching sizes: x.size = 4, y.size = 21\r\n\tat scala.Predef$.require(Predef.scala:281)\r\n\tat org.apache.spark.ml.linalg.BLAS$.dot(BLAS.scala:123)\r\n\tat org.apache.spark.ml.classification.LogisticRegressionModel.$anonfun$margin$1(LogisticRegression.scala:1151)\r\n\tat org.apache.spark.ml.classification.LogisticRegressionModel.$anonfun$margin$1$adapted(LogisticRegression.scala:1150)\r\n\tat org.apache.spark.ml.classification.LogisticRegressionModel.predictRaw(LogisticRegression.scala:1241)\r\n\tat org.apache.spark.ml.classification.LogisticRegressionModel.predictRaw(LogisticRegression.scala:1060)\r\n\tat org.apache.spark.ml.classification.ProbabilisticClassificationModel.$anonfun$transform$2(ProbabilisticClassifier.scala:121)\r\n\t... 19 more\r\n\nDriver stacktrace:\r\n\tat org.apache.spark.scheduler.DAGScheduler.failJobAndIndependentStages(DAGScheduler.scala:2785)\r\n\tat org.apache.spark.scheduler.DAGScheduler.$anonfun$abortStage$2(DAGScheduler.scala:2721)\r\n\tat org.apache.spark.scheduler.DAGScheduler.$anonfun$abortStage$2$adapted(DAGScheduler.scala:2720)\r\n\tat scala.collection.mutable.ResizableArray.foreach(ResizableArray.scala:62)\r\n\tat scala.collection.mutable.ResizableArray.foreach$(ResizableArray.scala:55)\r\n\tat scala.collection.mutable.ArrayBuffer.foreach(ArrayBuffer.scala:49)\r\n\tat org.apache.spark.scheduler.DAGScheduler.abortStage(DAGScheduler.scala:2720)\r\n\tat org.apache.spark.scheduler.DAGScheduler.$anonfun$handleTaskSetFailed$1(DAGScheduler.scala:1206)\r\n\tat org.apache.spark.scheduler.DAGScheduler.$anonfun$handleTaskSetFailed$1$adapted(DAGScheduler.scala:1206)\r\n\tat scala.Option.foreach(Option.scala:407)\r\n\tat org.apache.spark.scheduler.DAGScheduler.handleTaskSetFailed(DAGScheduler.scala:1206)\r\n\tat org.apache.spark.scheduler.DAGSchedulerEventProcessLoop.doOnReceive(DAGScheduler.scala:2984)\r\n\tat org.apache.spark.scheduler.DAGSchedulerEventProcessLoop.onReceive(DAGScheduler.scala:2923)\r\n\tat org.apache.spark.scheduler.DAGSchedulerEventProcessLoop.onReceive(DAGScheduler.scala:2912)\r\n\tat org.apache.spark.util.EventLoop$$anon$1.run(EventLoop.scala:49)\r\n\tat org.apache.spark.scheduler.DAGScheduler.runJob(DAGScheduler.scala:971)\r\n\tat org.apache.spark.SparkContext.runJob(SparkContext.scala:2263)\r\n\tat org.apache.spark.SparkContext.runJob(SparkContext.scala:2284)\r\n\tat org.apache.spark.SparkContext.runJob(SparkContext.scala:2303)\r\n\tat org.apache.spark.sql.execution.SparkPlan.executeTake(SparkPlan.scala:530)\r\n\tat org.apache.spark.sql.execution.SparkPlan.executeTake(SparkPlan.scala:483)\r\n\tat org.apache.spark.sql.execution.CollectLimitExec.executeCollect(limit.scala:61)\r\n\tat org.apache.spark.sql.Dataset.collectFromPlan(Dataset.scala:4177)\r\n\tat org.apache.spark.sql.Dataset.$anonfun$head$1(Dataset.scala:3161)\r\n\tat org.apache.spark.sql.Dataset.$anonfun$withAction$2(Dataset.scala:4167)\r\n\tat org.apache.spark.sql.execution.QueryExecution$.withInternalError(QueryExecution.scala:526)\r\n\tat org.apache.spark.sql.Dataset.$anonfun$withAction$1(Dataset.scala:4165)\r\n\tat org.apache.spark.sql.execution.SQLExecution$.$anonfun$withNewExecutionId$6(SQLExecution.scala:118)\r\n\tat org.apache.spark.sql.execution.SQLExecution$.withSQLConfPropagated(SQLExecution.scala:195)\r\n\tat org.apache.spark.sql.execution.SQLExecution$.$anonfun$withNewExecutionId$1(SQLExecution.scala:103)\r\n\tat org.apache.spark.sql.SparkSession.withActive(SparkSession.scala:827)\r\n\tat org.apache.spark.sql.execution.SQLExecution$.withNewExecutionId(SQLExecution.scala:65)\r\n\tat org.apache.spark.sql.Dataset.withAction(Dataset.scala:4165)\r\n\tat org.apache.spark.sql.Dataset.head(Dataset.scala:3161)\r\n\tat org.apache.spark.sql.Dataset.take(Dataset.scala:3382)\r\n\tat org.apache.spark.sql.Dataset.getRows(Dataset.scala:284)\r\n\tat org.apache.spark.sql.Dataset.getRowsToPython(Dataset.scala:4017)\r\n\tat sun.reflect.NativeMethodAccessorImpl.invoke0(Native Method)\r\n\tat sun.reflect.NativeMethodAccessorImpl.invoke(Unknown Source)\r\n\tat sun.reflect.DelegatingMethodAccessorImpl.invoke(Unknown Source)\r\n\tat java.lang.reflect.Method.invoke(Unknown Source)\r\n\tat py4j.reflection.MethodInvoker.invoke(MethodInvoker.java:244)\r\n\tat py4j.reflection.ReflectionEngine.invoke(ReflectionEngine.java:374)\r\n\tat py4j.Gateway.invoke(Gateway.java:282)\r\n\tat py4j.commands.AbstractCommand.invokeMethod(AbstractCommand.java:132)\r\n\tat py4j.commands.CallCommand.execute(CallCommand.java:79)\r\n\tat py4j.ClientServerConnection.waitForCommands(ClientServerConnection.java:182)\r\n\tat py4j.ClientServerConnection.run(ClientServerConnection.java:106)\r\n\tat java.lang.Thread.run(Unknown Source)\r\nCaused by: org.apache.spark.SparkException: [FAILED_EXECUTE_UDF] Failed to execute user defined function (ProbabilisticClassificationModel$$Lambda$4438/843094173: (struct<type:tinyint,size:int,indices:array<int>,values:array<double>>) => struct<type:tinyint,size:int,indices:array<int>,values:array<double>>).\r\n\tat org.apache.spark.sql.errors.QueryExecutionErrors$.failedExecuteUserDefinedFunctionError(QueryExecutionErrors.scala:217)\r\n\tat org.apache.spark.sql.errors.QueryExecutionErrors.failedExecuteUserDefinedFunctionError(QueryExecutionErrors.scala)\r\n\tat org.apache.spark.sql.catalyst.expressions.GeneratedClass$GeneratedIteratorForCodegenStage1.project_doConsume_0$(Unknown Source)\r\n\tat org.apache.spark.sql.catalyst.expressions.GeneratedClass$GeneratedIteratorForCodegenStage1.processNext(Unknown Source)\r\n\tat org.apache.spark.sql.execution.BufferedRowIterator.hasNext(BufferedRowIterator.java:43)\r\n\tat org.apache.spark.sql.execution.WholeStageCodegenExec$$anon$1.hasNext(WholeStageCodegenExec.scala:760)\r\n\tat org.apache.spark.sql.execution.SparkPlan.$anonfun$getByteArrayRdd$1(SparkPlan.scala:388)\r\n\tat org.apache.spark.rdd.RDD.$anonfun$mapPartitionsInternal$2(RDD.scala:888)\r\n\tat org.apache.spark.rdd.RDD.$anonfun$mapPartitionsInternal$2$adapted(RDD.scala:888)\r\n\tat org.apache.spark.rdd.MapPartitionsRDD.compute(MapPartitionsRDD.scala:52)\r\n\tat org.apache.spark.rdd.RDD.computeOrReadCheckpoint(RDD.scala:364)\r\n\tat org.apache.spark.rdd.RDD.iterator(RDD.scala:328)\r\n\tat org.apache.spark.scheduler.ResultTask.runTask(ResultTask.scala:92)\r\n\tat org.apache.spark.TaskContext.runTaskWithListeners(TaskContext.scala:161)\r\n\tat org.apache.spark.scheduler.Task.run(Task.scala:139)\r\n\tat org.apache.spark.executor.Executor$TaskRunner.$anonfun$run$3(Executor.scala:554)\r\n\tat org.apache.spark.util.Utils$.tryWithSafeFinally(Utils.scala:1529)\r\n\tat org.apache.spark.executor.Executor$TaskRunner.run(Executor.scala:557)\r\n\tat java.util.concurrent.ThreadPoolExecutor.runWorker(Unknown Source)\r\n\tat java.util.concurrent.ThreadPoolExecutor$Worker.run(Unknown Source)\r\n\t... 1 more\r\nCaused by: java.lang.IllegalArgumentException: requirement failed: BLAS.dot(x: Vector, y:Vector) was given Vectors with non-matching sizes: x.size = 4, y.size = 21\r\n\tat scala.Predef$.require(Predef.scala:281)\r\n\tat org.apache.spark.ml.linalg.BLAS$.dot(BLAS.scala:123)\r\n\tat org.apache.spark.ml.classification.LogisticRegressionModel.$anonfun$margin$1(LogisticRegression.scala:1151)\r\n\tat org.apache.spark.ml.classification.LogisticRegressionModel.$anonfun$margin$1$adapted(LogisticRegression.scala:1150)\r\n\tat org.apache.spark.ml.classification.LogisticRegressionModel.predictRaw(LogisticRegression.scala:1241)\r\n\tat org.apache.spark.ml.classification.LogisticRegressionModel.predictRaw(LogisticRegression.scala:1060)\r\n\tat org.apache.spark.ml.classification.ProbabilisticClassificationModel.$anonfun$transform$2(ProbabilisticClassifier.scala:121)\r\n\t... 19 more\r\n"
     ]
    }
   ],
   "source": [
    "prediction"
   ]
  },
  {
   "cell_type": "markdown",
   "id": "dabd1537",
   "metadata": {},
   "source": [
    "# Armazenando o Banco de Dados em Formato PARQUET\n",
    "\n",
    "Formato consegue atibuir partições de acordo com variável escolhida (partitionBy). Lógica Hadoop"
   ]
  },
  {
   "cell_type": "code",
   "execution_count": 60,
   "id": "c6f9cbd5",
   "metadata": {},
   "outputs": [],
   "source": [
    "#dados_voos_completo.write.parquet('dados_voos_completo.parquet', \n",
    "#                                  mode='overwrite', partitionBy=)"
   ]
  },
  {
   "cell_type": "code",
   "execution_count": 61,
   "id": "225780ea",
   "metadata": {},
   "outputs": [],
   "source": [
    "spark = SparkSession.builder.appName(\"ImportParquet\").getOrCreate()\n",
    "\n",
    "path = r'C:\\Users\\leomu\\OneDrive\\MBA\\Big Data\\python\\dados_voos_completo.parquet'\n",
    "\n",
    "df_parqt = spark.read.format(\"parquet\") \\\n",
    "    .option(\"header\", \"true\") \\\n",
    "    .option(\"inferSchema\", \"true\") \\\n",
    "    .load(path)"
   ]
  },
  {
   "cell_type": "code",
   "execution_count": 62,
   "id": "05a3cd92",
   "metadata": {},
   "outputs": [
    {
     "data": {
      "text/html": [
       "<table border='1'>\n",
       "<tr><th>FL_DATE</th><th>OP_CARRIER</th><th>OP_CARRIER_FL_NUM</th><th>ORIGIN</th><th>DEST</th><th>CRS_DEP_TIME</th><th>DEP_TIME</th><th>DEP_DELAY</th><th>TAXI_OUT</th><th>WHEELS_OFF</th><th>WHEELS_ON</th><th>TAXI_IN</th><th>CRS_ARR_TIME</th><th>ARR_TIME</th><th>ARR_DELAY</th><th>CANCELLED</th><th>CANCELLATION_CODE</th><th>DIVERTED</th><th>CRS_ELAPSED_TIME</th><th>ACTUAL_ELAPSED_TIME</th><th>AIR_TIME</th><th>DISTANCE</th><th>CARRIER_DELAY</th><th>WEATHER_DELAY</th><th>NAS_DELAY</th><th>SECURITY_DELAY</th><th>LATE_AIRCRAFT_DELAY</th><th>ATRASADO</th></tr>\n",
       "<tr><td>2017-05-23</td><td>OO</td><td>4558</td><td>GTF</td><td>SLC</td><td>1745</td><td>1740.0</td><td>-5.0</td><td>10.0</td><td>1750.0</td><td>1854.0</td><td>6.0</td><td>1917</td><td>1900.0</td><td>-17.0</td><td>0.0</td><td>null</td><td>0.0</td><td>92.0</td><td>80.0</td><td>64.0</td><td>463.0</td><td>null</td><td>null</td><td>null</td><td>null</td><td>null</td><td>0</td></tr>\n",
       "<tr><td>2017-05-23</td><td>OO</td><td>4558</td><td>SLC</td><td>GTF</td><td>1540</td><td>1533.0</td><td>-7.0</td><td>14.0</td><td>1547.0</td><td>1656.0</td><td>5.0</td><td>1715</td><td>1701.0</td><td>-14.0</td><td>0.0</td><td>null</td><td>0.0</td><td>95.0</td><td>88.0</td><td>69.0</td><td>463.0</td><td>null</td><td>null</td><td>null</td><td>null</td><td>null</td><td>0</td></tr>\n",
       "<tr><td>2017-05-23</td><td>OO</td><td>4560</td><td>SEA</td><td>DEN</td><td>1900</td><td>2012.0</td><td>72.0</td><td>9.0</td><td>2021.0</td><td>2325.0</td><td>17.0</td><td>2248</td><td>2342.0</td><td>54.0</td><td>0.0</td><td>null</td><td>0.0</td><td>168.0</td><td>150.0</td><td>124.0</td><td>1024.0</td><td>0.0</td><td>0.0</td><td>0.0</td><td>0.0</td><td>54.0</td><td>1</td></tr>\n",
       "<tr><td>2017-05-23</td><td>OO</td><td>4561</td><td>PSC</td><td>SEA</td><td>1700</td><td>1651.0</td><td>-9.0</td><td>13.0</td><td>1704.0</td><td>1740.0</td><td>7.0</td><td>1803</td><td>1747.0</td><td>-16.0</td><td>0.0</td><td>null</td><td>0.0</td><td>63.0</td><td>56.0</td><td>36.0</td><td>172.0</td><td>null</td><td>null</td><td>null</td><td>null</td><td>null</td><td>0</td></tr>\n",
       "<tr><td>2017-05-23</td><td>OO</td><td>4561</td><td>SEA</td><td>PSC</td><td>1515</td><td>1515.0</td><td>0.0</td><td>18.0</td><td>1533.0</td><td>1602.0</td><td>4.0</td><td>1619</td><td>1606.0</td><td>-13.0</td><td>0.0</td><td>null</td><td>0.0</td><td>64.0</td><td>51.0</td><td>29.0</td><td>172.0</td><td>null</td><td>null</td><td>null</td><td>null</td><td>null</td><td>0</td></tr>\n",
       "<tr><td>2017-05-23</td><td>OO</td><td>4562</td><td>DTW</td><td>TVC</td><td>1200</td><td>1157.0</td><td>-3.0</td><td>20.0</td><td>1217.0</td><td>1254.0</td><td>6.0</td><td>1306</td><td>1300.0</td><td>-6.0</td><td>0.0</td><td>null</td><td>0.0</td><td>66.0</td><td>63.0</td><td>37.0</td><td>207.0</td><td>null</td><td>null</td><td>null</td><td>null</td><td>null</td><td>0</td></tr>\n",
       "<tr><td>2017-05-23</td><td>OO</td><td>4562</td><td>TVC</td><td>DTW</td><td>1342</td><td>1332.0</td><td>-10.0</td><td>14.0</td><td>1346.0</td><td>1437.0</td><td>11.0</td><td>1445</td><td>1448.0</td><td>3.0</td><td>0.0</td><td>null</td><td>0.0</td><td>63.0</td><td>76.0</td><td>51.0</td><td>207.0</td><td>null</td><td>null</td><td>null</td><td>null</td><td>null</td><td>0</td></tr>\n",
       "<tr><td>2017-05-23</td><td>OO</td><td>4563</td><td>BIS</td><td>MSP</td><td>1950</td><td>1939.0</td><td>-11.0</td><td>15.0</td><td>1954.0</td><td>2100.0</td><td>7.0</td><td>2116</td><td>2107.0</td><td>-9.0</td><td>0.0</td><td>null</td><td>0.0</td><td>86.0</td><td>88.0</td><td>66.0</td><td>386.0</td><td>null</td><td>null</td><td>null</td><td>null</td><td>null</td><td>0</td></tr>\n",
       "<tr><td>2017-05-23</td><td>OO</td><td>4563</td><td>MSP</td><td>BIS</td><td>1740</td><td>1735.0</td><td>-5.0</td><td>26.0</td><td>1801.0</td><td>1900.0</td><td>4.0</td><td>1920</td><td>1904.0</td><td>-16.0</td><td>0.0</td><td>null</td><td>0.0</td><td>100.0</td><td>89.0</td><td>59.0</td><td>386.0</td><td>null</td><td>null</td><td>null</td><td>null</td><td>null</td><td>0</td></tr>\n",
       "<tr><td>2017-05-23</td><td>OO</td><td>4564</td><td>CHA</td><td>DTW</td><td>1905</td><td>1901.0</td><td>-4.0</td><td>7.0</td><td>1908.0</td><td>2021.0</td><td>10.0</td><td>2059</td><td>2031.0</td><td>-28.0</td><td>0.0</td><td>null</td><td>0.0</td><td>114.0</td><td>90.0</td><td>73.0</td><td>505.0</td><td>null</td><td>null</td><td>null</td><td>null</td><td>null</td><td>0</td></tr>\n",
       "<tr><td>2017-05-23</td><td>OO</td><td>4565</td><td>OKC</td><td>SLC</td><td>1817</td><td>1814.0</td><td>-3.0</td><td>10.0</td><td>1824.0</td><td>1923.0</td><td>4.0</td><td>1945</td><td>1927.0</td><td>-18.0</td><td>0.0</td><td>null</td><td>0.0</td><td>148.0</td><td>133.0</td><td>119.0</td><td>866.0</td><td>null</td><td>null</td><td>null</td><td>null</td><td>null</td><td>0</td></tr>\n",
       "<tr><td>2017-05-23</td><td>OO</td><td>4565</td><td>SLC</td><td>OKC</td><td>1423</td><td>1422.0</td><td>-1.0</td><td>15.0</td><td>1437.0</td><td>1730.0</td><td>6.0</td><td>1740</td><td>1736.0</td><td>-4.0</td><td>0.0</td><td>null</td><td>0.0</td><td>137.0</td><td>134.0</td><td>113.0</td><td>866.0</td><td>null</td><td>null</td><td>null</td><td>null</td><td>null</td><td>0</td></tr>\n",
       "<tr><td>2017-05-23</td><td>OO</td><td>4566</td><td>SLC</td><td>RDM</td><td>2200</td><td>2154.0</td><td>-6.0</td><td>13.0</td><td>2207.0</td><td>2222.0</td><td>3.0</td><td>2231</td><td>2225.0</td><td>-6.0</td><td>0.0</td><td>null</td><td>0.0</td><td>91.0</td><td>91.0</td><td>75.0</td><td>525.0</td><td>null</td><td>null</td><td>null</td><td>null</td><td>null</td><td>0</td></tr>\n",
       "<tr><td>2017-05-23</td><td>OO</td><td>4567</td><td>SEA</td><td>SJC</td><td>1115</td><td>1111.0</td><td>-4.0</td><td>9.0</td><td>1120.0</td><td>1309.0</td><td>5.0</td><td>1339</td><td>1314.0</td><td>-25.0</td><td>0.0</td><td>null</td><td>0.0</td><td>144.0</td><td>123.0</td><td>109.0</td><td>696.0</td><td>null</td><td>null</td><td>null</td><td>null</td><td>null</td><td>0</td></tr>\n",
       "<tr><td>2017-05-23</td><td>OO</td><td>4567</td><td>SJC</td><td>SEA</td><td>1413</td><td>1403.0</td><td>-10.0</td><td>9.0</td><td>1412.0</td><td>1555.0</td><td>5.0</td><td>1629</td><td>1600.0</td><td>-29.0</td><td>0.0</td><td>null</td><td>0.0</td><td>136.0</td><td>117.0</td><td>103.0</td><td>696.0</td><td>null</td><td>null</td><td>null</td><td>null</td><td>null</td><td>0</td></tr>\n",
       "<tr><td>2017-05-23</td><td>OO</td><td>4568</td><td>MSP</td><td>LNK</td><td>2010</td><td>2007.0</td><td>-3.0</td><td>27.0</td><td>2034.0</td><td>2119.0</td><td>4.0</td><td>2139</td><td>2123.0</td><td>-16.0</td><td>0.0</td><td>null</td><td>0.0</td><td>89.0</td><td>76.0</td><td>45.0</td><td>331.0</td><td>null</td><td>null</td><td>null</td><td>null</td><td>null</td><td>0</td></tr>\n",
       "<tr><td>2017-05-23</td><td>OO</td><td>4570</td><td>SBN</td><td>DTW</td><td>1730</td><td>1725.0</td><td>-5.0</td><td>12.0</td><td>1737.0</td><td>1809.0</td><td>8.0</td><td>1836</td><td>1817.0</td><td>-19.0</td><td>0.0</td><td>null</td><td>0.0</td><td>66.0</td><td>52.0</td><td>32.0</td><td>157.0</td><td>null</td><td>null</td><td>null</td><td>null</td><td>null</td><td>0</td></tr>\n",
       "<tr><td>2017-05-23</td><td>OO</td><td>4571</td><td>SFO</td><td>SEA</td><td>1020</td><td>1325.0</td><td>185.0</td><td>35.0</td><td>1400.0</td><td>1536.0</td><td>8.0</td><td>1231</td><td>1544.0</td><td>193.0</td><td>0.0</td><td>null</td><td>0.0</td><td>131.0</td><td>139.0</td><td>96.0</td><td>679.0</td><td>0.0</td><td>0.0</td><td>8.0</td><td>0.0</td><td>185.0</td><td>1</td></tr>\n",
       "<tr><td>2017-05-23</td><td>OO</td><td>4572</td><td>SLC</td><td>FAT</td><td>2030</td><td>2026.0</td><td>-4.0</td><td>25.0</td><td>2051.0</td><td>2058.0</td><td>5.0</td><td>2109</td><td>2103.0</td><td>-6.0</td><td>0.0</td><td>null</td><td>0.0</td><td>99.0</td><td>97.0</td><td>67.0</td><td>501.0</td><td>null</td><td>null</td><td>null</td><td>null</td><td>null</td><td>0</td></tr>\n",
       "<tr><td>2017-05-23</td><td>OO</td><td>4573</td><td>DEN</td><td>LAX</td><td>1035</td><td>1110.0</td><td>35.0</td><td>17.0</td><td>1127.0</td><td>1216.0</td><td>17.0</td><td>1214</td><td>1233.0</td><td>19.0</td><td>0.0</td><td>null</td><td>0.0</td><td>159.0</td><td>143.0</td><td>109.0</td><td>862.0</td><td>4.0</td><td>0.0</td><td>0.0</td><td>0.0</td><td>15.0</td><td>1</td></tr>\n",
       "</table>\n",
       "only showing top 20 rows\n"
      ],
      "text/plain": [
       "+----------+----------+-----------------+------+----+------------+--------+---------+--------+----------+---------+-------+------------+--------+---------+---------+-----------------+--------+----------------+-------------------+--------+--------+-------------+-------------+---------+--------------+-------------------+--------+\n",
       "|   FL_DATE|OP_CARRIER|OP_CARRIER_FL_NUM|ORIGIN|DEST|CRS_DEP_TIME|DEP_TIME|DEP_DELAY|TAXI_OUT|WHEELS_OFF|WHEELS_ON|TAXI_IN|CRS_ARR_TIME|ARR_TIME|ARR_DELAY|CANCELLED|CANCELLATION_CODE|DIVERTED|CRS_ELAPSED_TIME|ACTUAL_ELAPSED_TIME|AIR_TIME|DISTANCE|CARRIER_DELAY|WEATHER_DELAY|NAS_DELAY|SECURITY_DELAY|LATE_AIRCRAFT_DELAY|ATRASADO|\n",
       "+----------+----------+-----------------+------+----+------------+--------+---------+--------+----------+---------+-------+------------+--------+---------+---------+-----------------+--------+----------------+-------------------+--------+--------+-------------+-------------+---------+--------------+-------------------+--------+\n",
       "|2017-05-23|        OO|             4558|   GTF| SLC|        1745|  1740.0|     -5.0|    10.0|    1750.0|   1854.0|    6.0|        1917|  1900.0|    -17.0|      0.0|             null|     0.0|            92.0|               80.0|    64.0|   463.0|         null|         null|     null|          null|               null|       0|\n",
       "|2017-05-23|        OO|             4558|   SLC| GTF|        1540|  1533.0|     -7.0|    14.0|    1547.0|   1656.0|    5.0|        1715|  1701.0|    -14.0|      0.0|             null|     0.0|            95.0|               88.0|    69.0|   463.0|         null|         null|     null|          null|               null|       0|\n",
       "|2017-05-23|        OO|             4560|   SEA| DEN|        1900|  2012.0|     72.0|     9.0|    2021.0|   2325.0|   17.0|        2248|  2342.0|     54.0|      0.0|             null|     0.0|           168.0|              150.0|   124.0|  1024.0|          0.0|          0.0|      0.0|           0.0|               54.0|       1|\n",
       "|2017-05-23|        OO|             4561|   PSC| SEA|        1700|  1651.0|     -9.0|    13.0|    1704.0|   1740.0|    7.0|        1803|  1747.0|    -16.0|      0.0|             null|     0.0|            63.0|               56.0|    36.0|   172.0|         null|         null|     null|          null|               null|       0|\n",
       "|2017-05-23|        OO|             4561|   SEA| PSC|        1515|  1515.0|      0.0|    18.0|    1533.0|   1602.0|    4.0|        1619|  1606.0|    -13.0|      0.0|             null|     0.0|            64.0|               51.0|    29.0|   172.0|         null|         null|     null|          null|               null|       0|\n",
       "|2017-05-23|        OO|             4562|   DTW| TVC|        1200|  1157.0|     -3.0|    20.0|    1217.0|   1254.0|    6.0|        1306|  1300.0|     -6.0|      0.0|             null|     0.0|            66.0|               63.0|    37.0|   207.0|         null|         null|     null|          null|               null|       0|\n",
       "|2017-05-23|        OO|             4562|   TVC| DTW|        1342|  1332.0|    -10.0|    14.0|    1346.0|   1437.0|   11.0|        1445|  1448.0|      3.0|      0.0|             null|     0.0|            63.0|               76.0|    51.0|   207.0|         null|         null|     null|          null|               null|       0|\n",
       "|2017-05-23|        OO|             4563|   BIS| MSP|        1950|  1939.0|    -11.0|    15.0|    1954.0|   2100.0|    7.0|        2116|  2107.0|     -9.0|      0.0|             null|     0.0|            86.0|               88.0|    66.0|   386.0|         null|         null|     null|          null|               null|       0|\n",
       "|2017-05-23|        OO|             4563|   MSP| BIS|        1740|  1735.0|     -5.0|    26.0|    1801.0|   1900.0|    4.0|        1920|  1904.0|    -16.0|      0.0|             null|     0.0|           100.0|               89.0|    59.0|   386.0|         null|         null|     null|          null|               null|       0|\n",
       "|2017-05-23|        OO|             4564|   CHA| DTW|        1905|  1901.0|     -4.0|     7.0|    1908.0|   2021.0|   10.0|        2059|  2031.0|    -28.0|      0.0|             null|     0.0|           114.0|               90.0|    73.0|   505.0|         null|         null|     null|          null|               null|       0|\n",
       "|2017-05-23|        OO|             4565|   OKC| SLC|        1817|  1814.0|     -3.0|    10.0|    1824.0|   1923.0|    4.0|        1945|  1927.0|    -18.0|      0.0|             null|     0.0|           148.0|              133.0|   119.0|   866.0|         null|         null|     null|          null|               null|       0|\n",
       "|2017-05-23|        OO|             4565|   SLC| OKC|        1423|  1422.0|     -1.0|    15.0|    1437.0|   1730.0|    6.0|        1740|  1736.0|     -4.0|      0.0|             null|     0.0|           137.0|              134.0|   113.0|   866.0|         null|         null|     null|          null|               null|       0|\n",
       "|2017-05-23|        OO|             4566|   SLC| RDM|        2200|  2154.0|     -6.0|    13.0|    2207.0|   2222.0|    3.0|        2231|  2225.0|     -6.0|      0.0|             null|     0.0|            91.0|               91.0|    75.0|   525.0|         null|         null|     null|          null|               null|       0|\n",
       "|2017-05-23|        OO|             4567|   SEA| SJC|        1115|  1111.0|     -4.0|     9.0|    1120.0|   1309.0|    5.0|        1339|  1314.0|    -25.0|      0.0|             null|     0.0|           144.0|              123.0|   109.0|   696.0|         null|         null|     null|          null|               null|       0|\n",
       "|2017-05-23|        OO|             4567|   SJC| SEA|        1413|  1403.0|    -10.0|     9.0|    1412.0|   1555.0|    5.0|        1629|  1600.0|    -29.0|      0.0|             null|     0.0|           136.0|              117.0|   103.0|   696.0|         null|         null|     null|          null|               null|       0|\n",
       "|2017-05-23|        OO|             4568|   MSP| LNK|        2010|  2007.0|     -3.0|    27.0|    2034.0|   2119.0|    4.0|        2139|  2123.0|    -16.0|      0.0|             null|     0.0|            89.0|               76.0|    45.0|   331.0|         null|         null|     null|          null|               null|       0|\n",
       "|2017-05-23|        OO|             4570|   SBN| DTW|        1730|  1725.0|     -5.0|    12.0|    1737.0|   1809.0|    8.0|        1836|  1817.0|    -19.0|      0.0|             null|     0.0|            66.0|               52.0|    32.0|   157.0|         null|         null|     null|          null|               null|       0|\n",
       "|2017-05-23|        OO|             4571|   SFO| SEA|        1020|  1325.0|    185.0|    35.0|    1400.0|   1536.0|    8.0|        1231|  1544.0|    193.0|      0.0|             null|     0.0|           131.0|              139.0|    96.0|   679.0|          0.0|          0.0|      8.0|           0.0|              185.0|       1|\n",
       "|2017-05-23|        OO|             4572|   SLC| FAT|        2030|  2026.0|     -4.0|    25.0|    2051.0|   2058.0|    5.0|        2109|  2103.0|     -6.0|      0.0|             null|     0.0|            99.0|               97.0|    67.0|   501.0|         null|         null|     null|          null|               null|       0|\n",
       "|2017-05-23|        OO|             4573|   DEN| LAX|        1035|  1110.0|     35.0|    17.0|    1127.0|   1216.0|   17.0|        1214|  1233.0|     19.0|      0.0|             null|     0.0|           159.0|              143.0|   109.0|   862.0|          4.0|          0.0|      0.0|           0.0|               15.0|       1|\n",
       "+----------+----------+-----------------+------+----+------------+--------+---------+--------+----------+---------+-------+------------+--------+---------+---------+-----------------+--------+----------------+-------------------+--------+--------+-------------+-------------+---------+--------------+-------------------+--------+\n",
       "only showing top 20 rows"
      ]
     },
     "execution_count": 62,
     "metadata": {},
     "output_type": "execute_result"
    }
   ],
   "source": [
    "df_parqt"
   ]
  },
  {
   "cell_type": "code",
   "execution_count": null,
   "id": "4b1a2d9d",
   "metadata": {},
   "outputs": [],
   "source": []
  }
 ],
 "metadata": {
  "kernelspec": {
   "display_name": "Python 3 (ipykernel)",
   "language": "python",
   "name": "python3"
  },
  "language_info": {
   "codemirror_mode": {
    "name": "ipython",
    "version": 3
   },
   "file_extension": ".py",
   "mimetype": "text/x-python",
   "name": "python",
   "nbconvert_exporter": "python",
   "pygments_lexer": "ipython3",
   "version": "3.10.9"
  }
 },
 "nbformat": 4,
 "nbformat_minor": 5
}
