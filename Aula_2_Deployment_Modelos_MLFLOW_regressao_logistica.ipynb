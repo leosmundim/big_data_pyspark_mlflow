{
 "cells": [
  {
   "cell_type": "code",
   "execution_count": 2,
   "id": "45fd4bae",
   "metadata": {},
   "outputs": [],
   "source": [
    "import pandas as pd\n",
    "import numpy as np\n",
    "import seaborn as sns\n",
    "import matplotlib.pyplot as plt\n",
    "import plotly.express as px"
   ]
  },
  {
   "cell_type": "markdown",
   "id": "ca0504cf",
   "metadata": {},
   "source": [
    "# Deployment de Modelos Utilizando MLFlow\n",
    "\n",
    "Exemplo da AULA - BIG DATA E DEPLOYMENT DE MODELOES - Prof. Helder Prado <BR>\n",
    "AULA MINISTRADA EM R E TRADUZIDA PARA PYTHON COMO FORMA DE APRENDIZADO.\n",
    "\n",
    "Ferramenta de Gerenciamento e Deployment de Modelos.\n",
    "    \n",
    "Modelo Logístico para aplicar Segundo Experimento no MLFlow"
   ]
  },
  {
   "cell_type": "code",
   "execution_count": 3,
   "id": "924f6352",
   "metadata": {},
   "outputs": [
    {
     "data": {
      "text/html": [
       "<div>\n",
       "<style scoped>\n",
       "    .dataframe tbody tr th:only-of-type {\n",
       "        vertical-align: middle;\n",
       "    }\n",
       "\n",
       "    .dataframe tbody tr th {\n",
       "        vertical-align: top;\n",
       "    }\n",
       "\n",
       "    .dataframe thead th {\n",
       "        text-align: right;\n",
       "    }\n",
       "</style>\n",
       "<table border=\"1\" class=\"dataframe\">\n",
       "  <thead>\n",
       "    <tr style=\"text-align: right;\">\n",
       "      <th></th>\n",
       "      <th>male</th>\n",
       "      <th>age</th>\n",
       "      <th>education</th>\n",
       "      <th>currentSmoker</th>\n",
       "      <th>cigsPerDay</th>\n",
       "      <th>BPMeds</th>\n",
       "      <th>prevalentStroke</th>\n",
       "      <th>prevalentHyp</th>\n",
       "      <th>diabetes</th>\n",
       "      <th>totChol</th>\n",
       "      <th>sysBP</th>\n",
       "      <th>diaBP</th>\n",
       "      <th>BMI</th>\n",
       "      <th>heartRate</th>\n",
       "      <th>glucose</th>\n",
       "      <th>TenYearCHD</th>\n",
       "    </tr>\n",
       "  </thead>\n",
       "  <tbody>\n",
       "    <tr>\n",
       "      <th>0</th>\n",
       "      <td>1</td>\n",
       "      <td>39</td>\n",
       "      <td>1</td>\n",
       "      <td>0</td>\n",
       "      <td>0.0</td>\n",
       "      <td>0.0</td>\n",
       "      <td>0</td>\n",
       "      <td>0</td>\n",
       "      <td>0</td>\n",
       "      <td>195.0</td>\n",
       "      <td>106.0</td>\n",
       "      <td>70.0</td>\n",
       "      <td>26.97</td>\n",
       "      <td>80.0</td>\n",
       "      <td>77.0</td>\n",
       "      <td>0</td>\n",
       "    </tr>\n",
       "    <tr>\n",
       "      <th>1</th>\n",
       "      <td>0</td>\n",
       "      <td>46</td>\n",
       "      <td>0</td>\n",
       "      <td>0</td>\n",
       "      <td>0.0</td>\n",
       "      <td>0.0</td>\n",
       "      <td>0</td>\n",
       "      <td>0</td>\n",
       "      <td>0</td>\n",
       "      <td>250.0</td>\n",
       "      <td>121.0</td>\n",
       "      <td>81.0</td>\n",
       "      <td>28.73</td>\n",
       "      <td>95.0</td>\n",
       "      <td>76.0</td>\n",
       "      <td>0</td>\n",
       "    </tr>\n",
       "    <tr>\n",
       "      <th>2</th>\n",
       "      <td>1</td>\n",
       "      <td>48</td>\n",
       "      <td>0</td>\n",
       "      <td>1</td>\n",
       "      <td>20.0</td>\n",
       "      <td>0.0</td>\n",
       "      <td>0</td>\n",
       "      <td>0</td>\n",
       "      <td>0</td>\n",
       "      <td>245.0</td>\n",
       "      <td>127.5</td>\n",
       "      <td>80.0</td>\n",
       "      <td>25.34</td>\n",
       "      <td>75.0</td>\n",
       "      <td>70.0</td>\n",
       "      <td>0</td>\n",
       "    </tr>\n",
       "    <tr>\n",
       "      <th>3</th>\n",
       "      <td>0</td>\n",
       "      <td>61</td>\n",
       "      <td>1</td>\n",
       "      <td>1</td>\n",
       "      <td>30.0</td>\n",
       "      <td>0.0</td>\n",
       "      <td>0</td>\n",
       "      <td>1</td>\n",
       "      <td>0</td>\n",
       "      <td>225.0</td>\n",
       "      <td>150.0</td>\n",
       "      <td>95.0</td>\n",
       "      <td>28.58</td>\n",
       "      <td>65.0</td>\n",
       "      <td>103.0</td>\n",
       "      <td>1</td>\n",
       "    </tr>\n",
       "    <tr>\n",
       "      <th>4</th>\n",
       "      <td>0</td>\n",
       "      <td>46</td>\n",
       "      <td>1</td>\n",
       "      <td>1</td>\n",
       "      <td>23.0</td>\n",
       "      <td>0.0</td>\n",
       "      <td>0</td>\n",
       "      <td>0</td>\n",
       "      <td>0</td>\n",
       "      <td>285.0</td>\n",
       "      <td>130.0</td>\n",
       "      <td>84.0</td>\n",
       "      <td>23.10</td>\n",
       "      <td>85.0</td>\n",
       "      <td>85.0</td>\n",
       "      <td>0</td>\n",
       "    </tr>\n",
       "    <tr>\n",
       "      <th>...</th>\n",
       "      <td>...</td>\n",
       "      <td>...</td>\n",
       "      <td>...</td>\n",
       "      <td>...</td>\n",
       "      <td>...</td>\n",
       "      <td>...</td>\n",
       "      <td>...</td>\n",
       "      <td>...</td>\n",
       "      <td>...</td>\n",
       "      <td>...</td>\n",
       "      <td>...</td>\n",
       "      <td>...</td>\n",
       "      <td>...</td>\n",
       "      <td>...</td>\n",
       "      <td>...</td>\n",
       "      <td>...</td>\n",
       "    </tr>\n",
       "    <tr>\n",
       "      <th>4128</th>\n",
       "      <td>1</td>\n",
       "      <td>50</td>\n",
       "      <td>0</td>\n",
       "      <td>1</td>\n",
       "      <td>1.0</td>\n",
       "      <td>0.0</td>\n",
       "      <td>0</td>\n",
       "      <td>1</td>\n",
       "      <td>0</td>\n",
       "      <td>313.0</td>\n",
       "      <td>179.0</td>\n",
       "      <td>92.0</td>\n",
       "      <td>25.97</td>\n",
       "      <td>66.0</td>\n",
       "      <td>86.0</td>\n",
       "      <td>1</td>\n",
       "    </tr>\n",
       "    <tr>\n",
       "      <th>4129</th>\n",
       "      <td>1</td>\n",
       "      <td>51</td>\n",
       "      <td>1</td>\n",
       "      <td>1</td>\n",
       "      <td>43.0</td>\n",
       "      <td>0.0</td>\n",
       "      <td>0</td>\n",
       "      <td>0</td>\n",
       "      <td>0</td>\n",
       "      <td>207.0</td>\n",
       "      <td>126.5</td>\n",
       "      <td>80.0</td>\n",
       "      <td>19.71</td>\n",
       "      <td>65.0</td>\n",
       "      <td>68.0</td>\n",
       "      <td>0</td>\n",
       "    </tr>\n",
       "    <tr>\n",
       "      <th>4130</th>\n",
       "      <td>0</td>\n",
       "      <td>48</td>\n",
       "      <td>0</td>\n",
       "      <td>1</td>\n",
       "      <td>20.0</td>\n",
       "      <td>0.0</td>\n",
       "      <td>0</td>\n",
       "      <td>0</td>\n",
       "      <td>0</td>\n",
       "      <td>248.0</td>\n",
       "      <td>131.0</td>\n",
       "      <td>72.0</td>\n",
       "      <td>22.00</td>\n",
       "      <td>84.0</td>\n",
       "      <td>86.0</td>\n",
       "      <td>0</td>\n",
       "    </tr>\n",
       "    <tr>\n",
       "      <th>4131</th>\n",
       "      <td>0</td>\n",
       "      <td>44</td>\n",
       "      <td>0</td>\n",
       "      <td>1</td>\n",
       "      <td>15.0</td>\n",
       "      <td>0.0</td>\n",
       "      <td>0</td>\n",
       "      <td>0</td>\n",
       "      <td>0</td>\n",
       "      <td>210.0</td>\n",
       "      <td>126.5</td>\n",
       "      <td>87.0</td>\n",
       "      <td>19.16</td>\n",
       "      <td>86.0</td>\n",
       "      <td>82.0</td>\n",
       "      <td>0</td>\n",
       "    </tr>\n",
       "    <tr>\n",
       "      <th>4132</th>\n",
       "      <td>0</td>\n",
       "      <td>52</td>\n",
       "      <td>0</td>\n",
       "      <td>0</td>\n",
       "      <td>0.0</td>\n",
       "      <td>0.0</td>\n",
       "      <td>0</td>\n",
       "      <td>0</td>\n",
       "      <td>0</td>\n",
       "      <td>269.0</td>\n",
       "      <td>133.5</td>\n",
       "      <td>83.0</td>\n",
       "      <td>21.47</td>\n",
       "      <td>80.0</td>\n",
       "      <td>107.0</td>\n",
       "      <td>0</td>\n",
       "    </tr>\n",
       "  </tbody>\n",
       "</table>\n",
       "<p>4133 rows × 16 columns</p>\n",
       "</div>"
      ],
      "text/plain": [
       "      male  age  education  currentSmoker  cigsPerDay  BPMeds  \\\n",
       "0        1   39          1              0         0.0     0.0   \n",
       "1        0   46          0              0         0.0     0.0   \n",
       "2        1   48          0              1        20.0     0.0   \n",
       "3        0   61          1              1        30.0     0.0   \n",
       "4        0   46          1              1        23.0     0.0   \n",
       "...    ...  ...        ...            ...         ...     ...   \n",
       "4128     1   50          0              1         1.0     0.0   \n",
       "4129     1   51          1              1        43.0     0.0   \n",
       "4130     0   48          0              1        20.0     0.0   \n",
       "4131     0   44          0              1        15.0     0.0   \n",
       "4132     0   52          0              0         0.0     0.0   \n",
       "\n",
       "      prevalentStroke  prevalentHyp  diabetes  totChol  sysBP  diaBP    BMI  \\\n",
       "0                   0             0         0    195.0  106.0   70.0  26.97   \n",
       "1                   0             0         0    250.0  121.0   81.0  28.73   \n",
       "2                   0             0         0    245.0  127.5   80.0  25.34   \n",
       "3                   0             1         0    225.0  150.0   95.0  28.58   \n",
       "4                   0             0         0    285.0  130.0   84.0  23.10   \n",
       "...               ...           ...       ...      ...    ...    ...    ...   \n",
       "4128                0             1         0    313.0  179.0   92.0  25.97   \n",
       "4129                0             0         0    207.0  126.5   80.0  19.71   \n",
       "4130                0             0         0    248.0  131.0   72.0  22.00   \n",
       "4131                0             0         0    210.0  126.5   87.0  19.16   \n",
       "4132                0             0         0    269.0  133.5   83.0  21.47   \n",
       "\n",
       "      heartRate  glucose  TenYearCHD  \n",
       "0          80.0     77.0           0  \n",
       "1          95.0     76.0           0  \n",
       "2          75.0     70.0           0  \n",
       "3          65.0    103.0           1  \n",
       "4          85.0     85.0           0  \n",
       "...         ...      ...         ...  \n",
       "4128       66.0     86.0           1  \n",
       "4129       65.0     68.0           0  \n",
       "4130       84.0     86.0           0  \n",
       "4131       86.0     82.0           0  \n",
       "4132       80.0    107.0           0  \n",
       "\n",
       "[4133 rows x 16 columns]"
      ]
     },
     "execution_count": 3,
     "metadata": {},
     "output_type": "execute_result"
    }
   ],
   "source": [
    "chd_dados = pd.read_csv('bases\\CHD_preprocessed.csv')\n",
    "chd_dados"
   ]
  },
  {
   "cell_type": "code",
   "execution_count": 4,
   "id": "445c1c84",
   "metadata": {},
   "outputs": [
    {
     "name": "stdout",
     "output_type": "stream",
     "text": [
      "<class 'pandas.core.frame.DataFrame'>\n",
      "RangeIndex: 4133 entries, 0 to 4132\n",
      "Data columns (total 16 columns):\n",
      " #   Column           Non-Null Count  Dtype  \n",
      "---  ------           --------------  -----  \n",
      " 0   male             4133 non-null   int64  \n",
      " 1   age              4133 non-null   int64  \n",
      " 2   education        4133 non-null   int64  \n",
      " 3   currentSmoker    4133 non-null   int64  \n",
      " 4   cigsPerDay       4133 non-null   float64\n",
      " 5   BPMeds           4133 non-null   float64\n",
      " 6   prevalentStroke  4133 non-null   int64  \n",
      " 7   prevalentHyp     4133 non-null   int64  \n",
      " 8   diabetes         4133 non-null   int64  \n",
      " 9   totChol          4133 non-null   float64\n",
      " 10  sysBP            4133 non-null   float64\n",
      " 11  diaBP            4133 non-null   float64\n",
      " 12  BMI              4133 non-null   float64\n",
      " 13  heartRate        4133 non-null   float64\n",
      " 14  glucose          4133 non-null   float64\n",
      " 15  TenYearCHD       4133 non-null   int64  \n",
      "dtypes: float64(8), int64(8)\n",
      "memory usage: 516.8 KB\n"
     ]
    }
   ],
   "source": [
    "chd_dados.info()"
   ]
  },
  {
   "cell_type": "markdown",
   "id": "3323ffa5",
   "metadata": {},
   "source": [
    "# Aplicando Modelo"
   ]
  },
  {
   "cell_type": "code",
   "execution_count": 50,
   "id": "f65457ec",
   "metadata": {},
   "outputs": [],
   "source": [
    "import statsmodels.formula.api as smf\n",
    "import statsmodels.api as sm\n",
    "\n",
    "modelo_inicial = smf.glm(formula='TenYearCHD ~ age + education + cigsPerDay', data=chd_dados,\n",
    "                         family=sm.families.Binomial()).fit()"
   ]
  },
  {
   "cell_type": "code",
   "execution_count": 52,
   "id": "d2cdc890",
   "metadata": {},
   "outputs": [
    {
     "data": {
      "text/html": [
       "<table class=\"simpletable\">\n",
       "<caption>Generalized Linear Model Regression Results</caption>\n",
       "<tr>\n",
       "  <th>Dep. Variable:</th>      <td>TenYearCHD</td>    <th>  No. Observations:  </th>  <td>  4133</td> \n",
       "</tr>\n",
       "<tr>\n",
       "  <th>Model:</th>                  <td>GLM</td>       <th>  Df Residuals:      </th>  <td>  4129</td> \n",
       "</tr>\n",
       "<tr>\n",
       "  <th>Model Family:</th>        <td>Binomial</td>     <th>  Df Model:          </th>  <td>     3</td> \n",
       "</tr>\n",
       "<tr>\n",
       "  <th>Link Function:</th>         <td>Logit</td>      <th>  Scale:             </th> <td>  1.0000</td>\n",
       "</tr>\n",
       "<tr>\n",
       "  <th>Method:</th>                <td>IRLS</td>       <th>  Log-Likelihood:    </th> <td> -1631.1</td>\n",
       "</tr>\n",
       "<tr>\n",
       "  <th>Date:</th>            <td>Wed, 10 May 2023</td> <th>  Deviance:          </th> <td>  3262.1</td>\n",
       "</tr>\n",
       "<tr>\n",
       "  <th>Time:</th>                <td>19:10:41</td>     <th>  Pearson chi2:      </th> <td>4.04e+03</td>\n",
       "</tr>\n",
       "<tr>\n",
       "  <th>No. Iterations:</th>          <td>5</td>        <th>  Pseudo R-squ. (CS):</th>  <td>0.06092</td>\n",
       "</tr>\n",
       "<tr>\n",
       "  <th>Covariance Type:</th>     <td>nonrobust</td>    <th>                     </th>     <td> </td>   \n",
       "</tr>\n",
       "</table>\n",
       "<table class=\"simpletable\">\n",
       "<tr>\n",
       "       <td></td>         <th>coef</th>     <th>std err</th>      <th>z</th>      <th>P>|z|</th>  <th>[0.025</th>    <th>0.975]</th>  \n",
       "</tr>\n",
       "<tr>\n",
       "  <th>Intercept</th>  <td>   -6.2839</td> <td>    0.319</td> <td>  -19.728</td> <td> 0.000</td> <td>   -6.908</td> <td>   -5.660</td>\n",
       "</tr>\n",
       "<tr>\n",
       "  <th>age</th>        <td>    0.0842</td> <td>    0.006</td> <td>   14.963</td> <td> 0.000</td> <td>    0.073</td> <td>    0.095</td>\n",
       "</tr>\n",
       "<tr>\n",
       "  <th>education</th>  <td>   -0.0381</td> <td>    0.103</td> <td>   -0.370</td> <td> 0.711</td> <td>   -0.240</td> <td>    0.164</td>\n",
       "</tr>\n",
       "<tr>\n",
       "  <th>cigsPerDay</th> <td>    0.0246</td> <td>    0.004</td> <td>    6.767</td> <td> 0.000</td> <td>    0.017</td> <td>    0.032</td>\n",
       "</tr>\n",
       "</table>"
      ],
      "text/plain": [
       "<class 'statsmodels.iolib.summary.Summary'>\n",
       "\"\"\"\n",
       "                 Generalized Linear Model Regression Results                  \n",
       "==============================================================================\n",
       "Dep. Variable:             TenYearCHD   No. Observations:                 4133\n",
       "Model:                            GLM   Df Residuals:                     4129\n",
       "Model Family:                Binomial   Df Model:                            3\n",
       "Link Function:                  Logit   Scale:                          1.0000\n",
       "Method:                          IRLS   Log-Likelihood:                -1631.1\n",
       "Date:                Wed, 10 May 2023   Deviance:                       3262.1\n",
       "Time:                        19:10:41   Pearson chi2:                 4.04e+03\n",
       "No. Iterations:                     5   Pseudo R-squ. (CS):            0.06092\n",
       "Covariance Type:            nonrobust                                         \n",
       "==============================================================================\n",
       "                 coef    std err          z      P>|z|      [0.025      0.975]\n",
       "------------------------------------------------------------------------------\n",
       "Intercept     -6.2839      0.319    -19.728      0.000      -6.908      -5.660\n",
       "age            0.0842      0.006     14.963      0.000       0.073       0.095\n",
       "education     -0.0381      0.103     -0.370      0.711      -0.240       0.164\n",
       "cigsPerDay     0.0246      0.004      6.767      0.000       0.017       0.032\n",
       "==============================================================================\n",
       "\"\"\""
      ]
     },
     "execution_count": 52,
     "metadata": {},
     "output_type": "execute_result"
    }
   ],
   "source": [
    "modelo_inicial.summary()"
   ]
  },
  {
   "cell_type": "code",
   "execution_count": 10,
   "id": "03b1410c",
   "metadata": {},
   "outputs": [],
   "source": [
    "y_hat = modelo_inicial.fittedvalues"
   ]
  },
  {
   "cell_type": "code",
   "execution_count": 11,
   "id": "3af709ba",
   "metadata": {},
   "outputs": [
    {
     "data": {
      "text/plain": [
       "0       0.045794\n",
       "1       0.082490\n",
       "2       0.148304\n",
       "3       0.390630\n",
       "4       0.132317\n",
       "          ...   \n",
       "4128    0.114315\n",
       "4129    0.275501\n",
       "4130    0.148304\n",
       "4131    0.099030\n",
       "4132    0.129706\n",
       "Length: 4133, dtype: float64"
      ]
     },
     "execution_count": 11,
     "metadata": {},
     "output_type": "execute_result"
    }
   ],
   "source": [
    "y_hat"
   ]
  },
  {
   "cell_type": "markdown",
   "id": "9f2f8732",
   "metadata": {},
   "source": [
    "## Confusion Matrix e Cut-off"
   ]
  },
  {
   "cell_type": "code",
   "execution_count": 12,
   "id": "e46188c0",
   "metadata": {},
   "outputs": [],
   "source": [
    "from sklearn.metrics import confusion_matrix, accuracy_score,\\\n",
    "    ConfusionMatrixDisplay, recall_score\n",
    "\n",
    "def matriz_confusao(observado,predicts,cutoff):\n",
    "    \n",
    "    values = predicts.values\n",
    "    \n",
    "    predicao_binaria = []\n",
    "    \n",
    "    for item in values:\n",
    "        if item >= cutoff:\n",
    "            predicao_binaria.append(1)\n",
    "        else:\n",
    "            predicao_binaria.append(0)\n",
    "    \n",
    "    cm = confusion_matrix(observado, predicao_binaria)\n",
    "    disp = ConfusionMatrixDisplay(confusion_matrix=cm)\n",
    "    disp.plot()\n",
    "    plt.show()\n",
    "    \n",
    "    sensitividade = recall_score(observado, predicao_binaria, pos_label=1)\n",
    "    especificidadee = recall_score(observado, predicao_binaria, pos_label=0)\n",
    "    acuracia = accuracy_score(observado, predicao_binaria)\n",
    "\n",
    "    #Visualizando os principais indicadores desta matriz de confusão\n",
    "    indicadores = pd.DataFrame({'Sensitividade':[sensitividade],\n",
    "                                'Especificidade':[especificidadee],\n",
    "                                'Acurácia':[acuracia]})\n",
    "    return indicadores"
   ]
  },
  {
   "cell_type": "code",
   "execution_count": 13,
   "id": "ffc821bb",
   "metadata": {},
   "outputs": [
    {
     "data": {
      "image/png": "[encoded data removed]",
      "text/plain": [
       "<Figure size 640x480 with 2 Axes>"
      ]
     },
     "metadata": {},
     "output_type": "display_data"
    },
    {
     "data": {
      "text/html": [
       "<div>\n",
       "<style scoped>\n",
       "    .dataframe tbody tr th:only-of-type {\n",
       "        vertical-align: middle;\n",
       "    }\n",
       "\n",
       "    .dataframe tbody tr th {\n",
       "        vertical-align: top;\n",
       "    }\n",
       "\n",
       "    .dataframe thead th {\n",
       "        text-align: right;\n",
       "    }\n",
       "</style>\n",
       "<table border=\"1\" class=\"dataframe\">\n",
       "  <thead>\n",
       "    <tr style=\"text-align: right;\">\n",
       "      <th></th>\n",
       "      <th>Sensitividade</th>\n",
       "      <th>Especificidade</th>\n",
       "      <th>Acurácia</th>\n",
       "    </tr>\n",
       "  </thead>\n",
       "  <tbody>\n",
       "    <tr>\n",
       "      <th>0</th>\n",
       "      <td>0.009554</td>\n",
       "      <td>0.998859</td>\n",
       "      <td>0.848536</td>\n",
       "    </tr>\n",
       "  </tbody>\n",
       "</table>\n",
       "</div>"
      ],
      "text/plain": [
       "   Sensitividade  Especificidade  Acurácia\n",
       "0       0.009554        0.998859  0.848536"
      ]
     },
     "execution_count": 13,
     "metadata": {},
     "output_type": "execute_result"
    }
   ],
   "source": [
    "#Matriz de confusão para cutoff = 0.5\n",
    "matriz_confusao(observado=chd_dados['TenYearCHD'],\n",
    "                predicts=modelo_inicial.fittedvalues, \n",
    "                cutoff=0.5)"
   ]
  },
  {
   "cell_type": "markdown",
   "id": "32466bb5",
   "metadata": {},
   "source": [
    "# Criando Segundo Experimento no MLFLOW"
   ]
  },
  {
   "cell_type": "code",
   "execution_count": 15,
   "id": "86d61925",
   "metadata": {},
   "outputs": [
    {
     "data": {
      "text/plain": [
       "<Experiment: artifact_location='file:///C:/Users/leomu/OneDrive/MBA/Big%20Data/python/mlruns/148266236255055752', creation_time=1683754405484, experiment_id='148266236255055752', last_update_time=1683754405484, lifecycle_stage='active', name='modelo_previsao_doenca', tags={}>"
      ]
     },
     "execution_count": 15,
     "metadata": {},
     "output_type": "execute_result"
    }
   ],
   "source": [
    "import mlflow\n",
    "\n",
    "# Criando Primeiro Experimento\n",
    "mlflow.create_experiment('modelo_previsao_doenca')\n",
    "\n",
    "# Acionando o Experimento - Informa qual Experimento estamos usando no momento\n",
    "mlflow.set_experiment('modelo_previsao_doenca')\n"
   ]
  },
  {
   "cell_type": "markdown",
   "id": "a6e01d44",
   "metadata": {},
   "source": [
    "## Encapsulando o Modelo"
   ]
  },
  {
   "cell_type": "code",
   "execution_count": 55,
   "id": "42070ef6",
   "metadata": {},
   "outputs": [
    {
     "name": "stderr",
     "output_type": "stream",
     "text": [
      "2023/05/10 19:12:21 WARNING mlflow.sklearn: Model was missing function: predict. Not logging python_function flavor!\n"
     ]
    },
    {
     "name": "stdout",
     "output_type": "stream",
     "text": [
      "Acurácia: 0.8485\n"
     ]
    }
   ],
   "source": [
    "with mlflow.start_run():\n",
    "    \n",
    "    # Definindo o Nome da Corrida\n",
    "    mlflow.set_tag('mlflow.runName', 'Modelo Logistico Inicial')\n",
    "\n",
    "    # Adicionando Parâmetros\n",
    "    mlflow.log_param('MODELO', 'LOGÍSTICO')\n",
    "    mlflow.log_param('FORMULA', 'TenYearCHD ~ male + age + cigsPerDay')\n",
    "    \n",
    "    # Modelagem\n",
    "    import statsmodels.formula.api as smf\n",
    "    import statsmodels.api as sm\n",
    "\n",
    "    modelo_encapsulado = smf.glm(formula='TenYearCHD ~ male + age + cigsPerDay', data=chd_dados,\n",
    "                         family=sm.families.Binomial()).fit()\n",
    "    \n",
    "    # Métricas da Performance do Modelo\n",
    "    from sklearn.metrics import accuracy_score\n",
    "    y_pred = modelo_encapsulado.fittedvalues.apply(lambda x: 1 if x>= 0.5 else 0)\n",
    "    acuracia = accuracy_score(chd_dados['TenYearCHD'], y_pred)\n",
    "    \n",
    "    print(f'Acurácia: {acuracia:.4f}')\n",
    "    \n",
    "    # Adiciona as Metricas no MLFLOW\n",
    "    mlflow.log_metric('Acurácia', acuracia)\n",
    "    \n",
    "    # Função Que retorna previsão baseado na variável explicativa (modelo nulo não possui)\n",
    "    def pacote_modelo_encapsulado(x):\n",
    "        return modelo_encapsulado.predict(x)\n",
    "    \n",
    "    # Cria Log do Modelo no MLFLOW\n",
    "    mlflow.sklearn.log_model(pacote_modelo_encapsulado, 'modelo_logistico_doenca')"
   ]
  },
  {
   "cell_type": "markdown",
   "id": "88d54a42",
   "metadata": {},
   "source": [
    "# Modelo Encapsulado Final"
   ]
  },
  {
   "cell_type": "code",
   "execution_count": 56,
   "id": "7f5f07b6",
   "metadata": {},
   "outputs": [
    {
     "name": "stderr",
     "output_type": "stream",
     "text": [
      "2023/05/10 19:12:27 WARNING mlflow.sklearn: Model was missing function: predict. Not logging python_function flavor!\n"
     ]
    },
    {
     "name": "stdout",
     "output_type": "stream",
     "text": [
      "Acurácia: 0.8510\n"
     ]
    }
   ],
   "source": [
    "with mlflow.start_run():\n",
    "    \n",
    "    # Definindo o Nome da Corrida\n",
    "    mlflow.set_tag('mlflow.runName', 'Modelo Logistico Final')\n",
    "\n",
    "    # Adicionando Parâmetros\n",
    "    mlflow.log_param('MODELO', 'LOGÍSTICO')\n",
    "    mlflow.log_param('FORMULA', 'TenYearCHD ~ male + age + cigsPerDay')\n",
    "    \n",
    "    # Modelagem\n",
    "    import statsmodels.formula.api as smf\n",
    "    import statsmodels.api as sm\n",
    "\n",
    "    modelo_encapsulado = smf.glm(formula='TenYearCHD ~ male + age + cigsPerDay + diabetes + totChol + diaBP', \n",
    "                                 data=chd_dados,\n",
    "                                 family=sm.families.Binomial()).fit()\n",
    "    \n",
    "    # Métricas da Performance do Modelo\n",
    "    from sklearn.metrics import accuracy_score\n",
    "    y_pred = modelo_encapsulado.fittedvalues.apply(lambda x: 1 if x>= 0.5 else 0)\n",
    "    acuracia = accuracy_score(chd_dados['TenYearCHD'], y_pred)\n",
    "    \n",
    "    print(f'Acurácia: {acuracia:.4f}')\n",
    "    \n",
    "    # Adiciona as Metricas no MLFLOW\n",
    "    mlflow.log_metric('Acurácia', acuracia)\n",
    "    \n",
    "    # Função Que retorna previsão baseado na variável explicativa (modelo nulo não possui)\n",
    "    def pacote_modelo_encapsulado(x):\n",
    "        return modelo_encapsulado.predict(x)\n",
    "    \n",
    "    # Cria Log do Modelo no MLFLOW\n",
    "    mlflow.sklearn.log_model(pacote_modelo_encapsulado, 'modelo_logistico_doenca')"
   ]
  },
  {
   "cell_type": "code",
   "execution_count": 54,
   "id": "626951eb",
   "metadata": {},
   "outputs": [
    {
     "data": {
      "text/plain": [
       "0    0.194053\n",
       "dtype: float64"
      ]
     },
     "execution_count": 54,
     "metadata": {},
     "output_type": "execute_result"
    }
   ],
   "source": [
    "modelo_inicial.predict(dados_previsao)"
   ]
  },
  {
   "cell_type": "markdown",
   "id": "4b356e08",
   "metadata": {},
   "source": [
    "## Consumindo o Modelo"
   ]
  },
  {
   "cell_type": "code",
   "execution_count": 60,
   "id": "ae827195",
   "metadata": {},
   "outputs": [],
   "source": [
    "dados_previsao = pd.DataFrame({'male':[1],\n",
    "                               'age':[50], \n",
    "                               'cigsPerDay':[50]})"
   ]
  },
  {
   "cell_type": "code",
   "execution_count": 61,
   "id": "7f19d99b",
   "metadata": {},
   "outputs": [],
   "source": [
    "# Consumindo o Modelo em Fase de PRODUÇÃO - LOGISTICO\n",
    "modelo_logistico_doenca = mlflow.sklearn\\\n",
    "    .load_model('models:/modelo_logistico_doenca/production')"
   ]
  },
  {
   "cell_type": "code",
   "execution_count": 62,
   "id": "a959d217",
   "metadata": {},
   "outputs": [
    {
     "data": {
      "text/plain": [
       "0    0.297902\n",
       "dtype: float64"
      ]
     },
     "execution_count": 62,
     "metadata": {},
     "output_type": "execute_result"
    }
   ],
   "source": [
    "modelo_logistico_doenca(dados_previsao)"
   ]
  },
  {
   "cell_type": "markdown",
   "id": "606efb21",
   "metadata": {},
   "source": [
    "**30% de chance de vir a ter problemas cardíacos em 10 anos**"
   ]
  },
  {
   "cell_type": "code",
   "execution_count": null,
   "id": "307b3836",
   "metadata": {},
   "outputs": [],
   "source": []
  }
 ],
 "metadata": {
  "kernelspec": {
   "display_name": "Python 3 (ipykernel)",
   "language": "python",
   "name": "python3"
  },
  "language_info": {
   "codemirror_mode": {
    "name": "ipython",
    "version": 3
   },
   "file_extension": ".py",
   "mimetype": "text/x-python",
   "name": "python",
   "nbconvert_exporter": "python",
   "pygments_lexer": "ipython3",
   "version": "3.10.9"
  }
 },
 "nbformat": 4,
 "nbformat_minor": 5
}
